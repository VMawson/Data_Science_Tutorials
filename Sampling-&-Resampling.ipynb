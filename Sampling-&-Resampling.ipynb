{
 "cells": [
  {
   "cell_type": "markdown",
   "metadata": {},
   "source": [
    "## Sampling"
   ]
  },
  {
   "cell_type": "markdown",
   "metadata": {},
   "source": [
    "Datasets may not always contain all the required information, or may not contain an equal distribution of datapoints. \n",
    "Sampling is used to select a subset of data in order to provide an estimate of the whole population.\n",
    "Sampling also provides a time efficient and cost effective method of dataset analysis due to the smaller dataset size.\n",
    "\n",
    "Sampling Frame- List of items forming a dataset from which the sample is taken\n",
    "\n",
    "Sample size- Number of items to be taken from a dataset which would provide enough information about a population with the required accuracy"
   ]
  },
  {
   "cell_type": "markdown",
   "metadata": {},
   "source": [
    "## Sampling techniques \n",
    "Probability sampling (each sample has the same chance of being selected- best chance to provide a representative sample):\n",
    "- Simple random sampling - each sample is chosen randomly by chance.\n",
    "\n",
    "- Systematic sampling - first sample is selected randomly and others are selected using a fixed sampling interval.\n",
    "\n",
    "- stratified sampling- dataset is divided into subgroups based on different traits, with samples selected from these groups. Used to obtain representation from all subgroups. \n",
    "\n",
    "- Cluster sampling - dataset is split into clusters/ subgroups, where a whole cluster is randomly selected to be used in the study"
   ]
  },
  {
   "cell_type": "markdown",
   "metadata": {},
   "source": [
    "Non Probability Sampling (elements do not have an equal chance of being selected):\n",
    "- Convenience - samples are selected based on their availability and willingness to take part\n",
    "- Quota - based on predetermined characteristics of the population, eg the letter 'L' in someones name \n",
    "- Judgement - depends on the judgment of the selector when choosing whom to ask to participate\n",
    "- Snowball- Existing people are asked to nominate further people known to them so that the sample increases in size\n",
    "    "
   ]
  },
  {
   "cell_type": "markdown",
   "metadata": {},
   "source": [
    "## Examples"
   ]
  },
  {
   "cell_type": "code",
   "execution_count": 1,
   "metadata": {
    "collapsed": true
   },
   "outputs": [],
   "source": [
    "# %load imports.py\n",
    "import pandas as pd\n",
    "import numpy as np\n",
    "import sklearn\n",
    "import matplotlib.pyplot as plt\n",
    "import seaborn as sns\n",
    "from scipy import stats"
   ]
  },
  {
   "cell_type": "markdown",
   "metadata": {},
   "source": [
    "- Random Sampling"
   ]
  },
  {
   "cell_type": "code",
   "execution_count": 2,
   "metadata": {},
   "outputs": [
    {
     "name": "stdout",
     "output_type": "stream",
     "text": [
      "random sample of 10 datapoints [6, 16, 17, 13, 45, 76, 56, 2, 10, 97]\n"
     ]
    }
   ],
   "source": [
    "import random\n",
    "dataset=[45,35,2,8,9,2,4,65,16,23,19,48,97,54,37,7,6,2,5,10,12,15,34,23,87,56,47,2,1,4,3,8,56,45,12,13,17,76,23,23,2,4,5,1,56]\n",
    "sample= random.sample(dataset,10)\n",
    "print('random sample of 10 datapoints', sample)"
   ]
  },
  {
   "cell_type": "code",
   "execution_count": 3,
   "metadata": {},
   "outputs": [
    {
     "data": {
      "text/html": [
       "<div>\n",
       "<style>\n",
       "    .dataframe thead tr:only-child th {\n",
       "        text-align: right;\n",
       "    }\n",
       "\n",
       "    .dataframe thead th {\n",
       "        text-align: left;\n",
       "    }\n",
       "\n",
       "    .dataframe tbody tr th {\n",
       "        vertical-align: top;\n",
       "    }\n",
       "</style>\n",
       "<table border=\"1\" class=\"dataframe\">\n",
       "  <thead>\n",
       "    <tr style=\"text-align: right;\">\n",
       "      <th></th>\n",
       "      <th>date</th>\n",
       "      <th>actual_mean_temp</th>\n",
       "      <th>actual_min_temp</th>\n",
       "      <th>actual_max_temp</th>\n",
       "      <th>average_min_temp</th>\n",
       "      <th>average_max_temp</th>\n",
       "      <th>record_min_temp</th>\n",
       "      <th>record_max_temp</th>\n",
       "      <th>record_min_temp_year</th>\n",
       "      <th>record_max_temp_year</th>\n",
       "      <th>actual_precipitation</th>\n",
       "      <th>average_precipitation</th>\n",
       "      <th>record_precipitation</th>\n",
       "    </tr>\n",
       "  </thead>\n",
       "  <tbody>\n",
       "    <tr>\n",
       "      <th>0</th>\n",
       "      <td>2014-7-1</td>\n",
       "      <td>81</td>\n",
       "      <td>70</td>\n",
       "      <td>91</td>\n",
       "      <td>67</td>\n",
       "      <td>89</td>\n",
       "      <td>56</td>\n",
       "      <td>104</td>\n",
       "      <td>1919</td>\n",
       "      <td>2012</td>\n",
       "      <td>0.00</td>\n",
       "      <td>0.10</td>\n",
       "      <td>5.91</td>\n",
       "    </tr>\n",
       "    <tr>\n",
       "      <th>1</th>\n",
       "      <td>2014-7-2</td>\n",
       "      <td>85</td>\n",
       "      <td>74</td>\n",
       "      <td>95</td>\n",
       "      <td>68</td>\n",
       "      <td>89</td>\n",
       "      <td>56</td>\n",
       "      <td>101</td>\n",
       "      <td>2008</td>\n",
       "      <td>1931</td>\n",
       "      <td>0.00</td>\n",
       "      <td>0.10</td>\n",
       "      <td>1.53</td>\n",
       "    </tr>\n",
       "    <tr>\n",
       "      <th>2</th>\n",
       "      <td>2014-7-3</td>\n",
       "      <td>82</td>\n",
       "      <td>71</td>\n",
       "      <td>93</td>\n",
       "      <td>68</td>\n",
       "      <td>89</td>\n",
       "      <td>56</td>\n",
       "      <td>99</td>\n",
       "      <td>2010</td>\n",
       "      <td>1931</td>\n",
       "      <td>0.14</td>\n",
       "      <td>0.11</td>\n",
       "      <td>2.50</td>\n",
       "    </tr>\n",
       "    <tr>\n",
       "      <th>3</th>\n",
       "      <td>2014-7-4</td>\n",
       "      <td>75</td>\n",
       "      <td>64</td>\n",
       "      <td>86</td>\n",
       "      <td>68</td>\n",
       "      <td>89</td>\n",
       "      <td>55</td>\n",
       "      <td>99</td>\n",
       "      <td>1933</td>\n",
       "      <td>1955</td>\n",
       "      <td>0.00</td>\n",
       "      <td>0.10</td>\n",
       "      <td>2.63</td>\n",
       "    </tr>\n",
       "    <tr>\n",
       "      <th>4</th>\n",
       "      <td>2014-7-5</td>\n",
       "      <td>72</td>\n",
       "      <td>60</td>\n",
       "      <td>84</td>\n",
       "      <td>68</td>\n",
       "      <td>89</td>\n",
       "      <td>57</td>\n",
       "      <td>100</td>\n",
       "      <td>1967</td>\n",
       "      <td>1954</td>\n",
       "      <td>0.00</td>\n",
       "      <td>0.10</td>\n",
       "      <td>1.65</td>\n",
       "    </tr>\n",
       "  </tbody>\n",
       "</table>\n",
       "</div>"
      ],
      "text/plain": [
       "       date  actual_mean_temp  actual_min_temp  actual_max_temp  \\\n",
       "0  2014-7-1                81               70               91   \n",
       "1  2014-7-2                85               74               95   \n",
       "2  2014-7-3                82               71               93   \n",
       "3  2014-7-4                75               64               86   \n",
       "4  2014-7-5                72               60               84   \n",
       "\n",
       "   average_min_temp  average_max_temp  record_min_temp  record_max_temp  \\\n",
       "0                67                89               56              104   \n",
       "1                68                89               56              101   \n",
       "2                68                89               56               99   \n",
       "3                68                89               55               99   \n",
       "4                68                89               57              100   \n",
       "\n",
       "   record_min_temp_year  record_max_temp_year  actual_precipitation  \\\n",
       "0                  1919                  2012                  0.00   \n",
       "1                  2008                  1931                  0.00   \n",
       "2                  2010                  1931                  0.14   \n",
       "3                  1933                  1955                  0.00   \n",
       "4                  1967                  1954                  0.00   \n",
       "\n",
       "   average_precipitation  record_precipitation  \n",
       "0                   0.10                  5.91  \n",
       "1                   0.10                  1.53  \n",
       "2                   0.11                  2.50  \n",
       "3                   0.10                  2.63  \n",
       "4                   0.10                  1.65  "
      ]
     },
     "execution_count": 3,
     "metadata": {},
     "output_type": "execute_result"
    }
   ],
   "source": [
    "data=pd.read_csv('https://raw.githubusercontent.com/fivethirtyeight/data/master/us-weather-history/KCLT.csv')\n",
    "data.head()"
   ]
  },
  {
   "cell_type": "code",
   "execution_count": 4,
   "metadata": {},
   "outputs": [
    {
     "data": {
      "text/html": [
       "<div>\n",
       "<style>\n",
       "    .dataframe thead tr:only-child th {\n",
       "        text-align: right;\n",
       "    }\n",
       "\n",
       "    .dataframe thead th {\n",
       "        text-align: left;\n",
       "    }\n",
       "\n",
       "    .dataframe tbody tr th {\n",
       "        vertical-align: top;\n",
       "    }\n",
       "</style>\n",
       "<table border=\"1\" class=\"dataframe\">\n",
       "  <thead>\n",
       "    <tr style=\"text-align: right;\">\n",
       "      <th></th>\n",
       "      <th>date</th>\n",
       "      <th>actual_mean_temp</th>\n",
       "      <th>actual_min_temp</th>\n",
       "      <th>actual_max_temp</th>\n",
       "      <th>average_min_temp</th>\n",
       "      <th>average_max_temp</th>\n",
       "      <th>record_min_temp</th>\n",
       "      <th>record_max_temp</th>\n",
       "      <th>record_min_temp_year</th>\n",
       "      <th>record_max_temp_year</th>\n",
       "      <th>actual_precipitation</th>\n",
       "      <th>average_precipitation</th>\n",
       "      <th>record_precipitation</th>\n",
       "    </tr>\n",
       "  </thead>\n",
       "  <tbody>\n",
       "    <tr>\n",
       "      <th>207</th>\n",
       "      <td>2015-1-24</td>\n",
       "      <td>43</td>\n",
       "      <td>33</td>\n",
       "      <td>53</td>\n",
       "      <td>30</td>\n",
       "      <td>51</td>\n",
       "      <td>7</td>\n",
       "      <td>74</td>\n",
       "      <td>1963</td>\n",
       "      <td>1967</td>\n",
       "      <td>0.16</td>\n",
       "      <td>0.10</td>\n",
       "      <td>1.79</td>\n",
       "    </tr>\n",
       "    <tr>\n",
       "      <th>189</th>\n",
       "      <td>2015-1-6</td>\n",
       "      <td>41</td>\n",
       "      <td>24</td>\n",
       "      <td>57</td>\n",
       "      <td>30</td>\n",
       "      <td>50</td>\n",
       "      <td>5</td>\n",
       "      <td>73</td>\n",
       "      <td>1884</td>\n",
       "      <td>1950</td>\n",
       "      <td>0.00</td>\n",
       "      <td>0.11</td>\n",
       "      <td>3.45</td>\n",
       "    </tr>\n",
       "    <tr>\n",
       "      <th>297</th>\n",
       "      <td>2015-4-24</td>\n",
       "      <td>54</td>\n",
       "      <td>38</td>\n",
       "      <td>70</td>\n",
       "      <td>49</td>\n",
       "      <td>74</td>\n",
       "      <td>36</td>\n",
       "      <td>96</td>\n",
       "      <td>1893</td>\n",
       "      <td>1925</td>\n",
       "      <td>0.00</td>\n",
       "      <td>0.10</td>\n",
       "      <td>2.33</td>\n",
       "    </tr>\n",
       "    <tr>\n",
       "      <th>98</th>\n",
       "      <td>2014-10-7</td>\n",
       "      <td>67</td>\n",
       "      <td>53</td>\n",
       "      <td>80</td>\n",
       "      <td>52</td>\n",
       "      <td>74</td>\n",
       "      <td>34</td>\n",
       "      <td>91</td>\n",
       "      <td>1935</td>\n",
       "      <td>1951</td>\n",
       "      <td>0.00</td>\n",
       "      <td>0.11</td>\n",
       "      <td>2.70</td>\n",
       "    </tr>\n",
       "    <tr>\n",
       "      <th>318</th>\n",
       "      <td>2015-5-15</td>\n",
       "      <td>73</td>\n",
       "      <td>63</td>\n",
       "      <td>82</td>\n",
       "      <td>56</td>\n",
       "      <td>79</td>\n",
       "      <td>40</td>\n",
       "      <td>94</td>\n",
       "      <td>1888</td>\n",
       "      <td>1962</td>\n",
       "      <td>0.00</td>\n",
       "      <td>0.10</td>\n",
       "      <td>2.11</td>\n",
       "    </tr>\n",
       "  </tbody>\n",
       "</table>\n",
       "</div>"
      ],
      "text/plain": [
       "          date  actual_mean_temp  actual_min_temp  actual_max_temp  \\\n",
       "207  2015-1-24                43               33               53   \n",
       "189   2015-1-6                41               24               57   \n",
       "297  2015-4-24                54               38               70   \n",
       "98   2014-10-7                67               53               80   \n",
       "318  2015-5-15                73               63               82   \n",
       "\n",
       "     average_min_temp  average_max_temp  record_min_temp  record_max_temp  \\\n",
       "207                30                51                7               74   \n",
       "189                30                50                5               73   \n",
       "297                49                74               36               96   \n",
       "98                 52                74               34               91   \n",
       "318                56                79               40               94   \n",
       "\n",
       "     record_min_temp_year  record_max_temp_year  actual_precipitation  \\\n",
       "207                  1963                  1967                  0.16   \n",
       "189                  1884                  1950                  0.00   \n",
       "297                  1893                  1925                  0.00   \n",
       "98                   1935                  1951                  0.00   \n",
       "318                  1888                  1962                  0.00   \n",
       "\n",
       "     average_precipitation  record_precipitation  \n",
       "207                   0.10                  1.79  \n",
       "189                   0.11                  3.45  \n",
       "297                   0.10                  2.33  \n",
       "98                    0.11                  2.70  \n",
       "318                   0.10                  2.11  "
      ]
     },
     "execution_count": 4,
     "metadata": {},
     "output_type": "execute_result"
    }
   ],
   "source": [
    "random_sample=data.sample(n=10).sort_values(by='actual_max_temp')\n",
    "random_sample.head()"
   ]
  },
  {
   "cell_type": "markdown",
   "metadata": {},
   "source": [
    "- systematic sample"
   ]
  },
  {
   "cell_type": "code",
   "execution_count": 5,
   "metadata": {},
   "outputs": [
    {
     "data": {
      "text/html": [
       "<div>\n",
       "<style>\n",
       "    .dataframe thead tr:only-child th {\n",
       "        text-align: right;\n",
       "    }\n",
       "\n",
       "    .dataframe thead th {\n",
       "        text-align: left;\n",
       "    }\n",
       "\n",
       "    .dataframe tbody tr th {\n",
       "        vertical-align: top;\n",
       "    }\n",
       "</style>\n",
       "<table border=\"1\" class=\"dataframe\">\n",
       "  <thead>\n",
       "    <tr style=\"text-align: right;\">\n",
       "      <th></th>\n",
       "      <th>date</th>\n",
       "      <th>actual_mean_temp</th>\n",
       "      <th>actual_min_temp</th>\n",
       "      <th>actual_max_temp</th>\n",
       "      <th>average_min_temp</th>\n",
       "      <th>average_max_temp</th>\n",
       "      <th>record_min_temp</th>\n",
       "      <th>record_max_temp</th>\n",
       "      <th>record_min_temp_year</th>\n",
       "      <th>record_max_temp_year</th>\n",
       "      <th>actual_precipitation</th>\n",
       "      <th>average_precipitation</th>\n",
       "      <th>record_precipitation</th>\n",
       "    </tr>\n",
       "  </thead>\n",
       "  <tbody>\n",
       "    <tr>\n",
       "      <th>178</th>\n",
       "      <td>2014-12-26</td>\n",
       "      <td>43</td>\n",
       "      <td>27</td>\n",
       "      <td>59</td>\n",
       "      <td>30</td>\n",
       "      <td>51</td>\n",
       "      <td>6</td>\n",
       "      <td>76</td>\n",
       "      <td>1983</td>\n",
       "      <td>1889</td>\n",
       "      <td>0.00</td>\n",
       "      <td>0.11</td>\n",
       "      <td>1.72</td>\n",
       "    </tr>\n",
       "    <tr>\n",
       "      <th>182</th>\n",
       "      <td>2014-12-30</td>\n",
       "      <td>39</td>\n",
       "      <td>32</td>\n",
       "      <td>45</td>\n",
       "      <td>30</td>\n",
       "      <td>50</td>\n",
       "      <td>-5</td>\n",
       "      <td>76</td>\n",
       "      <td>1880</td>\n",
       "      <td>1984</td>\n",
       "      <td>0.06</td>\n",
       "      <td>0.10</td>\n",
       "      <td>1.21</td>\n",
       "    </tr>\n",
       "    <tr>\n",
       "      <th>186</th>\n",
       "      <td>2015-1-3</td>\n",
       "      <td>50</td>\n",
       "      <td>47</td>\n",
       "      <td>52</td>\n",
       "      <td>30</td>\n",
       "      <td>50</td>\n",
       "      <td>8</td>\n",
       "      <td>74</td>\n",
       "      <td>1887</td>\n",
       "      <td>2004</td>\n",
       "      <td>0.25</td>\n",
       "      <td>0.11</td>\n",
       "      <td>1.93</td>\n",
       "    </tr>\n",
       "    <tr>\n",
       "      <th>190</th>\n",
       "      <td>2015-1-7</td>\n",
       "      <td>29</td>\n",
       "      <td>16</td>\n",
       "      <td>41</td>\n",
       "      <td>29</td>\n",
       "      <td>50</td>\n",
       "      <td>6</td>\n",
       "      <td>77</td>\n",
       "      <td>2014</td>\n",
       "      <td>1890</td>\n",
       "      <td>0.00</td>\n",
       "      <td>0.12</td>\n",
       "      <td>1.76</td>\n",
       "    </tr>\n",
       "    <tr>\n",
       "      <th>194</th>\n",
       "      <td>2015-1-11</td>\n",
       "      <td>31</td>\n",
       "      <td>15</td>\n",
       "      <td>46</td>\n",
       "      <td>29</td>\n",
       "      <td>50</td>\n",
       "      <td>0</td>\n",
       "      <td>78</td>\n",
       "      <td>1886</td>\n",
       "      <td>1949</td>\n",
       "      <td>0.08</td>\n",
       "      <td>0.12</td>\n",
       "      <td>1.78</td>\n",
       "    </tr>\n",
       "  </tbody>\n",
       "</table>\n",
       "</div>"
      ],
      "text/plain": [
       "           date  actual_mean_temp  actual_min_temp  actual_max_temp  \\\n",
       "178  2014-12-26                43               27               59   \n",
       "182  2014-12-30                39               32               45   \n",
       "186    2015-1-3                50               47               52   \n",
       "190    2015-1-7                29               16               41   \n",
       "194   2015-1-11                31               15               46   \n",
       "\n",
       "     average_min_temp  average_max_temp  record_min_temp  record_max_temp  \\\n",
       "178                30                51                6               76   \n",
       "182                30                50               -5               76   \n",
       "186                30                50                8               74   \n",
       "190                29                50                6               77   \n",
       "194                29                50                0               78   \n",
       "\n",
       "     record_min_temp_year  record_max_temp_year  actual_precipitation  \\\n",
       "178                  1983                  1889                  0.00   \n",
       "182                  1880                  1984                  0.06   \n",
       "186                  1887                  2004                  0.25   \n",
       "190                  2014                  1890                  0.00   \n",
       "194                  1886                  1949                  0.08   \n",
       "\n",
       "     average_precipitation  record_precipitation  \n",
       "178                   0.11                  1.72  \n",
       "182                   0.10                  1.21  \n",
       "186                   0.11                  1.93  \n",
       "190                   0.12                  1.76  \n",
       "194                   0.12                  1.78  "
      ]
     },
     "execution_count": 5,
     "metadata": {},
     "output_type": "execute_result"
    }
   ],
   "source": [
    "\n",
    "# selected a number between 0 and size of dataset to be the starting sample. \n",
    "# then takes samples every n steps from this sample\n",
    "def sys_sample(data, step):\n",
    "    index=np.arange((random.randint(0,len(data))), len(data), step=step)\n",
    "    sample=data.iloc[index]\n",
    "    return sample\n",
    "systematic_sample= sys_sample(data,4)\n",
    "systematic_sample.head()"
   ]
  },
  {
   "cell_type": "markdown",
   "metadata": {},
   "source": [
    "- Stratified sample\n",
    "\n",
    "\n",
    " "
   ]
  },
  {
   "cell_type": "code",
   "execution_count": 6,
   "metadata": {},
   "outputs": [
    {
     "data": {
      "text/html": [
       "<div>\n",
       "<style>\n",
       "    .dataframe thead tr:only-child th {\n",
       "        text-align: right;\n",
       "    }\n",
       "\n",
       "    .dataframe thead th {\n",
       "        text-align: left;\n",
       "    }\n",
       "\n",
       "    .dataframe tbody tr th {\n",
       "        vertical-align: top;\n",
       "    }\n",
       "</style>\n",
       "<table border=\"1\" class=\"dataframe\">\n",
       "  <thead>\n",
       "    <tr style=\"text-align: right;\">\n",
       "      <th></th>\n",
       "      <th>id</th>\n",
       "      <th>number</th>\n",
       "      <th>price</th>\n",
       "    </tr>\n",
       "  </thead>\n",
       "  <tbody>\n",
       "    <tr>\n",
       "      <th>0</th>\n",
       "      <td>1</td>\n",
       "      <td>1</td>\n",
       "      <td>12.99</td>\n",
       "    </tr>\n",
       "    <tr>\n",
       "      <th>1</th>\n",
       "      <td>2</td>\n",
       "      <td>4</td>\n",
       "      <td>12.99</td>\n",
       "    </tr>\n",
       "    <tr>\n",
       "      <th>2</th>\n",
       "      <td>1</td>\n",
       "      <td>5</td>\n",
       "      <td>9.99</td>\n",
       "    </tr>\n",
       "    <tr>\n",
       "      <th>3</th>\n",
       "      <td>2</td>\n",
       "      <td>2</td>\n",
       "      <td>10.00</td>\n",
       "    </tr>\n",
       "    <tr>\n",
       "      <th>4</th>\n",
       "      <td>1</td>\n",
       "      <td>6</td>\n",
       "      <td>10.00</td>\n",
       "    </tr>\n",
       "  </tbody>\n",
       "</table>\n",
       "</div>"
      ],
      "text/plain": [
       "   id  number  price\n",
       "0   1       1  12.99\n",
       "1   2       4  12.99\n",
       "2   1       5   9.99\n",
       "3   2       2  10.00\n",
       "4   1       6  10.00"
      ]
     },
     "execution_count": 6,
     "metadata": {},
     "output_type": "execute_result"
    }
   ],
   "source": [
    "from sklearn.model_selection import StratifiedShuffleSplit\n",
    "data={'id': [1,2,1,2,1,2,1,2],\n",
    "     'number': [1,4,5,2,6,7,4,3],\n",
    "     'price': [12.99,12.99,9.99,10,10,9.99,10,10]}\n",
    "df=pd.DataFrame(data)\n",
    "df.head()\n"
   ]
  },
  {
   "cell_type": "code",
   "execution_count": 7,
   "metadata": {},
   "outputs": [
    {
     "data": {
      "text/html": [
       "<div>\n",
       "<style>\n",
       "    .dataframe thead tr:only-child th {\n",
       "        text-align: right;\n",
       "    }\n",
       "\n",
       "    .dataframe thead th {\n",
       "        text-align: left;\n",
       "    }\n",
       "\n",
       "    .dataframe tbody tr th {\n",
       "        vertical-align: top;\n",
       "    }\n",
       "</style>\n",
       "<table border=\"1\" class=\"dataframe\">\n",
       "  <thead>\n",
       "    <tr style=\"text-align: right;\">\n",
       "      <th></th>\n",
       "      <th>id</th>\n",
       "      <th>number</th>\n",
       "      <th>price</th>\n",
       "    </tr>\n",
       "  </thead>\n",
       "  <tbody>\n",
       "    <tr>\n",
       "      <th>5</th>\n",
       "      <td>2</td>\n",
       "      <td>7</td>\n",
       "      <td>9.99</td>\n",
       "    </tr>\n",
       "    <tr>\n",
       "      <th>0</th>\n",
       "      <td>1</td>\n",
       "      <td>1</td>\n",
       "      <td>12.99</td>\n",
       "    </tr>\n",
       "    <tr>\n",
       "      <th>7</th>\n",
       "      <td>2</td>\n",
       "      <td>3</td>\n",
       "      <td>10.00</td>\n",
       "    </tr>\n",
       "    <tr>\n",
       "      <th>4</th>\n",
       "      <td>1</td>\n",
       "      <td>6</td>\n",
       "      <td>10.00</td>\n",
       "    </tr>\n",
       "  </tbody>\n",
       "</table>\n",
       "</div>"
      ],
      "text/plain": [
       "   id  number  price\n",
       "5   2       7   9.99\n",
       "0   1       1  12.99\n",
       "7   2       3  10.00\n",
       "4   1       6  10.00"
      ]
     },
     "execution_count": 7,
     "metadata": {},
     "output_type": "execute_result"
    }
   ],
   "source": [
    "sample= StratifiedShuffleSplit(n_splits=10, test_size=0.4)\n",
    "\n",
    "for x,y in sample.split(df, df['id']):\n",
    "    newSample=df.iloc[y]\n",
    "newSample.head()"
   ]
  },
  {
   "cell_type": "markdown",
   "metadata": {},
   "source": [
    "- cluster sampling"
   ]
  },
  {
   "cell_type": "markdown",
   "metadata": {},
   "source": [
    "## Resampling\n",
    "Resampling is used when building predictive models to draw samples from a training dataset and fit to a model a number of times in order to ensure that the model has seen all the data and to obtain more information about the model.\n",
    "It is also used to obtain accuracy metrics about a model without requiring new data for testing."
   ]
  },
  {
   "cell_type": "markdown",
   "metadata": {},
   "source": [
    "2 methods-\n",
    "\n",
    "- Cross Validation - eg kfold- dataset is split into k groups/ partitions, where each group is used as the test dataset in turn, the remainder used as the training data.  \n",
    "- Bootstaping- samples are taken from the dataset but are replaced, so each sample is always present in the dataset, allowing it to appear more than once in the bootstrapped samples. Bootstrapping can be used to make estimates about a dataset by averaging repeated statistical measurements"
   ]
  },
  {
   "cell_type": "markdown",
   "metadata": {},
   "source": [
    "## cross validation"
   ]
  },
  {
   "cell_type": "code",
   "execution_count": 8,
   "metadata": {},
   "outputs": [
    {
     "name": "stdout",
     "output_type": "stream",
     "text": [
      "x train: 244, x test: 121\n"
     ]
    }
   ],
   "source": [
    "# Kfold\n",
    "from sklearn.model_selection import KFold\n",
    "data=pd.read_csv('https://raw.githubusercontent.com/fivethirtyeight/data/master/us-weather-history/KCLT.csv')\n",
    "data.head()\n",
    "x= data['actual_mean_temp']\n",
    "y=data['actual_precipitation']\n",
    "kfold= KFold(n_splits=3)\n",
    "\n",
    "# split data into test and train datasets based on the kfold split\n",
    "for train_index, test_index in kfold.split(x):\n",
    "    x_train, x_test, y_train, y_test= x[train_index], x[test_index], y[train_index], y[test_index]\n",
    "\n",
    "print('x train: %d, x test: %d' % (len(x_train),len(x_test)))"
   ]
  },
  {
   "cell_type": "code",
   "execution_count": 9,
   "metadata": {},
   "outputs": [
    {
     "name": "stdout",
     "output_type": "stream",
     "text": [
      "x train: 244, x test: 121\n"
     ]
    }
   ],
   "source": [
    "# Repeated K fold- repeats k fold n times\n",
    "from sklearn.model_selection import RepeatedKFold\n",
    "Rkfold= RepeatedKFold(n_splits=3, n_repeats=2)\n",
    "\n",
    "# split data into test and train datasets based on the kfold split\n",
    "for train_index, test_index in Rkfold.split(x):\n",
    "    x_train, x_test, y_train, y_test= x[train_index], x[test_index], y[train_index], y[test_index]\n",
    "\n",
    "print('x train: %d, x test: %d' % (len(x_train),len(x_test)))"
   ]
  },
  {
   "cell_type": "code",
   "execution_count": null,
   "metadata": {},
   "outputs": [
    {
     "name": "stdout",
     "output_type": "stream",
     "text": [
      "x train: 364, x test: 1\n"
     ]
    }
   ],
   "source": [
    "# Leave one out (LOO) - each training set is made by taking all samples but one\n",
    "# builds n models from n samples, rather than k models. \n",
    "# usually results in high variance. K fold is usually preferable.\n",
    "from sklearn.model_selection import LeaveOneOut\n",
    "loo=LeaveOneOut()\n",
    "for train_index, test_index in loo.split(x):\n",
    "    x_train, x_test, y_train, y_test= x[train_index], x[test_index], y[train_index], y[test_index]\n",
    "\n",
    "print('x train: %d, x test: %d' % (len(x_train),len(x_test)))"
   ]
  },
  {
   "cell_type": "code",
   "execution_count": null,
   "metadata": {
    "collapsed": true
   },
   "outputs": [],
   "source": [
    "# Leave P out (LPO)- similar to LOO but removes p number of samples\n",
    "# however the test will overlap for p >1\n",
    "from sklearn.model_selection import LeavePOut\n",
    "lpo=LeavePOut(p=3)\n",
    "for train_index, test_index in lpo.split(x):\n",
    "    x_train, x_test, y_train, y_test= x[train_index], x[test_index], y[train_index], y[test_index]\n",
    "\n",
    "print('x train: %d, x test: %d' % (len(x_train),len(x_test)))"
   ]
  },
  {
   "cell_type": "code",
   "execution_count": null,
   "metadata": {
    "collapsed": true
   },
   "outputs": [],
   "source": [
    "# Statified K fold- similar to k fold but each set contains the same percentage of samples \n",
    "# of each target class as the complete set\n",
    "from sklearn.model_selection import StratifiedKFold\n",
    "skf = StratifiedKFold(n_splits=3)\n",
    "\n",
    "for train_index, test_index in skf.split(x):\n",
    "    x_train, x_test, y_train, y_test= x[train_index], x[test_index], y[train_index], y[test_index]\n",
    "\n",
    "print('x train: %d, x test: %d' % (len(x_train),len(x_test)))"
   ]
  },
  {
   "cell_type": "code",
   "execution_count": null,
   "metadata": {
    "collapsed": true
   },
   "outputs": [],
   "source": [
    "# group k fold- ensures that the same group is not represented in the test and train datasets\n",
    "from sklearn.model_selection import GroupKFold\n",
    "x=[1,2,1,3,1,2,3,2,3]\n",
    "y= [12.99,12.99,9.99,10,10,9.99,10,10,9.99]\n",
    "groups=[1,1,1,2,2,2,3,3,3]\n",
    "\n",
    "gkf = GroupKFold(n_splits=3)\n",
    "for train_index, test_index in gkf.split(x,y, groups=groups):\n",
    "    x_train, x_test, y_train, y_test= x[train_index], x[test_index], y[train_index], y[test_index]\n",
    "\n",
    "print('x train: %d, x test: %d' % (len(x_train),len(x_test)))"
   ]
  },
  {
   "cell_type": "markdown",
   "metadata": {},
   "source": [
    "## Bootstrapping"
   ]
  },
  {
   "cell_type": "code",
   "execution_count": null,
   "metadata": {
    "collapsed": true
   },
   "outputs": [],
   "source": [
    "# 2 important parameters of bootstrapping is sample size and number of repetitions to peerfomr\n",
    "# sample size is usally the same as the original dataset, but if a set is too large, 50% of the set can be used"
   ]
  },
  {
   "cell_type": "code",
   "execution_count": null,
   "metadata": {
    "collapsed": true
   },
   "outputs": [],
   "source": [
    "from sklearn.utils import resample\n",
    "data=pd.read_csv('https://raw.githubusercontent.com/fivethirtyeight/data/master/us-weather-history/KCLT.csv')\n",
    "\n",
    "\n",
    "#create one bootstrap sample of 10 points\n",
    "bootstrap=resample(data, replace=True, n_samples=10)\n",
    "# use this sample to generate stats\n",
    "bootmax= bootstrap['actual_max_temp'].max()\n",
    "print('bootstrap max temp: ', bootmax, 'actual max temp: ', data['actual_max_temp'].max())\n",
    "\n",
    "print('bootstrap mean temp: ', bootstrap['actual_mean_temp'].mean(), 'actual max temp: ', data['actual_mean_temp'].mean())"
   ]
  },
  {
   "cell_type": "markdown",
   "metadata": {},
   "source": [
    "\n",
    "## Errors & Bias"
   ]
  },
  {
   "cell_type": "markdown",
   "metadata": {},
   "source": [
    "Bias\n",
    "- the difference between the sampled result and full population result due to incorrect measurements or measurements on a non representative sample.\n",
    "\n",
    "Sampling bias can be a result of sampling error, if the sample is chosen in a way which results in a sample which is not representative of a full population.\n",
    "\n",
    "Sampling error\n",
    "- the difference between the sampled result and full population result due to the selection of datapoints to include in the sample\n",
    "\n",
    "Types of sampling error:\n",
    "- Sample frame error- sample is taken from the wrong population. eg sampling netflix customers from a mobile phone survey.\n",
    "- selection error- occurs when samples are self-selected. eg picking respondants for uni survey based on your friendship circle.\n",
    "- non-response error-  respondents are different than those who do not respond. Eg survey on use of SkyTV, many customers respond but non customers do not. Biased view of the product. "
   ]
  }
 ],
 "metadata": {
  "kernelspec": {
   "display_name": "Python 3",
   "language": "python",
   "name": "python3"
  },
  "language_info": {
   "codemirror_mode": {
    "name": "ipython",
    "version": 3
   },
   "file_extension": ".py",
   "mimetype": "text/x-python",
   "name": "python",
   "nbconvert_exporter": "python",
   "pygments_lexer": "ipython3",
   "version": "3.6.2"
  }
 },
 "nbformat": 4,
 "nbformat_minor": 2
}
