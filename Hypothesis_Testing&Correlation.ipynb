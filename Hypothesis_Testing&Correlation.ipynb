{
 "cells": [
  {
   "cell_type": "markdown",
   "metadata": {},
   "source": [
    "# Hypothesis tests\n",
    "Are used to compare data samples and test validity of a claim (null hypothesis).\n",
    "The assumption of a statistical test is the null hypothesis, or H0."
   ]
  },
  {
   "cell_type": "markdown",
   "metadata": {},
   "source": [
    "Hypothesis tests can be parametric or non parametric.\n",
    "Parametric statistical hypothesis tests are used when the sample is gaussian. \n",
    "Non Parametric statistical hypothesis tests used to compare data samples were data doesnt come from a gaussian distribution.\n",
    "Before a nonparametric statistical method can be applied, the data must be converted into a rank format."
   ]
  },
  {
   "cell_type": "markdown",
   "metadata": {},
   "source": [
    "examples of parametric tests-\n",
    "- t test- Tests whether the means of two independent samples are significantly different\n",
    "- paired t test- Tests whether the means of two paired samples are significantly different.\n",
    "- ANOVA- Tests whether the means of two or more independent samples are significantly different"
   ]
  },
  {
   "cell_type": "markdown",
   "metadata": {},
   "source": [
    "examples of non parametric tests-\n",
    "- Mann-whitney U test- Tests whether the distributions of two independent samples are equal or not.\n",
    "- Wilcoxon Signed Rank test- Tests whether the distributions of two paired samples are equal or not.\n",
    "- Kruskal Wallis h test- Tests whether the distributions of two or more independent samples are equal or not.\n",
    "- Friedman test- Tests whether the distributions of two or more paired samples are equal or not."
   ]
  },
  {
   "cell_type": "markdown",
   "metadata": {},
   "source": [
    "## p value\n",
    "the p value determines if something is statistically significant, by comparing it to a chosen significance value (alpha).\n",
    "It is the probability that the percentage difference between the two versions is at least 100% given that the null hypothesis is true. Alpha is usally 0.05 or 5%.\n",
    "ie if we assume that this happened by chance (null hypothesis is true), then what is the probability that we obtain a result which is greater than or equal to the result we already observed."
   ]
  },
  {
   "cell_type": "markdown",
   "metadata": {},
   "source": [
    "- **If p-value > alpha**:  not significant\n",
    "- **If p-value <= alpha**: Reject the null hypothesis (significant result)."
   ]
  },
  {
   "cell_type": "markdown",
   "metadata": {},
   "source": [
    "## Covariance- quantifies the strength and direction of a relationship between a pair of variables"
   ]
  },
  {
   "cell_type": "markdown",
   "metadata": {},
   "source": [
    "cov(X, Y) = (sum (x - mean(X)) * (y - mean(Y)) ) * 1/(n-1)"
   ]
  },
  {
   "cell_type": "markdown",
   "metadata": {},
   "source": [
    "data is required to have a gaussian or gaussian like distribution.\n",
    "if covariance is zero, both variables are completely independant. \n",
    "the two variables change in the same direction if the value is positive or change in different directions if negative."
   ]
  },
  {
   "cell_type": "code",
   "execution_count": 1,
   "metadata": {
    "collapsed": true
   },
   "outputs": [],
   "source": [
    "# %load imports.py\n",
    "import pandas as pd\n",
    "import scipy\n",
    "import statsmodels\n",
    "import numpy as np\n",
    "import sklearn\n",
    "import matplotlib.pyplot as plt\n",
    "import seaborn as sns\n",
    "from scipy import stats"
   ]
  },
  {
   "cell_type": "markdown",
   "metadata": {},
   "source": [
    "the cov() NumPy func can be used to find the covariance matrix.\n",
    "The diagonal entries of the covariance matrix are the variances (top left (x variance) and bottom right (y variance)) and the other entries are the covariances (top right, bottom left)."
   ]
  },
  {
   "cell_type": "code",
   "execution_count": 2,
   "metadata": {
    "collapsed": true
   },
   "outputs": [],
   "source": [
    "x= np.random.randn(1000) +100\n",
    "y= x + (np.random.randn(1000)+50)"
   ]
  },
  {
   "cell_type": "code",
   "execution_count": 3,
   "metadata": {},
   "outputs": [
    {
     "name": "stdout",
     "output_type": "stream",
     "text": [
      "[[ 1.00125551  0.9992882 ]\n",
      " [ 0.9992882   2.03402505]]\n"
     ]
    }
   ],
   "source": [
    "covariance_matrix=np.cov(x, y)\n",
    "print(covariance_matrix)"
   ]
  },
  {
   "cell_type": "markdown",
   "metadata": {},
   "source": [
    "In comparison, variance measures the variation of a single variable"
   ]
  },
  {
   "cell_type": "code",
   "execution_count": 4,
   "metadata": {},
   "outputs": [
    {
     "name": "stdout",
     "output_type": "stream",
     "text": [
      "1.00025425038\n",
      "2.0319910244\n"
     ]
    }
   ],
   "source": [
    "print(x.var())\n",
    "print(y.var())"
   ]
  },
  {
   "cell_type": "markdown",
   "metadata": {},
   "source": [
    "# Correlation Coeffient\n",
    "r>0 - positive correlation\n",
    "r<0 - negative correlation\n",
    "r=1 - maximum value- perfect positive linear relationship\n",
    "r=-1 - minimum value- perfect negative linear relationship\n",
    "r=0 - weak correlation "
   ]
  },
  {
   "cell_type": "markdown",
   "metadata": {},
   "source": [
    "## Pearson Correlation Coeffient\n",
    "used to summarise the strength of the linear relationship between 2 data samples."
   ]
  },
  {
   "cell_type": "code",
   "execution_count": 5,
   "metadata": {},
   "outputs": [
    {
     "name": "stdout",
     "output_type": "stream",
     "text": [
      "correlation:  0.700229093369 \n",
      "p value:  3.14587168724e-148\n"
     ]
    }
   ],
   "source": [
    "correlation_pear, p = scipy.stats.pearsonr(x,y)\n",
    "print('correlation: ', correlation_pear, '\\np value: ', p)"
   ]
  },
  {
   "cell_type": "markdown",
   "metadata": {},
   "source": [
    "## Spearmans Rank Correlation Coeffient\n",
    "used to summarise strength of nonlinear relationships between samples."
   ]
  },
  {
   "cell_type": "code",
   "execution_count": 6,
   "metadata": {},
   "outputs": [
    {
     "name": "stdout",
     "output_type": "stream",
     "text": [
      "correlation:  0.684461076461 \n",
      "p value:  3.96161071215e-139\n"
     ]
    }
   ],
   "source": [
    "correlation_spear, p = scipy.stats.spearmanr(x,y)\n",
    "print('correlation: ', correlation_spear, '\\np value: ', p)"
   ]
  },
  {
   "cell_type": "markdown",
   "metadata": {},
   "source": [
    "## Chi- squared test\n",
    " used to test whether 2 categorical variables are related or independent. If independant, then the feature may be removed from the datatset if irrelevant.\n",
    " there should be at least 5 observed frequencies in each category for the test to be valid.\n",
    "It compares the difference between the expected frequencies and the observed frequencies in one or more categories of a contingency table. "
   ]
  },
  {
   "cell_type": "markdown",
   "metadata": {},
   "source": [
    "\n",
    "- If p-value <= alpha: significant result, reject null hypothesis (H0), dependent.\n",
    "- If p-value > alpha: not significant result, fail to reject null hypothesis (H0), independent.\n",
    "\n",
    "\n",
    "- If Statistic >= Critical Value: significant result, reject null hypothesis (H0), dependent.\n",
    "- If Statistic < Critical Value: not significant result, fail to reject null hypothesis (H0), independent.\n"
   ]
  },
  {
   "cell_type": "markdown",
   "metadata": {},
   "source": [
    "degrees of freedom for the chi-squared distribution is calculated as:\n",
    "- degrees of freedom: (rows - 1) * (cols - 1)  "
   ]
  },
  {
   "cell_type": "markdown",
   "metadata": {},
   "source": [
    "Using the SciPy chi2_contingency function, we obtain the statitic for the test, the p value, degrees of freedom and expected frequencies"
   ]
  },
  {
   "cell_type": "code",
   "execution_count": 7,
   "metadata": {
    "collapsed": true
   },
   "outputs": [],
   "source": [
    "table= [[1,2,3],[12,14,16]]\n",
    "stat, p, dof, expected = scipy.stats.chi2_contingency(table)"
   ]
  },
  {
   "cell_type": "markdown",
   "metadata": {},
   "source": [
    "using an alpha/ significance value of 5%.."
   ]
  },
  {
   "cell_type": "code",
   "execution_count": 8,
   "metadata": {},
   "outputs": [
    {
     "name": "stdout",
     "output_type": "stream",
     "text": [
      "critical=5.991, stat=0.463\n"
     ]
    }
   ],
   "source": [
    "probability= 0.95\n",
    "critical = scipy.stats.chi2.ppf(probability, dof)\n",
    "print('critical=%.3f, stat=%.3f' % (critical, stat))"
   ]
  },
  {
   "cell_type": "code",
   "execution_count": 9,
   "metadata": {},
   "outputs": [
    {
     "name": "stdout",
     "output_type": "stream",
     "text": [
      "Independent (fail to reject H0)\n"
     ]
    }
   ],
   "source": [
    "if abs(stat) >= critical:\n",
    "\tprint('Dependent (reject H0)')\n",
    "else:\n",
    "\tprint('Independent (fail to reject H0)')"
   ]
  },
  {
   "cell_type": "code",
   "execution_count": 10,
   "metadata": {},
   "outputs": [
    {
     "name": "stdout",
     "output_type": "stream",
     "text": [
      "Independent (fail to reject H0)\n"
     ]
    }
   ],
   "source": [
    "alpha = 1.0 - probability\n",
    "if p <= alpha:\n",
    "\tprint('Dependent (reject H0)')\n",
    "else:\n",
    "\tprint('Independent (fail to reject H0)')"
   ]
  },
  {
   "cell_type": "markdown",
   "metadata": {},
   "source": [
    "# Parametric Hypothesis Tests"
   ]
  },
  {
   "cell_type": "markdown",
   "metadata": {},
   "source": [
    "# T test\n",
    "Tests whether the means of two independent samples are significantly different. It should only be used for Gaussian distributed data"
   ]
  },
  {
   "cell_type": "code",
   "execution_count": 11,
   "metadata": {},
   "outputs": [
    {
     "name": "stdout",
     "output_type": "stream",
     "text": [
      "stat= 0.000, p= 1.000\n",
      "likely to be equal\n"
     ]
    }
   ],
   "source": [
    "# testing if the population mean of data is likely to be equal to a given value\n",
    "datax= [2,2,2,4,4,4]\n",
    "stat, p= scipy.stats.ttest_1samp(datax, 3) \n",
    "print('stat= %.3f, p= %.3f' % (stat, p))\n",
    "if p > alpha:\n",
    "    print('likely to be equal')\n",
    "else:\n",
    "\tprint('likely to be unequal')"
   ]
  },
  {
   "cell_type": "code",
   "execution_count": 12,
   "metadata": {
    "collapsed": true
   },
   "outputs": [],
   "source": [
    "# testing on 2 data samples\n",
    "datax= [1,2,3,4,5,6,7,8]\n",
    "datay=[2,4,6,8,10]\n",
    "alpha =0.5\n",
    "stat, p = scipy.stats.ttest_ind(datax, datay)"
   ]
  },
  {
   "cell_type": "code",
   "execution_count": 13,
   "metadata": {},
   "outputs": [
    {
     "name": "stdout",
     "output_type": "stream",
     "text": [
      "stat= -0.964, p= 0.356\n",
      "different distribution\n"
     ]
    }
   ],
   "source": [
    "print('stat= %.3f, p= %.3f' % (stat, p))\n",
    "if p > alpha:\n",
    "    print('the same distribution')\n",
    "else:\n",
    "\tprint('different distribution')"
   ]
  },
  {
   "cell_type": "markdown",
   "metadata": {},
   "source": [
    "Paired t test , similar to the t test, but used for paired samples. Eg samples obtained from the same sample group but obtained at different times or under different conditions"
   ]
  },
  {
   "cell_type": "code",
   "execution_count": 14,
   "metadata": {
    "collapsed": true
   },
   "outputs": [],
   "source": [
    "datax= [1,2,3,4,5,6,7,8]\n",
    "datay=[1.1,2.2,3,4.1,5,6,7.1,8.8]\n",
    "alpha =0.5\n",
    "stat, p = scipy.stats.ttest_rel(datax, datay)"
   ]
  },
  {
   "cell_type": "code",
   "execution_count": 15,
   "metadata": {},
   "outputs": [
    {
     "name": "stdout",
     "output_type": "stream",
     "text": [
      "stat= -1.722, p= 0.129\n",
      "different distribution\n"
     ]
    }
   ],
   "source": [
    "print('stat= %.3f, p= %.3f' % (stat, p))\n",
    "if p > alpha:\n",
    "    print('the same distribution')\n",
    "else:\n",
    "\tprint('different distribution')"
   ]
  },
  {
   "cell_type": "markdown",
   "metadata": {},
   "source": [
    "## ANOVA - Analysis of Variance test\n",
    "Tests whether the means of two or more independent samples are significantly different"
   ]
  },
  {
   "cell_type": "markdown",
   "metadata": {},
   "source": [
    "F statistic is a value you get when you run an ANOVA test or a regression analysis to find out if the means between two populations are significantly different. if your calculated F value in a test is larger than your F statistic, you can reject the null hypothesis. "
   ]
  },
  {
   "cell_type": "code",
   "execution_count": 16,
   "metadata": {
    "collapsed": true
   },
   "outputs": [],
   "source": [
    "datax= [1,2,3,4,5,6,7,8]\n",
    "datay=[1.1,2.2,3,4.1,5,6,7.1,8.8]\n",
    "dataz=[0.1,1.1,2.5,3.2,4.5,5.8,6.7,7.7]\n",
    "alpha =0.5\n",
    "stat, p = scipy.stats.f_oneway(datax, datay, dataz)"
   ]
  },
  {
   "cell_type": "code",
   "execution_count": 17,
   "metadata": {
    "scrolled": true
   },
   "outputs": [
    {
     "name": "stdout",
     "output_type": "stream",
     "text": [
      "stat= 0.168, p= 0.847\n",
      "the same distribution\n"
     ]
    }
   ],
   "source": [
    "print('stat= %.3f, p= %.3f' % (stat, p))\n",
    "if p > alpha:\n",
    "    print('the same distribution')\n",
    "else:\n",
    "\tprint('different distribution')"
   ]
  },
  {
   "cell_type": "markdown",
   "metadata": {},
   "source": [
    "## Z test\n",
    "alternative to the t test, to be used when the sample size is more than 30, you have independant data points, data is normally distributed (unless data size is very large), data is randomly selected and sample sizes are equal.\n",
    "It is used to determine beliefs about proportions of data in the sample."
   ]
  },
  {
   "cell_type": "code",
   "execution_count": 18,
   "metadata": {
    "collapsed": true,
    "scrolled": true
   },
   "outputs": [],
   "source": [
    "# One-Sample Z test- comparing a sample mean with the population mean.\n",
    "squares=[]\n",
    "for x in range(1,32):\n",
    "    squares.append(x**2)\n",
    "\n"
   ]
  },
  {
   "cell_type": "code",
   "execution_count": 19,
   "metadata": {},
   "outputs": [
    {
     "name": "stdout",
     "output_type": "stream",
     "text": [
      "stat= 3.342 \n",
      "reject null hypothesis\n"
     ]
    }
   ],
   "source": [
    "from statsmodels.stats import weightstats as ss\n",
    "stat , p = ss.ztest(squares, value=156)\n",
    "print('stat= %.3f ' % stat)\n",
    "if p<0.05:\n",
    "    print(\"reject null hypothesis\")\n",
    "else:\n",
    "    print(\"accept null hypothesis\")"
   ]
  },
  {
   "cell_type": "code",
   "execution_count": 20,
   "metadata": {
    "collapsed": true
   },
   "outputs": [],
   "source": [
    "squares2=[]\n",
    "for x in range(32,64):\n",
    "    squares.append(x*2)"
   ]
  },
  {
   "cell_type": "markdown",
   "metadata": {},
   "source": [
    "if we want to compare the mean of 2 samples, use Two Sample Z test.\n",
    "eg \n",
    "stat , p = ss.ztest(data1, data2, value=10, alternative='two-sided')\n"
   ]
  },
  {
   "cell_type": "markdown",
   "metadata": {},
   "source": [
    "# Non Parametric Hypothesis Tests"
   ]
  },
  {
   "cell_type": "markdown",
   "metadata": {},
   "source": [
    "## Mann Whitney U test\n",
    "-- Tests whether the distributions of two independent samples are equal or not.\n",
    "\n",
    "-- determines if 2 independant samples were drawn from a population with the same distribution. \n",
    "- Fail to Reject H0: Sample distributions are equal.\n",
    "- Reject H0: Sample distributions are not equal.\n",
    "\n",
    "-- Requires at least 20 observations in the data sample\n"
   ]
  },
  {
   "cell_type": "code",
   "execution_count": 21,
   "metadata": {},
   "outputs": [
    {
     "name": "stdout",
     "output_type": "stream",
     "text": [
      "stat= 25.500 , p= 0.264\n",
      "Same distribution (fail to reject H0)\n"
     ]
    }
   ],
   "source": [
    "from scipy.stats import mannwhitneyu\n",
    "datax= [12,20,13,44,5,16,17,8]\n",
    "datay=[2,22,31,4,14,16,71,88]\n",
    "stat , p = mannwhitneyu(datax, datay)\n",
    "print('stat= %.3f , p= %0.3f' % (stat,p))\n",
    "if p>0.05:\n",
    "    print(\"Same distribution (fail to reject H0)\")\n",
    "else:\n",
    "    print(\"Different distribution (reject H0)\")"
   ]
  },
  {
   "cell_type": "markdown",
   "metadata": {},
   "source": [
    "## Wilcoxon Signed rank\n",
    "-- Tests whether the distributions of two paired samples are equal or not.\n",
    "\n",
    "-- samples are independant but comes from the same population. the samples are realted or matched in some way.\n",
    "- Fail to Reject H0: Sample distributions are equal.\n",
    "- Reject H0: Sample distributions are not equal.\n",
    "\n",
    "-- Requires at least 20 observations in the data sample\n",
    "\n",
    "-- The p-value suggests whether the samples are drawn from different distributions.\n"
   ]
  },
  {
   "cell_type": "code",
   "execution_count": 22,
   "metadata": {},
   "outputs": [
    {
     "name": "stdout",
     "output_type": "stream",
     "text": [
      "stat= 31.000 , p= 0.479\n",
      "Same distribution (fail to reject H0)\n"
     ]
    }
   ],
   "source": [
    "from scipy.stats import wilcoxon\n",
    "datax= [12,20,13,44,5,16,17,8]\n",
    "datay=[12,22,13,41,6,16,18,8]\n",
    "stat , p = mannwhitneyu(datax, datay)\n",
    "print('stat= %.3f , p= %0.3f' % (stat,p))\n",
    "if p>0.05:\n",
    "    print(\"Same distribution (fail to reject H0)\")\n",
    "else:\n",
    "    print(\"Different distribution (reject H0)\")"
   ]
  },
  {
   "cell_type": "markdown",
   "metadata": {},
   "source": [
    "## Kruskal Wallis H Test\n",
    "-- Tests whether the distributions of two or more independent samples are equal or not.\n",
    "\n",
    "-- non parametric version of ANOVA. determines if more than 2 independant samples have the same distribution.\n",
    "- Fail to Reject H0: All sample distributions are equal.\n",
    "- Reject H0: One or more sample distributions are not equal.\n",
    "\n",
    "-- Each data sample must be independent, have 5 or more observations. The data samples can differ in size."
   ]
  },
  {
   "cell_type": "code",
   "execution_count": 23,
   "metadata": {},
   "outputs": [
    {
     "name": "stdout",
     "output_type": "stream",
     "text": [
      "stat= 0.072 , p= 0.965\n",
      "Same distributions (fail to reject H0)\n"
     ]
    }
   ],
   "source": [
    "from scipy.stats import kruskal\n",
    "datax= [12,20,13,44,5,16,17,8]\n",
    "datay=[12,22,13,41,6,16,18,8]\n",
    "dataz= [14,20,3,44,5,16,18,8]\n",
    "stat , p = kruskal(datax, datay, dataz)\n",
    "print('stat= %.3f , p= %0.3f' % (stat,p))\n",
    "if p>0.05:\n",
    "    print(\"Same distributions (fail to reject H0)\")\n",
    "else:\n",
    "    print(\"Different distributions (reject H0)\")"
   ]
  },
  {
   "cell_type": "markdown",
   "metadata": {},
   "source": [
    "## Friedman Test\n",
    "-- Tests whether the distributions of two or more paired samples are equal or not.\n",
    "\n",
    "-- used if the samples are paired in some way. A generalization of the Kruskal-Wallis H Test to more than two samples.\n",
    "\n",
    "\n",
    "- Fail to Reject H0: Paired sample distributions are equal.\n",
    "- Reject H0: Paired sample distributions are not equal.\n",
    "\n",
    "-- assumes two or more paired data samples with 10 or more samples per group."
   ]
  },
  {
   "cell_type": "code",
   "execution_count": 24,
   "metadata": {},
   "outputs": [
    {
     "name": "stdout",
     "output_type": "stream",
     "text": [
      "stat= 0.214 , p= 0.898\n",
      "Same distributions (fail to reject H0)\n"
     ]
    }
   ],
   "source": [
    "from scipy.stats import friedmanchisquare\n",
    "datax= [46,12,13,44,5,16,10,8]\n",
    "datay=[12,7,13,16,7,16,18,10]\n",
    "dataz= [10,20,3,44,11,5,18,5]\n",
    "stat , p = friedmanchisquare(datax, datay, dataz)\n",
    "print('stat= %.3f , p= %0.3f' % (stat,p))\n",
    "if p>0.05:\n",
    "    print(\"Same distributions (fail to reject H0)\")\n",
    "else:\n",
    "    print(\"Different distributions (reject H0)\")"
   ]
  },
  {
   "cell_type": "markdown",
   "metadata": {},
   "source": [
    "# Normality Tests\n",
    "\n",
    "Normality tests are used to check if data has a gaussian (normal) distribution.  It is assumed that during any measurement values will follow a normal distribution with an equal number of measurements above and below the mean value. If a distribution is normal, then the values of the mean, median, and mode are the same.\n",
    " \n",
    "Types of test:\n",
    "- Shapiro Wilk\n",
    "- D' Agostino K2 \n",
    "- Anderson Darling"
   ]
  },
  {
   "cell_type": "markdown",
   "metadata": {},
   "source": [
    "## Shapiro Wilk\n",
    "\n",
    "assumes observations in each sample are independent and identically distributed. works well if every value is unique, it does not work as well when several values are identical- use D'Agostino for this case. The test however does not show whether the distribution is skewed or heavy tailed (the extreme portion of the distribution (the part farthest away from the median) spreads out further relative to the width of the middle 50% of the data. Sample size must be greater than 2."
   ]
  },
  {
   "cell_type": "code",
   "execution_count": 25,
   "metadata": {},
   "outputs": [
    {
     "name": "stdout",
     "output_type": "stream",
     "text": [
      "stat=0.754, p=0.009\n",
      "Probably not Gaussian\n"
     ]
    }
   ],
   "source": [
    "from scipy.stats import shapiro\n",
    "datax= [46,12,13,44,5,16,10,8]\n",
    "stat, p = shapiro(datax)\n",
    "print('stat=%.3f, p=%.3f' % (stat, p))\n",
    "if p > 0.05:\n",
    "\tprint('Probably Gaussian')\n",
    "else:\n",
    "\tprint('Probably not Gaussian')"
   ]
  },
  {
   "cell_type": "markdown",
   "metadata": {},
   "source": [
    "## D’Agostino’s K^2\n",
    "\n",
    "assumes observations in each sample are independent and identically distributed. tests for skewness tests for nonnormality due to a lack of symmetry. Sample size must be greater than 8."
   ]
  },
  {
   "cell_type": "code",
   "execution_count": 26,
   "metadata": {},
   "outputs": [
    {
     "name": "stdout",
     "output_type": "stream",
     "text": [
      "stat=5.011, p=0.082\n",
      "Probably Gaussian\n"
     ]
    }
   ],
   "source": [
    "from scipy.stats import normaltest\n",
    "datax= [46,12,13,44,5,16,10,8,2,46,12,13,44,5,16,10,8,2,20,21]\n",
    "stat, p = normaltest(datax)\n",
    "print('stat=%.3f, p=%.3f' % (stat, p))\n",
    "if p > 0.05:\n",
    "\tprint('Probably Gaussian')\n",
    "else:\n",
    "\tprint('Probably not Gaussian')"
   ]
  },
  {
   "cell_type": "markdown",
   "metadata": {},
   "source": [
    "## Anderson-Darling Test\n",
    "\n",
    "assumes observations in each sample are independent and identically distributed."
   ]
  },
  {
   "cell_type": "code",
   "execution_count": 27,
   "metadata": {},
   "outputs": [
    {
     "name": "stdout",
     "output_type": "stream",
     "text": [
      "AndersonResult(statistic=0.95512235994592132, critical_values=array([ 0.519,  0.591,  0.709,  0.827,  0.984]), significance_level=array([ 15. ,  10. ,   5. ,   2.5,   1. ]))\n",
      "stat=0.955\n",
      "Probably not Gaussian at the 15.0% level\n",
      "Probably not Gaussian at the 10.0% level\n",
      "Probably not Gaussian at the 5.0% level\n",
      "Probably not Gaussian at the 2.5% level\n",
      "Probably Gaussian at the 1.0% level\n"
     ]
    }
   ],
   "source": [
    "from scipy.stats import anderson\n",
    "datax= [46,12,13,44,5,16,10,8]\n",
    "result = anderson(datax)\n",
    "print(result)\n",
    "print('stat=%.3f' % (result.statistic))\n",
    "for i in range(len(result.critical_values)):\n",
    "\tsl, cv = result.significance_level[i], result.critical_values[i]\n",
    "\tif result.statistic < cv:\n",
    "\t\tprint('Probably Gaussian at the %.1f%% level' % (sl))\n",
    "\telse:\n",
    "\t\tprint('Probably not Gaussian at the %.1f%% level' % (sl))"
   ]
  }
 ],
 "metadata": {
  "kernelspec": {
   "display_name": "Python 3",
   "language": "python",
   "name": "python3"
  },
  "language_info": {
   "codemirror_mode": {
    "name": "ipython",
    "version": 3
   },
   "file_extension": ".py",
   "mimetype": "text/x-python",
   "name": "python",
   "nbconvert_exporter": "python",
   "pygments_lexer": "ipython3",
   "version": "3.6.2"
  }
 },
 "nbformat": 4,
 "nbformat_minor": 2
}
