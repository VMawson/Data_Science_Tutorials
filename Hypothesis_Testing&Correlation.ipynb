{
 "cells": [
  {
   "cell_type": "markdown",
   "metadata": {},
   "source": [
    "# Hypothesis tests\n",
    "Are used to compare data samples and test validity of a claim (null hypothesis).\n",
    "The assumption of a statistical test is the null hypothesis, or H0."
   ]
  },
  {
   "cell_type": "markdown",
   "metadata": {},
   "source": [
    "## p value\n",
    "the p value determines if something is statistically significant, by comparing it to a chosen significance value (alpha). Alpha is usally 0.05 or 5%."
   ]
  },
  {
   "cell_type": "markdown",
   "metadata": {},
   "source": [
    "- **If p-value > alpha**:  not significant\n",
    "- **If p-value <= alpha**: Reject the null hypothesis (significant result)."
   ]
  },
  {
   "cell_type": "markdown",
   "metadata": {},
   "source": [
    "## Covariance- quantifies the strength and direction of a relationship between a pair of variables"
   ]
  },
  {
   "cell_type": "markdown",
   "metadata": {},
   "source": [
    "cov(X, Y) = (sum (x - mean(X)) * (y - mean(Y)) ) * 1/(n-1)"
   ]
  },
  {
   "cell_type": "markdown",
   "metadata": {},
   "source": [
    "data is required to have a gaussian or gaussian like distribution.\n",
    "if covariance is zero, both variables are completely independant. \n",
    "the two variables change in the same direction if the value is positive or change in different directions if negative."
   ]
  },
  {
   "cell_type": "code",
   "execution_count": 1,
   "metadata": {
    "collapsed": true
   },
   "outputs": [],
   "source": [
    "# %load imports.py\n",
    "import pandas as pd\n",
    "import scipy\n",
    "import statsmodels\n",
    "import numpy as np\n",
    "import sklearn\n",
    "import matplotlib.pyplot as plt\n",
    "import seaborn as sns\n",
    "from scipy import stats"
   ]
  },
  {
   "cell_type": "markdown",
   "metadata": {},
   "source": [
    "the cov() NumPy func can be used to find the covariance matrix.\n",
    "The diagonal entries of the covariance matrix are the variances (top left (x variance) and bottom right (y variance)) and the other entries are the covariances (top right, bottom left)."
   ]
  },
  {
   "cell_type": "code",
   "execution_count": 2,
   "metadata": {},
   "outputs": [],
   "source": [
    "x= np.random.randn(1000) +100\n",
    "y= x + (np.random.randn(1000)+50)"
   ]
  },
  {
   "cell_type": "code",
   "execution_count": 3,
   "metadata": {},
   "outputs": [
    {
     "name": "stdout",
     "output_type": "stream",
     "text": [
      "[[ 0.99031061  0.97835928]\n",
      " [ 0.97835928  2.05971604]]\n"
     ]
    }
   ],
   "source": [
    "covariance_matrix=np.cov(x, y)\n",
    "print(covariance_matrix)"
   ]
  },
  {
   "cell_type": "markdown",
   "metadata": {},
   "source": [
    "In comparison, variance measures the variation of a single variable"
   ]
  },
  {
   "cell_type": "code",
   "execution_count": 4,
   "metadata": {},
   "outputs": [
    {
     "name": "stdout",
     "output_type": "stream",
     "text": [
      "0.98932029585\n",
      "2.05765632526\n"
     ]
    }
   ],
   "source": [
    "print(x.var())\n",
    "print(y.var())"
   ]
  },
  {
   "cell_type": "markdown",
   "metadata": {},
   "source": [
    "## Correlation Coeffient\n",
    "r>0 - positive correlation\n",
    "r<0 - negative correlation\n",
    "r=1 - maximum value- perfect positive linear relationship\n",
    "r=-1 - minimum value- perfect negative linear relationship\n",
    "r=0 - weak correlation "
   ]
  },
  {
   "cell_type": "markdown",
   "metadata": {},
   "source": [
    "## Pearson Correlation Coeffient\n",
    "used to summarise the strength of the linear relationship between 2 data samples."
   ]
  },
  {
   "cell_type": "code",
   "execution_count": 5,
   "metadata": {},
   "outputs": [
    {
     "name": "stdout",
     "output_type": "stream",
     "text": [
      "correlation:  0.685029032555 \n",
      "p value:  1.90609928975e-139\n"
     ]
    }
   ],
   "source": [
    "correlation_pear, p = scipy.stats.pearsonr(x,y)\n",
    "print('correlation: ', correlation_pear, '\\np value: ', p)"
   ]
  },
  {
   "cell_type": "markdown",
   "metadata": {},
   "source": [
    "## Spearmans Rank Correlation Coeffient\n",
    "used to summarise strength of nonlinear relationships between samples."
   ]
  },
  {
   "cell_type": "code",
   "execution_count": 6,
   "metadata": {},
   "outputs": [
    {
     "name": "stdout",
     "output_type": "stream",
     "text": [
      "correlation:  0.668738828739 \n",
      "p value:  1.29827771991e-130\n"
     ]
    }
   ],
   "source": [
    "correlation_spear, p = scipy.stats.spearmanr(x,y)\n",
    "print('correlation: ', correlation_spear, '\\np value: ', p)"
   ]
  },
  {
   "cell_type": "markdown",
   "metadata": {},
   "source": [
    "# Chi- squared test\n",
    " used to test whether 2 categorical variables are related or independent. If independant, then the feature may be removed from the datatset if irrelevant.\n",
    " there should be at least 5 observed frequencies in each category for the test to be valid.\n",
    "It compares the difference between the expected frequencies and the observed frequencies in one or more categories of a contingency table. "
   ]
  },
  {
   "cell_type": "markdown",
   "metadata": {},
   "source": [
    "\n",
    "- If p-value <= alpha: significant result, reject null hypothesis (H0), dependent.\n",
    "- If p-value > alpha: not significant result, fail to reject null hypothesis (H0), independent.\n",
    "\n",
    "\n",
    "- If Statistic >= Critical Value: significant result, reject null hypothesis (H0), dependent.\n",
    "- If Statistic < Critical Value: not significant result, fail to reject null hypothesis (H0), independent.\n"
   ]
  },
  {
   "cell_type": "markdown",
   "metadata": {},
   "source": [
    "degrees of freedom for the chi-squared distribution is calculated as:\n",
    "- degrees of freedom: (rows - 1) * (cols - 1)  "
   ]
  },
  {
   "cell_type": "markdown",
   "metadata": {},
   "source": [
    "Using the SciPy chi2_contingency function, we obtain the statitic for the test, the p value, degrees of freedom and expected frequencies"
   ]
  },
  {
   "cell_type": "code",
   "execution_count": 7,
   "metadata": {
    "collapsed": true
   },
   "outputs": [],
   "source": [
    "table= [[1,2,3],[12,14,16]]\n",
    "stat, p, dof, expected = scipy.stats.chi2_contingency(table)"
   ]
  },
  {
   "cell_type": "markdown",
   "metadata": {},
   "source": [
    "using an alpha/ significance value of 5%.."
   ]
  },
  {
   "cell_type": "code",
   "execution_count": 8,
   "metadata": {},
   "outputs": [
    {
     "name": "stdout",
     "output_type": "stream",
     "text": [
      "critical=5.991, stat=0.463\n"
     ]
    }
   ],
   "source": [
    "probability= 0.95\n",
    "critical = scipy.stats.chi2.ppf(probability, dof)\n",
    "print('critical=%.3f, stat=%.3f' % (critical, stat))"
   ]
  },
  {
   "cell_type": "code",
   "execution_count": 9,
   "metadata": {},
   "outputs": [
    {
     "name": "stdout",
     "output_type": "stream",
     "text": [
      "Independent (fail to reject H0)\n"
     ]
    }
   ],
   "source": [
    "if abs(stat) >= critical:\n",
    "\tprint('Dependent (reject H0)')\n",
    "else:\n",
    "\tprint('Independent (fail to reject H0)')"
   ]
  },
  {
   "cell_type": "code",
   "execution_count": 10,
   "metadata": {},
   "outputs": [
    {
     "name": "stdout",
     "output_type": "stream",
     "text": [
      "Independent (fail to reject H0)\n"
     ]
    }
   ],
   "source": [
    "alpha = 1.0 - probability\n",
    "if p <= alpha:\n",
    "\tprint('Dependent (reject H0)')\n",
    "else:\n",
    "\tprint('Independent (fail to reject H0)')"
   ]
  },
  {
   "cell_type": "markdown",
   "metadata": {},
   "source": [
    "# T test\n",
    "Tests whether the means of two independent samples are significantly different. It should only be used for Gaussian distributed data"
   ]
  },
  {
   "cell_type": "code",
   "execution_count": 11,
   "metadata": {},
   "outputs": [
    {
     "name": "stdout",
     "output_type": "stream",
     "text": [
      "stat= 0.000, p= 1.000\n",
      "likely to be equal\n"
     ]
    }
   ],
   "source": [
    "# testing if the population mean of data is likely to be equal to a given value\n",
    "datax= [2,2,2,4,4,4]\n",
    "stat, p= scipy.stats.ttest_1samp(datax, 3) \n",
    "print('stat= %.3f, p= %.3f' % (stat, p))\n",
    "if p > alpha:\n",
    "    print('likely to be equal')\n",
    "else:\n",
    "\tprint('likely to be unequal')"
   ]
  },
  {
   "cell_type": "code",
   "execution_count": 12,
   "metadata": {
    "collapsed": true
   },
   "outputs": [],
   "source": [
    "# testing on 2 data samples\n",
    "datax= [1,2,3,4,5,6,7,8]\n",
    "datay=[2,4,6,8,10]\n",
    "alpha =0.5\n",
    "stat, p = scipy.stats.ttest_ind(datax, datay)"
   ]
  },
  {
   "cell_type": "code",
   "execution_count": 13,
   "metadata": {},
   "outputs": [
    {
     "name": "stdout",
     "output_type": "stream",
     "text": [
      "stat= -0.964, p= 0.356\n",
      "different distribution\n"
     ]
    }
   ],
   "source": [
    "print('stat= %.3f, p= %.3f' % (stat, p))\n",
    "if p > alpha:\n",
    "    print('the same distribution')\n",
    "else:\n",
    "\tprint('different distribution')"
   ]
  },
  {
   "cell_type": "markdown",
   "metadata": {},
   "source": [
    "Paired t test , similar to the t test, but used for paired samples. Eg samples obtained from the same sample group but obtained at different times or under different conditions"
   ]
  },
  {
   "cell_type": "code",
   "execution_count": 14,
   "metadata": {},
   "outputs": [],
   "source": [
    "datax= [1,2,3,4,5,6,7,8]\n",
    "datay=[1.1,2.2,3,4.1,5,6,7.1,8.8]\n",
    "alpha =0.5\n",
    "stat, p = scipy.stats.ttest_rel(datax, datay)"
   ]
  },
  {
   "cell_type": "code",
   "execution_count": 15,
   "metadata": {},
   "outputs": [
    {
     "name": "stdout",
     "output_type": "stream",
     "text": [
      "stat= -1.722, p= 0.129\n",
      "different distribution\n"
     ]
    }
   ],
   "source": [
    "print('stat= %.3f, p= %.3f' % (stat, p))\n",
    "if p > alpha:\n",
    "    print('the same distribution')\n",
    "else:\n",
    "\tprint('different distribution')"
   ]
  },
  {
   "cell_type": "markdown",
   "metadata": {},
   "source": [
    "## ANOVA - Analysis of Variance test\n",
    "Tests whether the means of two or more independent samples are significantly different"
   ]
  },
  {
   "cell_type": "code",
   "execution_count": 16,
   "metadata": {
    "collapsed": true
   },
   "outputs": [],
   "source": [
    "datax= [1,2,3,4,5,6,7,8]\n",
    "datay=[1.1,2.2,3,4.1,5,6,7.1,8.8]\n",
    "dataz=[0.1,1.1,2.5,3.2,4.5,5.8,6.7,7.7]\n",
    "alpha =0.5\n",
    "stat, p = scipy.stats.f_oneway(datax, datay, dataz)"
   ]
  },
  {
   "cell_type": "code",
   "execution_count": 17,
   "metadata": {
    "scrolled": true
   },
   "outputs": [
    {
     "name": "stdout",
     "output_type": "stream",
     "text": [
      "stat= 0.168, p= 0.847\n",
      "the same distribution\n"
     ]
    }
   ],
   "source": [
    "print('stat= %.3f, p= %.3f' % (stat, p))\n",
    "if p > alpha:\n",
    "    print('the same distribution')\n",
    "else:\n",
    "\tprint('different distribution')"
   ]
  },
  {
   "cell_type": "markdown",
   "metadata": {},
   "source": [
    "## Z test\n",
    "alternative to the t test, to be used when the sample size is more than 30, you have independant data points, data is normally distributed (unless data size is very large), data is randomly selected and sample sizes are equal.\n",
    "It is used to determine beliefs about proportions of data in the sample."
   ]
  },
  {
   "cell_type": "code",
   "execution_count": 18,
   "metadata": {
    "scrolled": true
   },
   "outputs": [],
   "source": [
    "# One-Sample Z test- comparing a sample mean with the population mean.\n",
    "squares=[]\n",
    "for x in range(1,32):\n",
    "    squares.append(x**2)\n",
    "\n"
   ]
  },
  {
   "cell_type": "code",
   "execution_count": 19,
   "metadata": {},
   "outputs": [
    {
     "name": "stdout",
     "output_type": "stream",
     "text": [
      "stat= 3.342 \n",
      "reject null hypothesis\n"
     ]
    }
   ],
   "source": [
    "from statsmodels.stats import weightstats as ss\n",
    "stat , p = ss.ztest(squares, value=156)\n",
    "print('stat= %.3f ' % stat)\n",
    "if p<0.05:\n",
    "    print(\"reject null hypothesis\")\n",
    "else:\n",
    "    print(\"accept null hypothesis\")"
   ]
  },
  {
   "cell_type": "code",
   "execution_count": 20,
   "metadata": {
    "collapsed": true
   },
   "outputs": [],
   "source": [
    "squares2=[]\n",
    "for x in range(32,64):\n",
    "    squares.append(x*2)"
   ]
  },
  {
   "cell_type": "markdown",
   "metadata": {},
   "source": [
    "if we want to compare the mean of 2 samples, use Two Sample Z test.\n",
    "eg \n",
    "stat , p = ss.ztest(data1, data2, value=10, alternative='two-sided')\n"
   ]
  }
 ],
 "metadata": {
  "kernelspec": {
   "display_name": "Python 3",
   "language": "python",
   "name": "python3"
  },
  "language_info": {
   "codemirror_mode": {
    "name": "ipython",
    "version": 3
   },
   "file_extension": ".py",
   "mimetype": "text/x-python",
   "name": "python",
   "nbconvert_exporter": "python",
   "pygments_lexer": "ipython3",
   "version": "3.6.2"
  }
 },
 "nbformat": 4,
 "nbformat_minor": 2
}
