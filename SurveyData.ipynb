{
 "cells": [
  {
   "cell_type": "markdown",
   "metadata": {},
   "source": [
    "This notebook takes a look at survey data, filling missing datavalues, calculating survey stats and plotting location data"
   ]
  },
  {
   "cell_type": "code",
   "execution_count": 1,
   "metadata": {
    "collapsed": true,
    "scrolled": true
   },
   "outputs": [],
   "source": [
    "# %load imports.py\n",
    "import pandas as pd\n",
    "import numpy as np\n",
    "import sklearn\n",
    "import matplotlib as plt\n",
    "import seaborn as sns\n",
    "import pdb"
   ]
  },
  {
   "cell_type": "code",
   "execution_count": 2,
   "metadata": {
    "collapsed": true
   },
   "outputs": [],
   "source": [
    "data=pd.read_csv('D:\\Python_Projects\\Survey_Data_Project\\developer_survey_2020\\survey_results_public.csv')"
   ]
  },
  {
   "cell_type": "code",
   "execution_count": 3,
   "metadata": {},
   "outputs": [
    {
     "name": "stdout",
     "output_type": "stream",
     "text": [
      "Respondent                        int64\n",
      "MainBranch                       object\n",
      "Hobbyist                         object\n",
      "Age                             float64\n",
      "Age1stCode                       object\n",
      "CompFreq                         object\n",
      "CompTotal                       float64\n",
      "ConvertedComp                   float64\n",
      "Country                          object\n",
      "CurrencyDesc                     object\n",
      "CurrencySymbol                   object\n",
      "DatabaseDesireNextYear           object\n",
      "DatabaseWorkedWith               object\n",
      "DevType                          object\n",
      "EdLevel                          object\n",
      "Employment                       object\n",
      "Ethnicity                        object\n",
      "Gender                           object\n",
      "JobFactors                       object\n",
      "JobSat                           object\n",
      "JobSeek                          object\n",
      "LanguageDesireNextYear           object\n",
      "LanguageWorkedWith               object\n",
      "MiscTechDesireNextYear           object\n",
      "MiscTechWorkedWith               object\n",
      "NEWCollabToolsDesireNextYear     object\n",
      "NEWCollabToolsWorkedWith         object\n",
      "NEWDevOps                        object\n",
      "NEWDevOpsImpt                    object\n",
      "NEWEdImpt                        object\n",
      "                                 ...   \n",
      "NEWJobHuntResearch               object\n",
      "NEWLearn                         object\n",
      "NEWOffTopic                      object\n",
      "NEWOnboardGood                   object\n",
      "NEWOtherComms                    object\n",
      "NEWOvertime                      object\n",
      "NEWPurchaseResearch              object\n",
      "NEWPurpleLink                    object\n",
      "NEWSOSites                       object\n",
      "NEWStuck                         object\n",
      "OpSys                            object\n",
      "OrgSize                          object\n",
      "PlatformDesireNextYear           object\n",
      "PlatformWorkedWith               object\n",
      "PurchaseWhat                     object\n",
      "Sexuality                        object\n",
      "SOAccount                        object\n",
      "SOComm                           object\n",
      "SOPartFreq                       object\n",
      "SOVisitFreq                      object\n",
      "SurveyEase                       object\n",
      "SurveyLength                     object\n",
      "Trans                            object\n",
      "UndergradMajor                   object\n",
      "WebframeDesireNextYear           object\n",
      "WebframeWorkedWith               object\n",
      "WelcomeChange                    object\n",
      "WorkWeekHrs                     float64\n",
      "YearsCode                        object\n",
      "YearsCodePro                     object\n",
      "Length: 61, dtype: object\n",
      "Respondent                          0\n",
      "MainBranch                        299\n",
      "Hobbyist                           45\n",
      "Age                             19015\n",
      "Age1stCode                       6561\n",
      "CompFreq                        24392\n",
      "CompTotal                       29635\n",
      "ConvertedComp                   29705\n",
      "Country                           389\n",
      "CurrencyDesc                    18989\n",
      "CurrencySymbol                  18989\n",
      "DatabaseDesireNextYear          20391\n",
      "DatabaseWorkedWith              14924\n",
      "DevType                         15091\n",
      "EdLevel                          7030\n",
      "Employment                        607\n",
      "Ethnicity                       18513\n",
      "Gender                          13904\n",
      "JobFactors                      15112\n",
      "JobSat                          19267\n",
      "JobSeek                         12734\n",
      "LanguageDesireNextYear          10348\n",
      "LanguageWorkedWith               7083\n",
      "MiscTechDesireNextYear          22082\n",
      "MiscTechWorkedWith              24147\n",
      "NEWCollabToolsDesireNextYear    17174\n",
      "NEWCollabToolsWorkedWith        11578\n",
      "NEWDevOps                       21775\n",
      "NEWDevOpsImpt                   22729\n",
      "NEWEdImpt                       15996\n",
      "                                ...  \n",
      "NEWJobHuntResearch              23439\n",
      "NEWLearn                         8305\n",
      "NEWOffTopic                     13657\n",
      "NEWOnboardGood                  21838\n",
      "NEWOtherComms                    7256\n",
      "NEWOvertime                     21230\n",
      "NEWPurchaseResearch             27140\n",
      "NEWPurpleLink                    9658\n",
      "NEWSOSites                       6186\n",
      "NEWStuck                         9478\n",
      "OpSys                            8233\n",
      "OrgSize                         20127\n",
      "PlatformDesireNextYear          13856\n",
      "PlatformWorkedWith              10618\n",
      "PurchaseWhat                    25097\n",
      "Sexuality                       20469\n",
      "SOAccount                        7656\n",
      "SOComm                           7985\n",
      "SOPartFreq                      17669\n",
      "SOVisitFreq                      7491\n",
      "SurveyEase                      12659\n",
      "SurveyLength                    12760\n",
      "Trans                           15116\n",
      "UndergradMajor                  13466\n",
      "WebframeDesireNextYear          24437\n",
      "WebframeWorkedWith              22182\n",
      "WelcomeChange                   11778\n",
      "WorkWeekHrs                     23310\n",
      "YearsCode                        6777\n",
      "YearsCodePro                    18112\n",
      "Length: 61, dtype: int64\n",
      "(64461, 61)\n"
     ]
    }
   ],
   "source": [
    "print(data.dtypes)\n",
    "print(data.isnull().sum())\n",
    "print(data.shape)\n"
   ]
  },
  {
   "cell_type": "code",
   "execution_count": 4,
   "metadata": {},
   "outputs": [
    {
     "name": "stdout",
     "output_type": "stream",
     "text": [
      "0\n"
     ]
    }
   ],
   "source": [
    "#fill age with the average age in the age column, ensuring all ages are integers not floats. \n",
    "data['Age']=data['Age'].fillna(data['Age'].mean()).astype(int)\n",
    "print(data['Age'].isnull().sum())"
   ]
  },
  {
   "cell_type": "code",
   "execution_count": 5,
   "metadata": {
    "collapsed": true
   },
   "outputs": [],
   "source": [
    "# for age 1st code, if the answer is 'younger than 5years', replace with 5\n",
    "#indx=data[data['Age1stCode']=='Younger than 5 years'].index.values\n",
    "\n",
    "#for i in indx:\n",
    "#    data.loc[i, 'Age1stCode']=data.loc[i, 'Age1stCode'].replace(data.loc[i, 'Age1stCode'], '5')\n",
    "    \n",
    "    "
   ]
  },
  {
   "cell_type": "code",
   "execution_count": 6,
   "metadata": {},
   "outputs": [
    {
     "name": "stdout",
     "output_type": "stream",
     "text": [
      "0\n"
     ]
    }
   ],
   "source": [
    "# fill nans with value previously\n",
    "data['Age1stCode']=data['Age1stCode'].fillna(0)\n",
    "\n",
    "print(data['Age1stCode'].isnull().sum())\n"
   ]
  },
  {
   "cell_type": "code",
   "execution_count": 7,
   "metadata": {},
   "outputs": [
    {
     "data": {
      "text/plain": [
       "Yes    0.782228\n",
       "No     0.217772\n",
       "Name: Hobbyist, dtype: float64"
      ]
     },
     "execution_count": 7,
     "metadata": {},
     "output_type": "execute_result"
    }
   ],
   "source": [
    "# print how many people in survey responded yes and no for 'hobbylist' question\n",
    "data['Hobbyist'].value_counts()\n",
    "# as a percentage\n",
    "data['Hobbyist'].value_counts(normalize=True)"
   ]
  },
  {
   "cell_type": "code",
   "execution_count": 8,
   "metadata": {},
   "outputs": [
    {
     "name": "stdout",
     "output_type": "stream",
     "text": [
      "Not hobbyists mean age 31.67629027658968 \n",
      "Hobbyists mean age 30.28536556322934\n"
     ]
    }
   ],
   "source": [
    "# splitting up the hobbyists into yes and no groups\n",
    "\n",
    "said_no=data[data['Hobbyist']=='No']\n",
    "said_yes=data[data['Hobbyist']=='Yes']\n",
    "\n",
    "print('Not hobbyists mean age', said_no['Age'].mean(),\n",
    "      '\\nHobbyists mean age', said_yes['Age'].mean()\n",
    "      )"
   ]
  },
  {
   "cell_type": "code",
   "execution_count": 9,
   "metadata": {},
   "outputs": [
    {
     "name": "stdout",
     "output_type": "stream",
     "text": [
      "number over 50:  2270\n",
      "number under 50:  62191\n"
     ]
    }
   ],
   "source": [
    "# people over 50\n",
    "over50=data[data['Age']>=50]\n",
    "under50= data[data['Age']< 50]\n",
    "print('number over 50: ', over50.shape[0])\n",
    "print('number under 50: ', under50.shape[0])"
   ]
  },
  {
   "cell_type": "code",
   "execution_count": 10,
   "metadata": {},
   "outputs": [
    {
     "name": "stdout",
     "output_type": "stream",
     "text": [
      "hobbyists and non hobbyists under 50:  Yes    0.713656\n",
      "No     0.286344\n",
      "Name: Hobbyist, dtype: float64\n",
      "hobbyists over 50:  1620\n"
     ]
    }
   ],
   "source": [
    "#hobbyists and non hibbyists under 50, as a percentage\n",
    "print('hobbyists and non hobbyists under 50: ', over50['Hobbyist'].value_counts(normalize=True))\n",
    "\n",
    "# number of hobbyists over 50\n",
    "print('hobbyists over 50: ', over50[over50['Hobbyist']=='Yes'].shape[0])\n"
   ]
  },
  {
   "cell_type": "code",
   "execution_count": 11,
   "metadata": {
    "collapsed": true
   },
   "outputs": [],
   "source": [
    "%matplotlib inline\n",
    "# plotting data\n",
    "country_count=data['Country'].value_counts()"
   ]
  },
  {
   "cell_type": "code",
   "execution_count": 12,
   "metadata": {},
   "outputs": [
    {
     "name": "stdout",
     "output_type": "stream",
     "text": [
      "United States         12469\n",
      "India                  8403\n",
      "United Kingdom         3896\n",
      "Germany                3890\n",
      "Canada                 2191\n",
      "France                 1898\n",
      "Brazil                 1818\n",
      "Netherlands            1343\n",
      "Poland                 1278\n",
      "Australia              1208\n",
      "Spain                  1161\n",
      "Italy                  1117\n",
      "Russian Federation     1092\n",
      "Sweden                  886\n",
      "Pakistan                809\n",
      "Turkey                  777\n",
      "Israel                  653\n",
      "Switzerland             629\n",
      "Bangladesh              609\n",
      "Romania                 604\n",
      "Nigeria                 593\n",
      "Mexico                  540\n",
      "Ukraine                 539\n",
      "Austria                 539\n",
      "Name: Country, dtype: int64\n"
     ]
    }
   ],
   "source": [
    "# .isin() is used to check each and every value of the data frame satisfies the condition inside the 'isin' function or not.\n",
    "country_cut= data.loc[data['Country'].isin(country_count.index[country_count>500])]\n",
    "country_count_cut=country_cut['Country'].value_counts()\n",
    "print(country_count_cut)"
   ]
  },
  {
   "cell_type": "code",
   "execution_count": 13,
   "metadata": {
    "scrolled": true
   },
   "outputs": [
    {
     "data": {
      "text/plain": [
       "<matplotlib.axes._subplots.AxesSubplot at 0x1de86f5a828>"
      ]
     },
     "execution_count": 13,
     "metadata": {},
     "output_type": "execute_result"
    },
    {
     "data": {
      "image/png": "[encoded data removed]",
      "text/plain": [
       "<matplotlib.figure.Figure at 0x1de86f56320>"
      ]
     },
     "metadata": {},
     "output_type": "display_data"
    }
   ],
   "source": [
    "country_cut['Country'].value_counts().plot(kind=\"bar\")\n"
   ]
  },
  {
   "cell_type": "code",
   "execution_count": 14,
   "metadata": {
    "collapsed": true
   },
   "outputs": [],
   "source": [
    "data['YearsCode']=data['YearsCode'].fillna(0)"
   ]
  },
  {
   "cell_type": "code",
   "execution_count": 15,
   "metadata": {},
   "outputs": [
    {
     "data": {
      "text/html": [
       "<div>\n",
       "<style>\n",
       "    .dataframe thead tr:only-child th {\n",
       "        text-align: right;\n",
       "    }\n",
       "\n",
       "    .dataframe thead th {\n",
       "        text-align: left;\n",
       "    }\n",
       "\n",
       "    .dataframe tbody tr th {\n",
       "        vertical-align: top;\n",
       "    }\n",
       "</style>\n",
       "<table border=\"1\" class=\"dataframe\">\n",
       "  <thead>\n",
       "    <tr style=\"text-align: right;\">\n",
       "      <th></th>\n",
       "      <th>Respondent</th>\n",
       "      <th>MainBranch</th>\n",
       "      <th>Hobbyist</th>\n",
       "      <th>Age</th>\n",
       "      <th>Age1stCode</th>\n",
       "      <th>CompFreq</th>\n",
       "      <th>CompTotal</th>\n",
       "      <th>ConvertedComp</th>\n",
       "      <th>Country</th>\n",
       "      <th>CurrencyDesc</th>\n",
       "      <th>...</th>\n",
       "      <th>SurveyEase</th>\n",
       "      <th>SurveyLength</th>\n",
       "      <th>Trans</th>\n",
       "      <th>UndergradMajor</th>\n",
       "      <th>WebframeDesireNextYear</th>\n",
       "      <th>WebframeWorkedWith</th>\n",
       "      <th>WelcomeChange</th>\n",
       "      <th>WorkWeekHrs</th>\n",
       "      <th>YearsCode</th>\n",
       "      <th>YearsCodePro</th>\n",
       "    </tr>\n",
       "  </thead>\n",
       "  <tbody>\n",
       "    <tr>\n",
       "      <th>1</th>\n",
       "      <td>2</td>\n",
       "      <td>I am a developer by profession</td>\n",
       "      <td>No</td>\n",
       "      <td>30</td>\n",
       "      <td>19</td>\n",
       "      <td>NaN</td>\n",
       "      <td>NaN</td>\n",
       "      <td>NaN</td>\n",
       "      <td>United Kingdom</td>\n",
       "      <td>Pound sterling</td>\n",
       "      <td>...</td>\n",
       "      <td>NaN</td>\n",
       "      <td>NaN</td>\n",
       "      <td>NaN</td>\n",
       "      <td>Computer science, computer engineering, or sof...</td>\n",
       "      <td>NaN</td>\n",
       "      <td>NaN</td>\n",
       "      <td>Somewhat more welcome now than last year</td>\n",
       "      <td>NaN</td>\n",
       "      <td>7</td>\n",
       "      <td>4</td>\n",
       "    </tr>\n",
       "    <tr>\n",
       "      <th>9</th>\n",
       "      <td>10</td>\n",
       "      <td>I am a developer by profession</td>\n",
       "      <td>Yes</td>\n",
       "      <td>22</td>\n",
       "      <td>14</td>\n",
       "      <td>Yearly</td>\n",
       "      <td>25000.0</td>\n",
       "      <td>32315.0</td>\n",
       "      <td>United Kingdom</td>\n",
       "      <td>Pound sterling</td>\n",
       "      <td>...</td>\n",
       "      <td>Easy</td>\n",
       "      <td>Appropriate in length</td>\n",
       "      <td>No</td>\n",
       "      <td>Mathematics or statistics</td>\n",
       "      <td>Flask;jQuery</td>\n",
       "      <td>Flask;jQuery</td>\n",
       "      <td>Somewhat more welcome now than last year</td>\n",
       "      <td>36.0</td>\n",
       "      <td>8</td>\n",
       "      <td>4</td>\n",
       "    </tr>\n",
       "    <tr>\n",
       "      <th>10</th>\n",
       "      <td>11</td>\n",
       "      <td>I am a developer by profession</td>\n",
       "      <td>Yes</td>\n",
       "      <td>23</td>\n",
       "      <td>13</td>\n",
       "      <td>Yearly</td>\n",
       "      <td>31000.0</td>\n",
       "      <td>40070.0</td>\n",
       "      <td>United Kingdom</td>\n",
       "      <td>Pound sterling</td>\n",
       "      <td>...</td>\n",
       "      <td>Easy</td>\n",
       "      <td>Appropriate in length</td>\n",
       "      <td>No</td>\n",
       "      <td>Computer science, computer engineering, or sof...</td>\n",
       "      <td>Angular;Django;React.js</td>\n",
       "      <td>Angular;Angular.js;Django;React.js</td>\n",
       "      <td>Just as welcome now as I felt last year</td>\n",
       "      <td>40.0</td>\n",
       "      <td>10</td>\n",
       "      <td>2</td>\n",
       "    </tr>\n",
       "    <tr>\n",
       "      <th>15</th>\n",
       "      <td>16</td>\n",
       "      <td>I am a developer by profession</td>\n",
       "      <td>Yes</td>\n",
       "      <td>45</td>\n",
       "      <td>8</td>\n",
       "      <td>Monthly</td>\n",
       "      <td>7000.0</td>\n",
       "      <td>108576.0</td>\n",
       "      <td>United Kingdom</td>\n",
       "      <td>Pound sterling</td>\n",
       "      <td>...</td>\n",
       "      <td>Easy</td>\n",
       "      <td>Appropriate in length</td>\n",
       "      <td>No</td>\n",
       "      <td>Computer science, computer engineering, or sof...</td>\n",
       "      <td>NaN</td>\n",
       "      <td>jQuery;React.js</td>\n",
       "      <td>Just as welcome now as I felt last year</td>\n",
       "      <td>50.0</td>\n",
       "      <td>37</td>\n",
       "      <td>23</td>\n",
       "    </tr>\n",
       "    <tr>\n",
       "      <th>29</th>\n",
       "      <td>30</td>\n",
       "      <td>I am a developer by profession</td>\n",
       "      <td>Yes</td>\n",
       "      <td>30</td>\n",
       "      <td>14</td>\n",
       "      <td>Yearly</td>\n",
       "      <td>30000.0</td>\n",
       "      <td>38778.0</td>\n",
       "      <td>United Kingdom</td>\n",
       "      <td>Pound sterling</td>\n",
       "      <td>...</td>\n",
       "      <td>Neither easy nor difficult</td>\n",
       "      <td>Too long</td>\n",
       "      <td>No</td>\n",
       "      <td>Information systems, information technology, o...</td>\n",
       "      <td>Express;React.js;Vue.js</td>\n",
       "      <td>Express;Vue.js</td>\n",
       "      <td>A lot less welcome now than last year</td>\n",
       "      <td>37.0</td>\n",
       "      <td>4</td>\n",
       "      <td>2</td>\n",
       "    </tr>\n",
       "  </tbody>\n",
       "</table>\n",
       "<p>5 rows × 61 columns</p>\n",
       "</div>"
      ],
      "text/plain": [
       "    Respondent                      MainBranch Hobbyist  Age Age1stCode  \\\n",
       "1            2  I am a developer by profession       No   30         19   \n",
       "9           10  I am a developer by profession      Yes   22         14   \n",
       "10          11  I am a developer by profession      Yes   23         13   \n",
       "15          16  I am a developer by profession      Yes   45          8   \n",
       "29          30  I am a developer by profession      Yes   30         14   \n",
       "\n",
       "   CompFreq  CompTotal  ConvertedComp         Country    CurrencyDesc  \\\n",
       "1       NaN        NaN            NaN  United Kingdom  Pound sterling   \n",
       "9    Yearly    25000.0        32315.0  United Kingdom  Pound sterling   \n",
       "10   Yearly    31000.0        40070.0  United Kingdom  Pound sterling   \n",
       "15  Monthly     7000.0       108576.0  United Kingdom  Pound sterling   \n",
       "29   Yearly    30000.0        38778.0  United Kingdom  Pound sterling   \n",
       "\n",
       "       ...                       SurveyEase           SurveyLength Trans  \\\n",
       "1      ...                              NaN                    NaN   NaN   \n",
       "9      ...                             Easy  Appropriate in length    No   \n",
       "10     ...                             Easy  Appropriate in length    No   \n",
       "15     ...                             Easy  Appropriate in length    No   \n",
       "29     ...       Neither easy nor difficult               Too long    No   \n",
       "\n",
       "                                       UndergradMajor  \\\n",
       "1   Computer science, computer engineering, or sof...   \n",
       "9                           Mathematics or statistics   \n",
       "10  Computer science, computer engineering, or sof...   \n",
       "15  Computer science, computer engineering, or sof...   \n",
       "29  Information systems, information technology, o...   \n",
       "\n",
       "     WebframeDesireNextYear                  WebframeWorkedWith  \\\n",
       "1                       NaN                                 NaN   \n",
       "9              Flask;jQuery                        Flask;jQuery   \n",
       "10  Angular;Django;React.js  Angular;Angular.js;Django;React.js   \n",
       "15                      NaN                     jQuery;React.js   \n",
       "29  Express;React.js;Vue.js                      Express;Vue.js   \n",
       "\n",
       "                               WelcomeChange WorkWeekHrs YearsCode  \\\n",
       "1   Somewhat more welcome now than last year         NaN         7   \n",
       "9   Somewhat more welcome now than last year        36.0         8   \n",
       "10   Just as welcome now as I felt last year        40.0        10   \n",
       "15   Just as welcome now as I felt last year        50.0        37   \n",
       "29     A lot less welcome now than last year        37.0         4   \n",
       "\n",
       "   YearsCodePro  \n",
       "1             4  \n",
       "9             4  \n",
       "10            2  \n",
       "15           23  \n",
       "29            2  \n",
       "\n",
       "[5 rows x 61 columns]"
      ]
     },
     "execution_count": 15,
     "metadata": {},
     "output_type": "execute_result"
    }
   ],
   "source": [
    "uk_data=data[data['Country']=='United Kingdom']\n",
    "uk_data.head()\n"
   ]
  },
  {
   "cell_type": "code",
   "execution_count": 16,
   "metadata": {},
   "outputs": [
    {
     "data": {
      "text/plain": [
       "(3896, 61)"
      ]
     },
     "execution_count": 16,
     "metadata": {},
     "output_type": "execute_result"
    }
   ],
   "source": [
    "uk_data.shape"
   ]
  },
  {
   "cell_type": "code",
   "execution_count": 17,
   "metadata": {},
   "outputs": [
    {
     "data": {
      "text/plain": [
       "Ttest_indResult(statistic=-6.2896367399933943, pvalue=3.5336735008680911e-10)"
      ]
     },
     "execution_count": 17,
     "metadata": {},
     "output_type": "execute_result"
    }
   ],
   "source": [
    "# Hobbylist vs age\n",
    "# small p-value (less than 0.05 or 0.1)\n",
    "# reject the null hypothesis of identical ages - ie different ages\n",
    "from scipy import stats\n",
    "hobbyist = uk_data[uk_data['Hobbyist'] == 'Yes']['Age']\n",
    "not_hobbyist = uk_data[uk_data['Hobbyist'] == 'No']['Age']\n",
    "\n",
    "stats.ttest_ind(hobbyist, not_hobbyist)"
   ]
  }
 ],
 "metadata": {
  "kernelspec": {
   "display_name": "Python 3",
   "language": "python",
   "name": "python3"
  },
  "language_info": {
   "codemirror_mode": {
    "name": "ipython",
    "version": 3
   },
   "file_extension": ".py",
   "mimetype": "text/x-python",
   "name": "python",
   "nbconvert_exporter": "python",
   "pygments_lexer": "ipython3",
   "version": "3.6.2"
  }
 },
 "nbformat": 4,
 "nbformat_minor": 2
}
