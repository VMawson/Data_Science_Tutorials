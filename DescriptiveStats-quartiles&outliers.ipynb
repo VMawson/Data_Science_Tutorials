{
 "cells": [
  {
   "cell_type": "code",
   "execution_count": 1,
   "metadata": {
    "collapsed": true
   },
   "outputs": [],
   "source": [
    "# %load imports.py\n",
    "import pandas as pd\n",
    "import numpy as np\n",
    "import sklearn\n",
    "import matplotlib.pyplot as plt\n",
    "import seaborn as sns\n",
    "from scipy import stats"
   ]
  },
  {
   "cell_type": "markdown",
   "metadata": {},
   "source": [
    "the data set consists of US weather data; temperatures and rainfall"
   ]
  },
  {
   "cell_type": "code",
   "execution_count": 2,
   "metadata": {
    "collapsed": true
   },
   "outputs": [],
   "source": [
    "data_full=pd.read_csv('https://raw.githubusercontent.com/fivethirtyeight/data/master/us-weather-history/KCLT.csv')"
   ]
  },
  {
   "cell_type": "code",
   "execution_count": 3,
   "metadata": {
    "scrolled": true
   },
   "outputs": [
    {
     "data": {
      "text/plain": [
       "date                      object\n",
       "actual_mean_temp           int64\n",
       "actual_min_temp            int64\n",
       "actual_max_temp            int64\n",
       "average_min_temp           int64\n",
       "average_max_temp           int64\n",
       "record_min_temp            int64\n",
       "record_max_temp            int64\n",
       "record_min_temp_year       int64\n",
       "record_max_temp_year       int64\n",
       "actual_precipitation     float64\n",
       "average_precipitation    float64\n",
       "record_precipitation     float64\n",
       "dtype: object"
      ]
     },
     "execution_count": 3,
     "metadata": {},
     "output_type": "execute_result"
    }
   ],
   "source": [
    "data_full.head()\n",
    "data_full.dtypes"
   ]
  },
  {
   "cell_type": "markdown",
   "metadata": {},
   "source": [
    "we are not interested in all the data, so lets cut it down"
   ]
  },
  {
   "cell_type": "code",
   "execution_count": 4,
   "metadata": {},
   "outputs": [
    {
     "data": {
      "text/html": [
       "<div>\n",
       "<style>\n",
       "    .dataframe thead tr:only-child th {\n",
       "        text-align: right;\n",
       "    }\n",
       "\n",
       "    .dataframe thead th {\n",
       "        text-align: left;\n",
       "    }\n",
       "\n",
       "    .dataframe tbody tr th {\n",
       "        vertical-align: top;\n",
       "    }\n",
       "</style>\n",
       "<table border=\"1\" class=\"dataframe\">\n",
       "  <thead>\n",
       "    <tr style=\"text-align: right;\">\n",
       "      <th></th>\n",
       "      <th>date</th>\n",
       "      <th>actual_mean_temp</th>\n",
       "      <th>actual_min_temp</th>\n",
       "      <th>actual_max_temp</th>\n",
       "      <th>record_min_temp</th>\n",
       "      <th>record_max_temp</th>\n",
       "      <th>actual_precipitation</th>\n",
       "      <th>record_precipitation</th>\n",
       "    </tr>\n",
       "  </thead>\n",
       "  <tbody>\n",
       "    <tr>\n",
       "      <th>0</th>\n",
       "      <td>2014-7-1</td>\n",
       "      <td>81</td>\n",
       "      <td>70</td>\n",
       "      <td>91</td>\n",
       "      <td>56</td>\n",
       "      <td>104</td>\n",
       "      <td>0.00</td>\n",
       "      <td>5.91</td>\n",
       "    </tr>\n",
       "    <tr>\n",
       "      <th>1</th>\n",
       "      <td>2014-7-2</td>\n",
       "      <td>85</td>\n",
       "      <td>74</td>\n",
       "      <td>95</td>\n",
       "      <td>56</td>\n",
       "      <td>101</td>\n",
       "      <td>0.00</td>\n",
       "      <td>1.53</td>\n",
       "    </tr>\n",
       "    <tr>\n",
       "      <th>2</th>\n",
       "      <td>2014-7-3</td>\n",
       "      <td>82</td>\n",
       "      <td>71</td>\n",
       "      <td>93</td>\n",
       "      <td>56</td>\n",
       "      <td>99</td>\n",
       "      <td>0.14</td>\n",
       "      <td>2.50</td>\n",
       "    </tr>\n",
       "    <tr>\n",
       "      <th>3</th>\n",
       "      <td>2014-7-4</td>\n",
       "      <td>75</td>\n",
       "      <td>64</td>\n",
       "      <td>86</td>\n",
       "      <td>55</td>\n",
       "      <td>99</td>\n",
       "      <td>0.00</td>\n",
       "      <td>2.63</td>\n",
       "    </tr>\n",
       "    <tr>\n",
       "      <th>4</th>\n",
       "      <td>2014-7-5</td>\n",
       "      <td>72</td>\n",
       "      <td>60</td>\n",
       "      <td>84</td>\n",
       "      <td>57</td>\n",
       "      <td>100</td>\n",
       "      <td>0.00</td>\n",
       "      <td>1.65</td>\n",
       "    </tr>\n",
       "  </tbody>\n",
       "</table>\n",
       "</div>"
      ],
      "text/plain": [
       "       date  actual_mean_temp  actual_min_temp  actual_max_temp  \\\n",
       "0  2014-7-1                81               70               91   \n",
       "1  2014-7-2                85               74               95   \n",
       "2  2014-7-3                82               71               93   \n",
       "3  2014-7-4                75               64               86   \n",
       "4  2014-7-5                72               60               84   \n",
       "\n",
       "   record_min_temp  record_max_temp  actual_precipitation  \\\n",
       "0               56              104                  0.00   \n",
       "1               56              101                  0.00   \n",
       "2               56               99                  0.14   \n",
       "3               55               99                  0.00   \n",
       "4               57              100                  0.00   \n",
       "\n",
       "   record_precipitation  \n",
       "0                  5.91  \n",
       "1                  1.53  \n",
       "2                  2.50  \n",
       "3                  2.63  \n",
       "4                  1.65  "
      ]
     },
     "execution_count": 4,
     "metadata": {},
     "output_type": "execute_result"
    }
   ],
   "source": [
    "data=data_full[['date','actual_mean_temp','actual_min_temp',\n",
    "                'actual_max_temp','record_min_temp',\n",
    "                'record_max_temp','actual_precipitation',\n",
    "                'record_precipitation']]\n",
    "data.head()"
   ]
  },
  {
   "cell_type": "code",
   "execution_count": 5,
   "metadata": {},
   "outputs": [
    {
     "name": "stderr",
     "output_type": "stream",
     "text": [
      "C:\\Program Files (x86)\\Microsoft Visual Studio\\Shared\\Anaconda3_64\\lib\\site-packages\\ipykernel_launcher.py:2: SettingWithCopyWarning: \n",
      "A value is trying to be set on a copy of a slice from a DataFrame.\n",
      "Try using .loc[row_indexer,col_indexer] = value instead\n",
      "\n",
      "See the caveats in the documentation: http://pandas.pydata.org/pandas-docs/stable/indexing.html#indexing-view-versus-copy\n",
      "  \n"
     ]
    }
   ],
   "source": [
    "# the date needs to be changed into the date format, in order to use the Grouper function later\n",
    "data['date']=pd.to_datetime(data['date'])"
   ]
  },
  {
   "cell_type": "markdown",
   "metadata": {},
   "source": [
    "we can then split our data to look at reconds on a weekly or monthly basis. \n",
    "we group by date, and then provide the min max or mean of column"
   ]
  },
  {
   "cell_type": "code",
   "execution_count": 6,
   "metadata": {},
   "outputs": [
    {
     "data": {
      "text/html": [
       "<div>\n",
       "<style>\n",
       "    .dataframe thead tr:only-child th {\n",
       "        text-align: right;\n",
       "    }\n",
       "\n",
       "    .dataframe thead th {\n",
       "        text-align: left;\n",
       "    }\n",
       "\n",
       "    .dataframe tbody tr th {\n",
       "        vertical-align: top;\n",
       "    }\n",
       "</style>\n",
       "<table border=\"1\" class=\"dataframe\">\n",
       "  <thead>\n",
       "    <tr style=\"text-align: right;\">\n",
       "      <th></th>\n",
       "      <th>actual_mean_temp</th>\n",
       "      <th>actual_min_temp</th>\n",
       "      <th>actual_max_temp</th>\n",
       "      <th>record_min_temp</th>\n",
       "      <th>record_max_temp</th>\n",
       "      <th>record_precipitation</th>\n",
       "      <th>actual_precipitation</th>\n",
       "    </tr>\n",
       "    <tr>\n",
       "      <th>date</th>\n",
       "      <th></th>\n",
       "      <th></th>\n",
       "      <th></th>\n",
       "      <th></th>\n",
       "      <th></th>\n",
       "      <th></th>\n",
       "      <th></th>\n",
       "    </tr>\n",
       "  </thead>\n",
       "  <tbody>\n",
       "    <tr>\n",
       "      <th>2014-07-31</th>\n",
       "      <td>77.741935</td>\n",
       "      <td>60</td>\n",
       "      <td>96</td>\n",
       "      <td>53</td>\n",
       "      <td>104</td>\n",
       "      <td>6.88</td>\n",
       "      <td>0.141290</td>\n",
       "    </tr>\n",
       "    <tr>\n",
       "      <th>2014-08-31</th>\n",
       "      <td>76.580645</td>\n",
       "      <td>57</td>\n",
       "      <td>95</td>\n",
       "      <td>50</td>\n",
       "      <td>104</td>\n",
       "      <td>5.36</td>\n",
       "      <td>0.120645</td>\n",
       "    </tr>\n",
       "    <tr>\n",
       "      <th>2014-09-30</th>\n",
       "      <td>72.533333</td>\n",
       "      <td>53</td>\n",
       "      <td>94</td>\n",
       "      <td>38</td>\n",
       "      <td>104</td>\n",
       "      <td>4.84</td>\n",
       "      <td>0.145000</td>\n",
       "    </tr>\n",
       "    <tr>\n",
       "      <th>2014-10-31</th>\n",
       "      <td>63.225806</td>\n",
       "      <td>38</td>\n",
       "      <td>87</td>\n",
       "      <td>24</td>\n",
       "      <td>98</td>\n",
       "      <td>4.76</td>\n",
       "      <td>0.043548</td>\n",
       "    </tr>\n",
       "    <tr>\n",
       "      <th>2014-11-30</th>\n",
       "      <td>47.533333</td>\n",
       "      <td>14</td>\n",
       "      <td>77</td>\n",
       "      <td>11</td>\n",
       "      <td>85</td>\n",
       "      <td>3.26</td>\n",
       "      <td>0.126333</td>\n",
       "    </tr>\n",
       "  </tbody>\n",
       "</table>\n",
       "</div>"
      ],
      "text/plain": [
       "            actual_mean_temp  actual_min_temp  actual_max_temp  \\\n",
       "date                                                             \n",
       "2014-07-31         77.741935               60               96   \n",
       "2014-08-31         76.580645               57               95   \n",
       "2014-09-30         72.533333               53               94   \n",
       "2014-10-31         63.225806               38               87   \n",
       "2014-11-30         47.533333               14               77   \n",
       "\n",
       "            record_min_temp  record_max_temp  record_precipitation  \\\n",
       "date                                                                 \n",
       "2014-07-31               53              104                  6.88   \n",
       "2014-08-31               50              104                  5.36   \n",
       "2014-09-30               38              104                  4.84   \n",
       "2014-10-31               24               98                  4.76   \n",
       "2014-11-30               11               85                  3.26   \n",
       "\n",
       "            actual_precipitation  \n",
       "date                              \n",
       "2014-07-31              0.141290  \n",
       "2014-08-31              0.120645  \n",
       "2014-09-30              0.145000  \n",
       "2014-10-31              0.043548  \n",
       "2014-11-30              0.126333  "
      ]
     },
     "execution_count": 6,
     "metadata": {},
     "output_type": "execute_result"
    }
   ],
   "source": [
    "monthly_data=data.groupby(pd.Grouper(key='date', freq='M')).agg({\n",
    "    'actual_mean_temp': 'mean',\n",
    "    'actual_min_temp': 'min',\n",
    "    'actual_max_temp': 'max',\n",
    "    'record_min_temp' :'min',\n",
    "    'record_max_temp': 'max',\n",
    "    'record_precipitation': 'max',\n",
    "    'actual_precipitation': 'mean'\n",
    "})\n",
    "monthly_data.head()"
   ]
  },
  {
   "cell_type": "markdown",
   "metadata": {},
   "source": [
    "we can then plot our data using matplotlib"
   ]
  },
  {
   "cell_type": "code",
   "execution_count": 7,
   "metadata": {
    "scrolled": true
   },
   "outputs": [
    {
     "data": {
      "text/plain": [
       "[<matplotlib.lines.Line2D at 0x1bad5b90be0>,\n",
       " <matplotlib.lines.Line2D at 0x1bad4a720b8>,\n",
       " <matplotlib.lines.Line2D at 0x1bad4a72278>]"
      ]
     },
     "execution_count": 7,
     "metadata": {},
     "output_type": "execute_result"
    },
    {
     "data": {
      "image/png": "[encoded data removed]",
      "text/plain": [
       "<matplotlib.figure.Figure at 0x1bad4a42240>"
      ]
     },
     "metadata": {},
     "output_type": "display_data"
    }
   ],
   "source": [
    "%matplotlib inline\n",
    "plt.plot(data['date'], data[['actual_mean_temp','actual_min_temp','actual_max_temp']])"
   ]
  },
  {
   "cell_type": "markdown",
   "metadata": {},
   "source": [
    "this plot doesnt look great, so we can add a label, make the lines thinner, and specify certain colours for the lines"
   ]
  },
  {
   "cell_type": "code",
   "execution_count": 8,
   "metadata": {},
   "outputs": [
    {
     "data": {
      "image/png": "[encoded data removed]",
      "text/plain": [
       "<matplotlib.figure.Figure at 0x1bad5cb8c88>"
      ]
     },
     "metadata": {},
     "output_type": "display_data"
    }
   ],
   "source": [
    "fig, ax = plt.subplots()\n",
    "ax.plot(data['date'], data['actual_mean_temp'], '-b', label='mean temp', linewidth=0.5)\n",
    "ax.plot(data['date'], data['actual_min_temp'], '--r', label='min temp', linewidth=.5)\n",
    "ax.plot(data['date'], data['actual_max_temp'], 'y', label='min temp', linewidth=.5)\n",
    "plt.xlabel('Date')\n",
    "plt.ylabel('Temp (F)')\n",
    "#plt.ylim(0, 100)\n",
    "leg = ax.legend()"
   ]
  },
  {
   "cell_type": "markdown",
   "metadata": {},
   "source": [
    "# Finding outliers\n",
    "\n",
    "## Uni-variate(one variable outlier analysis) and Multi-variate(two or more variable outlier analysis)\n",
    "\n",
    "1. boxplots\n",
    "2. z score\n",
    "3. standard deviation \n",
    "4. Quartiles and IQR"
   ]
  },
  {
   "cell_type": "markdown",
   "metadata": {},
   "source": [
    "## boxplot\n",
    "a box plot will show us the dispersion of the data. The two whiskers show the min and max values of our data, anything outside of this will be an outlier. \n",
    "The left and right lines of the box show 25th and 75th percentile, and the middle line in the box representing the median.\n",
    "anything inside the box is within the interquartile range."
   ]
  },
  {
   "cell_type": "code",
   "execution_count": 9,
   "metadata": {},
   "outputs": [
    {
     "data": {
      "text/plain": [
       "<matplotlib.axes._subplots.AxesSubplot at 0x1bad5cddf28>"
      ]
     },
     "execution_count": 9,
     "metadata": {},
     "output_type": "execute_result"
    },
    {
     "data": {
      "image/png": "[encoded data removed]",
      "text/plain": [
       "<matplotlib.figure.Figure at 0x1bad5cedc50>"
      ]
     },
     "metadata": {},
     "output_type": "display_data"
    }
   ],
   "source": [
    "sns.boxplot(x=data['actual_mean_temp'])\n"
   ]
  },
  {
   "cell_type": "markdown",
   "metadata": {},
   "source": [
    "we can plot all 5 temperature box plots on one graph. According to the boxplots, there are no outliers"
   ]
  },
  {
   "cell_type": "code",
   "execution_count": 10,
   "metadata": {},
   "outputs": [
    {
     "data": {
      "text/plain": [
       "[<matplotlib.text.Text at 0x1bad612ca20>,\n",
       " <matplotlib.text.Text at 0x1bad60f1080>,\n",
       " <matplotlib.text.Text at 0x1bad61e2f98>,\n",
       " <matplotlib.text.Text at 0x1bad61d3978>,\n",
       " <matplotlib.text.Text at 0x1bad61f0390>]"
      ]
     },
     "execution_count": 10,
     "metadata": {},
     "output_type": "execute_result"
    },
    {
     "data": {
      "image/png": "[encoded data removed]",
      "text/plain": [
       "<matplotlib.figure.Figure at 0x1bad5de2550>"
      ]
     },
     "metadata": {},
     "output_type": "display_data"
    }
   ],
   "source": [
    "drop_date=data.drop(['date'], axis=1)\n",
    "boxplot=sns.boxplot(data=drop_date[['actual_mean_temp','actual_min_temp','actual_max_temp','record_min_temp','record_max_temp']])\n",
    "boxplot.set_xticklabels(boxplot.get_xticklabels(), rotation=45)"
   ]
  },
  {
   "cell_type": "markdown",
   "metadata": {},
   "source": [
    "although it seems we have a few outliers in our precipitation dataset...\n"
   ]
  },
  {
   "cell_type": "code",
   "execution_count": 11,
   "metadata": {},
   "outputs": [
    {
     "data": {
      "text/plain": [
       "[<matplotlib.text.Text at 0x1bad6254b00>,\n",
       " <matplotlib.text.Text at 0x1bad625c278>]"
      ]
     },
     "execution_count": 11,
     "metadata": {},
     "output_type": "execute_result"
    },
    {
     "data": {
      "image/png": "[encoded data removed]",
      "text/plain": [
       "<matplotlib.figure.Figure at 0x1bad6201160>"
      ]
     },
     "metadata": {},
     "output_type": "display_data"
    }
   ],
   "source": [
    "boxplot_rain=sns.boxplot(data=drop_date[['actual_precipitation','record_precipitation']])\n",
    "boxplot_rain.set_xticklabels(boxplot_rain.get_xticklabels(), rotation=45)"
   ]
  },
  {
   "cell_type": "markdown",
   "metadata": {},
   "source": [
    "## zscore\n",
    "\n"
   ]
  },
  {
   "cell_type": "markdown",
   "metadata": {},
   "source": [
    "while calculating the Z-score we re-scale and center the data and look for data points which are too far from zero. These data points which are way too far from zero will be treated as the outliers."
   ]
  },
  {
   "cell_type": "code",
   "execution_count": 12,
   "metadata": {
    "collapsed": true
   },
   "outputs": [],
   "source": [
    "z= stats.zscore(data.drop(['date'], axis=1))"
   ]
  },
  {
   "cell_type": "markdown",
   "metadata": {},
   "source": [
    "in most of the cases a threshold of 3 or -3 is used i.e if the Z-score value is greater than or less than 3 or -3 respectively, that data point will be identified as outliers.\n",
    "the first array show the row in which we find an outlier, with the corresponding column number displayed in the second array. we can see that all our outliers are in column 5 and 6- the precipitation column."
   ]
  },
  {
   "cell_type": "code",
   "execution_count": 13,
   "metadata": {},
   "outputs": [
    {
     "data": {
      "text/plain": [
       "(array([  0,  20,  22,  30,  31,  56,  74, 145, 288, 292, 321, 360], dtype=int64),\n",
       " array([6, 5, 6, 5, 5, 6, 5, 5, 5, 5, 6, 5], dtype=int64))"
      ]
     },
     "execution_count": 13,
     "metadata": {},
     "output_type": "execute_result"
    }
   ],
   "source": [
    "threshold = 3\n",
    "np.where(z > 3)"
   ]
  },
  {
   "cell_type": "code",
   "execution_count": 14,
   "metadata": {
    "scrolled": true
   },
   "outputs": [
    {
     "data": {
      "text/html": [
       "<div>\n",
       "<style>\n",
       "    .dataframe thead tr:only-child th {\n",
       "        text-align: right;\n",
       "    }\n",
       "\n",
       "    .dataframe thead th {\n",
       "        text-align: left;\n",
       "    }\n",
       "\n",
       "    .dataframe tbody tr th {\n",
       "        vertical-align: top;\n",
       "    }\n",
       "</style>\n",
       "<table border=\"1\" class=\"dataframe\">\n",
       "  <thead>\n",
       "    <tr style=\"text-align: right;\">\n",
       "      <th></th>\n",
       "      <th>date</th>\n",
       "      <th>actual_mean_temp</th>\n",
       "      <th>actual_min_temp</th>\n",
       "      <th>actual_max_temp</th>\n",
       "      <th>record_min_temp</th>\n",
       "      <th>record_max_temp</th>\n",
       "      <th>actual_precipitation</th>\n",
       "      <th>record_precipitation</th>\n",
       "    </tr>\n",
       "  </thead>\n",
       "  <tbody>\n",
       "    <tr>\n",
       "      <th>0</th>\n",
       "      <td>2014-07-01</td>\n",
       "      <td>81</td>\n",
       "      <td>70</td>\n",
       "      <td>91</td>\n",
       "      <td>56</td>\n",
       "      <td>104</td>\n",
       "      <td>0.00</td>\n",
       "      <td>5.91</td>\n",
       "    </tr>\n",
       "    <tr>\n",
       "      <th>20</th>\n",
       "      <td>2014-07-21</td>\n",
       "      <td>74</td>\n",
       "      <td>70</td>\n",
       "      <td>77</td>\n",
       "      <td>57</td>\n",
       "      <td>103</td>\n",
       "      <td>1.30</td>\n",
       "      <td>3.83</td>\n",
       "    </tr>\n",
       "    <tr>\n",
       "      <th>22</th>\n",
       "      <td>2014-07-23</td>\n",
       "      <td>80</td>\n",
       "      <td>69</td>\n",
       "      <td>90</td>\n",
       "      <td>56</td>\n",
       "      <td>101</td>\n",
       "      <td>0.00</td>\n",
       "      <td>6.88</td>\n",
       "    </tr>\n",
       "    <tr>\n",
       "      <th>30</th>\n",
       "      <td>2014-07-31</td>\n",
       "      <td>72</td>\n",
       "      <td>65</td>\n",
       "      <td>78</td>\n",
       "      <td>56</td>\n",
       "      <td>100</td>\n",
       "      <td>1.45</td>\n",
       "      <td>1.45</td>\n",
       "    </tr>\n",
       "    <tr>\n",
       "      <th>31</th>\n",
       "      <td>2014-08-01</td>\n",
       "      <td>68</td>\n",
       "      <td>65</td>\n",
       "      <td>70</td>\n",
       "      <td>58</td>\n",
       "      <td>98</td>\n",
       "      <td>2.39</td>\n",
       "      <td>2.39</td>\n",
       "    </tr>\n",
       "    <tr>\n",
       "      <th>56</th>\n",
       "      <td>2014-08-26</td>\n",
       "      <td>72</td>\n",
       "      <td>60</td>\n",
       "      <td>84</td>\n",
       "      <td>55</td>\n",
       "      <td>100</td>\n",
       "      <td>0.00</td>\n",
       "      <td>5.36</td>\n",
       "    </tr>\n",
       "    <tr>\n",
       "      <th>74</th>\n",
       "      <td>2014-09-13</td>\n",
       "      <td>76</td>\n",
       "      <td>66</td>\n",
       "      <td>86</td>\n",
       "      <td>49</td>\n",
       "      <td>94</td>\n",
       "      <td>1.56</td>\n",
       "      <td>4.12</td>\n",
       "    </tr>\n",
       "    <tr>\n",
       "      <th>145</th>\n",
       "      <td>2014-11-23</td>\n",
       "      <td>54</td>\n",
       "      <td>42</td>\n",
       "      <td>65</td>\n",
       "      <td>18</td>\n",
       "      <td>78</td>\n",
       "      <td>1.72</td>\n",
       "      <td>1.72</td>\n",
       "    </tr>\n",
       "    <tr>\n",
       "      <th>288</th>\n",
       "      <td>2015-04-15</td>\n",
       "      <td>58</td>\n",
       "      <td>50</td>\n",
       "      <td>65</td>\n",
       "      <td>28</td>\n",
       "      <td>89</td>\n",
       "      <td>1.26</td>\n",
       "      <td>1.73</td>\n",
       "    </tr>\n",
       "    <tr>\n",
       "      <th>292</th>\n",
       "      <td>2015-04-19</td>\n",
       "      <td>67</td>\n",
       "      <td>64</td>\n",
       "      <td>69</td>\n",
       "      <td>30</td>\n",
       "      <td>89</td>\n",
       "      <td>2.65</td>\n",
       "      <td>2.65</td>\n",
       "    </tr>\n",
       "    <tr>\n",
       "      <th>321</th>\n",
       "      <td>2015-05-18</td>\n",
       "      <td>78</td>\n",
       "      <td>67</td>\n",
       "      <td>89</td>\n",
       "      <td>34</td>\n",
       "      <td>94</td>\n",
       "      <td>0.00</td>\n",
       "      <td>4.85</td>\n",
       "    </tr>\n",
       "    <tr>\n",
       "      <th>360</th>\n",
       "      <td>2015-06-26</td>\n",
       "      <td>85</td>\n",
       "      <td>70</td>\n",
       "      <td>100</td>\n",
       "      <td>55</td>\n",
       "      <td>102</td>\n",
       "      <td>1.21</td>\n",
       "      <td>1.98</td>\n",
       "    </tr>\n",
       "  </tbody>\n",
       "</table>\n",
       "</div>"
      ],
      "text/plain": [
       "          date  actual_mean_temp  actual_min_temp  actual_max_temp  \\\n",
       "0   2014-07-01                81               70               91   \n",
       "20  2014-07-21                74               70               77   \n",
       "22  2014-07-23                80               69               90   \n",
       "30  2014-07-31                72               65               78   \n",
       "31  2014-08-01                68               65               70   \n",
       "56  2014-08-26                72               60               84   \n",
       "74  2014-09-13                76               66               86   \n",
       "145 2014-11-23                54               42               65   \n",
       "288 2015-04-15                58               50               65   \n",
       "292 2015-04-19                67               64               69   \n",
       "321 2015-05-18                78               67               89   \n",
       "360 2015-06-26                85               70              100   \n",
       "\n",
       "     record_min_temp  record_max_temp  actual_precipitation  \\\n",
       "0                 56              104                  0.00   \n",
       "20                57              103                  1.30   \n",
       "22                56              101                  0.00   \n",
       "30                56              100                  1.45   \n",
       "31                58               98                  2.39   \n",
       "56                55              100                  0.00   \n",
       "74                49               94                  1.56   \n",
       "145               18               78                  1.72   \n",
       "288               28               89                  1.26   \n",
       "292               30               89                  2.65   \n",
       "321               34               94                  0.00   \n",
       "360               55              102                  1.21   \n",
       "\n",
       "     record_precipitation  \n",
       "0                    5.91  \n",
       "20                   3.83  \n",
       "22                   6.88  \n",
       "30                   1.45  \n",
       "31                   2.39  \n",
       "56                   5.36  \n",
       "74                   4.12  \n",
       "145                  1.72  \n",
       "288                  1.73  \n",
       "292                  2.65  \n",
       "321                  4.85  \n",
       "360                  1.98  "
      ]
     },
     "execution_count": 14,
     "metadata": {},
     "output_type": "execute_result"
    }
   ],
   "source": [
    "#alternative method\n",
    "zdataframe=data.drop(['date'], axis=1).apply(stats.zscore)\n",
    "idx= np.where(zdataframe > 3)\n",
    "# this will give us the rows where z is greater than 3. \n",
    "data.loc[idx[0]]"
   ]
  },
  {
   "cell_type": "markdown",
   "metadata": {},
   "source": [
    "we can then remove these outliers from our dataset"
   ]
  },
  {
   "cell_type": "code",
   "execution_count": 15,
   "metadata": {},
   "outputs": [
    {
     "data": {
      "text/html": [
       "<div>\n",
       "<style>\n",
       "    .dataframe thead tr:only-child th {\n",
       "        text-align: right;\n",
       "    }\n",
       "\n",
       "    .dataframe thead th {\n",
       "        text-align: left;\n",
       "    }\n",
       "\n",
       "    .dataframe tbody tr th {\n",
       "        vertical-align: top;\n",
       "    }\n",
       "</style>\n",
       "<table border=\"1\" class=\"dataframe\">\n",
       "  <thead>\n",
       "    <tr style=\"text-align: right;\">\n",
       "      <th></th>\n",
       "      <th>date</th>\n",
       "      <th>actual_mean_temp</th>\n",
       "      <th>actual_min_temp</th>\n",
       "      <th>actual_max_temp</th>\n",
       "      <th>record_min_temp</th>\n",
       "      <th>record_max_temp</th>\n",
       "      <th>actual_precipitation</th>\n",
       "      <th>record_precipitation</th>\n",
       "    </tr>\n",
       "  </thead>\n",
       "  <tbody>\n",
       "    <tr>\n",
       "      <th>1</th>\n",
       "      <td>2014-07-02</td>\n",
       "      <td>85</td>\n",
       "      <td>74</td>\n",
       "      <td>95</td>\n",
       "      <td>56</td>\n",
       "      <td>101</td>\n",
       "      <td>0.00</td>\n",
       "      <td>1.53</td>\n",
       "    </tr>\n",
       "    <tr>\n",
       "      <th>2</th>\n",
       "      <td>2014-07-03</td>\n",
       "      <td>82</td>\n",
       "      <td>71</td>\n",
       "      <td>93</td>\n",
       "      <td>56</td>\n",
       "      <td>99</td>\n",
       "      <td>0.14</td>\n",
       "      <td>2.50</td>\n",
       "    </tr>\n",
       "    <tr>\n",
       "      <th>3</th>\n",
       "      <td>2014-07-04</td>\n",
       "      <td>75</td>\n",
       "      <td>64</td>\n",
       "      <td>86</td>\n",
       "      <td>55</td>\n",
       "      <td>99</td>\n",
       "      <td>0.00</td>\n",
       "      <td>2.63</td>\n",
       "    </tr>\n",
       "    <tr>\n",
       "      <th>4</th>\n",
       "      <td>2014-07-05</td>\n",
       "      <td>72</td>\n",
       "      <td>60</td>\n",
       "      <td>84</td>\n",
       "      <td>57</td>\n",
       "      <td>100</td>\n",
       "      <td>0.00</td>\n",
       "      <td>1.65</td>\n",
       "    </tr>\n",
       "    <tr>\n",
       "      <th>5</th>\n",
       "      <td>2014-07-06</td>\n",
       "      <td>74</td>\n",
       "      <td>61</td>\n",
       "      <td>87</td>\n",
       "      <td>57</td>\n",
       "      <td>99</td>\n",
       "      <td>0.00</td>\n",
       "      <td>1.95</td>\n",
       "    </tr>\n",
       "    <tr>\n",
       "      <th>6</th>\n",
       "      <td>2014-07-07</td>\n",
       "      <td>79</td>\n",
       "      <td>67</td>\n",
       "      <td>91</td>\n",
       "      <td>55</td>\n",
       "      <td>100</td>\n",
       "      <td>0.00</td>\n",
       "      <td>2.37</td>\n",
       "    </tr>\n",
       "    <tr>\n",
       "      <th>7</th>\n",
       "      <td>2014-07-08</td>\n",
       "      <td>83</td>\n",
       "      <td>72</td>\n",
       "      <td>94</td>\n",
       "      <td>58</td>\n",
       "      <td>101</td>\n",
       "      <td>0.00</td>\n",
       "      <td>1.87</td>\n",
       "    </tr>\n",
       "    <tr>\n",
       "      <th>8</th>\n",
       "      <td>2014-07-09</td>\n",
       "      <td>80</td>\n",
       "      <td>71</td>\n",
       "      <td>89</td>\n",
       "      <td>57</td>\n",
       "      <td>101</td>\n",
       "      <td>0.15</td>\n",
       "      <td>3.71</td>\n",
       "    </tr>\n",
       "    <tr>\n",
       "      <th>9</th>\n",
       "      <td>2014-07-10</td>\n",
       "      <td>78</td>\n",
       "      <td>71</td>\n",
       "      <td>85</td>\n",
       "      <td>53</td>\n",
       "      <td>101</td>\n",
       "      <td>0.00</td>\n",
       "      <td>2.45</td>\n",
       "    </tr>\n",
       "    <tr>\n",
       "      <th>10</th>\n",
       "      <td>2014-07-11</td>\n",
       "      <td>78</td>\n",
       "      <td>68</td>\n",
       "      <td>87</td>\n",
       "      <td>55</td>\n",
       "      <td>100</td>\n",
       "      <td>0.00</td>\n",
       "      <td>3.10</td>\n",
       "    </tr>\n",
       "    <tr>\n",
       "      <th>11</th>\n",
       "      <td>2014-07-12</td>\n",
       "      <td>79</td>\n",
       "      <td>67</td>\n",
       "      <td>91</td>\n",
       "      <td>59</td>\n",
       "      <td>102</td>\n",
       "      <td>0.00</td>\n",
       "      <td>1.95</td>\n",
       "    </tr>\n",
       "    <tr>\n",
       "      <th>12</th>\n",
       "      <td>2014-07-13</td>\n",
       "      <td>81</td>\n",
       "      <td>69</td>\n",
       "      <td>92</td>\n",
       "      <td>56</td>\n",
       "      <td>100</td>\n",
       "      <td>0.00</td>\n",
       "      <td>2.09</td>\n",
       "    </tr>\n",
       "    <tr>\n",
       "      <th>13</th>\n",
       "      <td>2014-07-14</td>\n",
       "      <td>85</td>\n",
       "      <td>74</td>\n",
       "      <td>96</td>\n",
       "      <td>59</td>\n",
       "      <td>102</td>\n",
       "      <td>0.00</td>\n",
       "      <td>2.15</td>\n",
       "    </tr>\n",
       "    <tr>\n",
       "      <th>14</th>\n",
       "      <td>2014-07-15</td>\n",
       "      <td>81</td>\n",
       "      <td>67</td>\n",
       "      <td>94</td>\n",
       "      <td>58</td>\n",
       "      <td>100</td>\n",
       "      <td>0.87</td>\n",
       "      <td>4.61</td>\n",
       "    </tr>\n",
       "    <tr>\n",
       "      <th>15</th>\n",
       "      <td>2014-07-16</td>\n",
       "      <td>76</td>\n",
       "      <td>66</td>\n",
       "      <td>85</td>\n",
       "      <td>58</td>\n",
       "      <td>100</td>\n",
       "      <td>0.00</td>\n",
       "      <td>1.47</td>\n",
       "    </tr>\n",
       "    <tr>\n",
       "      <th>16</th>\n",
       "      <td>2014-07-17</td>\n",
       "      <td>74</td>\n",
       "      <td>63</td>\n",
       "      <td>84</td>\n",
       "      <td>62</td>\n",
       "      <td>100</td>\n",
       "      <td>0.00</td>\n",
       "      <td>4.14</td>\n",
       "    </tr>\n",
       "    <tr>\n",
       "      <th>17</th>\n",
       "      <td>2014-07-18</td>\n",
       "      <td>77</td>\n",
       "      <td>70</td>\n",
       "      <td>83</td>\n",
       "      <td>62</td>\n",
       "      <td>102</td>\n",
       "      <td>0.00</td>\n",
       "      <td>1.82</td>\n",
       "    </tr>\n",
       "    <tr>\n",
       "      <th>18</th>\n",
       "      <td>2014-07-19</td>\n",
       "      <td>70</td>\n",
       "      <td>66</td>\n",
       "      <td>74</td>\n",
       "      <td>60</td>\n",
       "      <td>103</td>\n",
       "      <td>0.17</td>\n",
       "      <td>2.30</td>\n",
       "    </tr>\n",
       "    <tr>\n",
       "      <th>19</th>\n",
       "      <td>2014-07-20</td>\n",
       "      <td>74</td>\n",
       "      <td>65</td>\n",
       "      <td>83</td>\n",
       "      <td>60</td>\n",
       "      <td>101</td>\n",
       "      <td>0.00</td>\n",
       "      <td>1.25</td>\n",
       "    </tr>\n",
       "    <tr>\n",
       "      <th>21</th>\n",
       "      <td>2014-07-22</td>\n",
       "      <td>79</td>\n",
       "      <td>72</td>\n",
       "      <td>85</td>\n",
       "      <td>58</td>\n",
       "      <td>103</td>\n",
       "      <td>0.00</td>\n",
       "      <td>2.56</td>\n",
       "    </tr>\n",
       "  </tbody>\n",
       "</table>\n",
       "</div>"
      ],
      "text/plain": [
       "         date  actual_mean_temp  actual_min_temp  actual_max_temp  \\\n",
       "1  2014-07-02                85               74               95   \n",
       "2  2014-07-03                82               71               93   \n",
       "3  2014-07-04                75               64               86   \n",
       "4  2014-07-05                72               60               84   \n",
       "5  2014-07-06                74               61               87   \n",
       "6  2014-07-07                79               67               91   \n",
       "7  2014-07-08                83               72               94   \n",
       "8  2014-07-09                80               71               89   \n",
       "9  2014-07-10                78               71               85   \n",
       "10 2014-07-11                78               68               87   \n",
       "11 2014-07-12                79               67               91   \n",
       "12 2014-07-13                81               69               92   \n",
       "13 2014-07-14                85               74               96   \n",
       "14 2014-07-15                81               67               94   \n",
       "15 2014-07-16                76               66               85   \n",
       "16 2014-07-17                74               63               84   \n",
       "17 2014-07-18                77               70               83   \n",
       "18 2014-07-19                70               66               74   \n",
       "19 2014-07-20                74               65               83   \n",
       "21 2014-07-22                79               72               85   \n",
       "\n",
       "    record_min_temp  record_max_temp  actual_precipitation  \\\n",
       "1                56              101                  0.00   \n",
       "2                56               99                  0.14   \n",
       "3                55               99                  0.00   \n",
       "4                57              100                  0.00   \n",
       "5                57               99                  0.00   \n",
       "6                55              100                  0.00   \n",
       "7                58              101                  0.00   \n",
       "8                57              101                  0.15   \n",
       "9                53              101                  0.00   \n",
       "10               55              100                  0.00   \n",
       "11               59              102                  0.00   \n",
       "12               56              100                  0.00   \n",
       "13               59              102                  0.00   \n",
       "14               58              100                  0.87   \n",
       "15               58              100                  0.00   \n",
       "16               62              100                  0.00   \n",
       "17               62              102                  0.00   \n",
       "18               60              103                  0.17   \n",
       "19               60              101                  0.00   \n",
       "21               58              103                  0.00   \n",
       "\n",
       "    record_precipitation  \n",
       "1                   1.53  \n",
       "2                   2.50  \n",
       "3                   2.63  \n",
       "4                   1.65  \n",
       "5                   1.95  \n",
       "6                   2.37  \n",
       "7                   1.87  \n",
       "8                   3.71  \n",
       "9                   2.45  \n",
       "10                  3.10  \n",
       "11                  1.95  \n",
       "12                  2.09  \n",
       "13                  2.15  \n",
       "14                  4.61  \n",
       "15                  1.47  \n",
       "16                  4.14  \n",
       "17                  1.82  \n",
       "18                  2.30  \n",
       "19                  1.25  \n",
       "21                  2.56  "
      ]
     },
     "execution_count": 15,
     "metadata": {},
     "output_type": "execute_result"
    }
   ],
   "source": [
    "removed_outliers = pd.concat([data, data.loc[idx[0]]]).drop_duplicates(keep=False)\n",
    "removed_outliers.head(20)"
   ]
  },
  {
   "cell_type": "markdown",
   "metadata": {},
   "source": [
    "## Standard Dev"
   ]
  },
  {
   "cell_type": "markdown",
   "metadata": {},
   "source": [
    "If we know that the distribution of values in the sample is Gaussian or Gaussian-like, we can use the standard deviation of the sample as a cut-off for identifying outliers.\n",
    "Three standard deviations from the mean is a common cut-off in practice for identifying outliers in a Gaussian or Gaussian-like distribution.\n",
    "    1 Standard Deviation from the Mean: 68%\n",
    "    2 Standard Deviations from the Mean: 95%\n",
    "    3 Standard Deviations from the Mean: 99.7%"
   ]
  },
  {
   "cell_type": "code",
   "execution_count": 16,
   "metadata": {},
   "outputs": [
    {
     "name": "stdout",
     "output_type": "stream",
     "text": [
      "mean:  2.208904109589042 std:  0.8781720766936744\n"
     ]
    }
   ],
   "source": [
    "# calculate summary statistics\n",
    "data_mean_precip, data_std_precip = np.mean(data['record_precipitation']), np.std(data['record_precipitation'])\n",
    "print('mean: ',data_mean_precip, 'std: ', data_std_precip  )"
   ]
  },
  {
   "cell_type": "code",
   "execution_count": 17,
   "metadata": {},
   "outputs": [
    {
     "name": "stdout",
     "output_type": "stream",
     "text": [
      "cutoff for outliers:  2.634516230081023\n"
     ]
    }
   ],
   "source": [
    "# identify outliers\n",
    "cut_off = data_std_precip * 3\n",
    "print('cutoff for outliers: ', cut_off)"
   ]
  },
  {
   "cell_type": "code",
   "execution_count": 18,
   "metadata": {},
   "outputs": [
    {
     "name": "stdout",
     "output_type": "stream",
     "text": [
      "lower limit for outlier:  -0.4256121204919814 upper limit for outlier:  4.843420339670065\n"
     ]
    }
   ],
   "source": [
    "lower, upper = data_mean_precip - cut_off, data_mean_precip + cut_off\n",
    "print('lower limit for outlier: ', lower, 'upper limit for outlier: ', upper)\n",
    "# identify outliers as those examples that fall outside of the defined lower and upper limits."
   ]
  },
  {
   "cell_type": "code",
   "execution_count": 19,
   "metadata": {},
   "outputs": [
    {
     "name": "stdout",
     "output_type": "stream",
     "text": [
      "outliers:  [5.9100000000000001, 6.8799999999999999, 5.3600000000000003, 4.8499999999999996]\n"
     ]
    }
   ],
   "source": [
    "outliers = [x for x in data['record_precipitation'] if x < lower or x > upper]\n",
    "print('outliers: ', outliers)"
   ]
  },
  {
   "cell_type": "code",
   "execution_count": 20,
   "metadata": {},
   "outputs": [
    {
     "name": "stdout",
     "output_type": "stream",
     "text": [
      "number of outliers:  4\n"
     ]
    }
   ],
   "source": [
    "print('number of outliers: ', len(outliers))"
   ]
  },
  {
   "cell_type": "markdown",
   "metadata": {},
   "source": [
    "# Percentiles and IQR\n",
    "\n",
    "the cutoff for outliers can be calculated as 1.5 times the IQR. "
   ]
  },
  {
   "cell_type": "code",
   "execution_count": 21,
   "metadata": {},
   "outputs": [
    {
     "name": "stdout",
     "output_type": "stream",
     "text": [
      "25th Percentile: 0.000, \n",
      "75th Percentile: 0.030, \n",
      "IQR: 0.030\n"
     ]
    }
   ],
   "source": [
    "q25, q75 = np.percentile(data['actual_precipitation'], 25), np.percentile(data['actual_precipitation'], 75)\n",
    "iqr = q75 - q25\n",
    "\n",
    "print('25th Percentile: %.3f, \\n75th Percentile: %.3f, \\nIQR: %.3f' % (q25, q75, iqr))"
   ]
  },
  {
   "cell_type": "code",
   "execution_count": 22,
   "metadata": {
    "collapsed": true
   },
   "outputs": [],
   "source": [
    "#calculate the cutoff for outliers as 1.5 times the IQR\n",
    "cutoff= 1.5 * iqr\n",
    "lowerlimit, upperlimit= q25-cutoff, q75+cutoff"
   ]
  },
  {
   "cell_type": "code",
   "execution_count": 23,
   "metadata": {},
   "outputs": [
    {
     "name": "stdout",
     "output_type": "stream",
     "text": [
      "number of outliers:  76\n"
     ]
    }
   ],
   "source": [
    "outliers= [x for x in data['actual_precipitation'] if x> upperlimit or x<lowerlimit]\n",
    "print('number of outliers: ', len(outliers))"
   ]
  },
  {
   "cell_type": "markdown",
   "metadata": {},
   "source": [
    "# automatic detection of outliers"
   ]
  },
  {
   "cell_type": "code",
   "execution_count": 24,
   "metadata": {},
   "outputs": [
    {
     "data": {
      "text/html": [
       "<div>\n",
       "<style>\n",
       "    .dataframe thead tr:only-child th {\n",
       "        text-align: right;\n",
       "    }\n",
       "\n",
       "    .dataframe thead th {\n",
       "        text-align: left;\n",
       "    }\n",
       "\n",
       "    .dataframe tbody tr th {\n",
       "        vertical-align: top;\n",
       "    }\n",
       "</style>\n",
       "<table border=\"1\" class=\"dataframe\">\n",
       "  <thead>\n",
       "    <tr style=\"text-align: right;\">\n",
       "      <th></th>\n",
       "      <th>CRIM</th>\n",
       "      <th>ZN</th>\n",
       "      <th>INDUS</th>\n",
       "      <th>CHAS</th>\n",
       "      <th>NOX</th>\n",
       "      <th>RM</th>\n",
       "      <th>AGE</th>\n",
       "      <th>DIS</th>\n",
       "      <th>RAD</th>\n",
       "      <th>TAX</th>\n",
       "      <th>PTRATIO</th>\n",
       "      <th>B</th>\n",
       "      <th>LSTAT</th>\n",
       "    </tr>\n",
       "  </thead>\n",
       "  <tbody>\n",
       "    <tr>\n",
       "      <th>0</th>\n",
       "      <td>0.00632</td>\n",
       "      <td>18.0</td>\n",
       "      <td>2.31</td>\n",
       "      <td>0.0</td>\n",
       "      <td>0.538</td>\n",
       "      <td>6.575</td>\n",
       "      <td>65.2</td>\n",
       "      <td>4.0900</td>\n",
       "      <td>1.0</td>\n",
       "      <td>296.0</td>\n",
       "      <td>15.3</td>\n",
       "      <td>396.90</td>\n",
       "      <td>4.98</td>\n",
       "    </tr>\n",
       "    <tr>\n",
       "      <th>1</th>\n",
       "      <td>0.02731</td>\n",
       "      <td>0.0</td>\n",
       "      <td>7.07</td>\n",
       "      <td>0.0</td>\n",
       "      <td>0.469</td>\n",
       "      <td>6.421</td>\n",
       "      <td>78.9</td>\n",
       "      <td>4.9671</td>\n",
       "      <td>2.0</td>\n",
       "      <td>242.0</td>\n",
       "      <td>17.8</td>\n",
       "      <td>396.90</td>\n",
       "      <td>9.14</td>\n",
       "    </tr>\n",
       "    <tr>\n",
       "      <th>2</th>\n",
       "      <td>0.02729</td>\n",
       "      <td>0.0</td>\n",
       "      <td>7.07</td>\n",
       "      <td>0.0</td>\n",
       "      <td>0.469</td>\n",
       "      <td>7.185</td>\n",
       "      <td>61.1</td>\n",
       "      <td>4.9671</td>\n",
       "      <td>2.0</td>\n",
       "      <td>242.0</td>\n",
       "      <td>17.8</td>\n",
       "      <td>392.83</td>\n",
       "      <td>4.03</td>\n",
       "    </tr>\n",
       "    <tr>\n",
       "      <th>3</th>\n",
       "      <td>0.03237</td>\n",
       "      <td>0.0</td>\n",
       "      <td>2.18</td>\n",
       "      <td>0.0</td>\n",
       "      <td>0.458</td>\n",
       "      <td>6.998</td>\n",
       "      <td>45.8</td>\n",
       "      <td>6.0622</td>\n",
       "      <td>3.0</td>\n",
       "      <td>222.0</td>\n",
       "      <td>18.7</td>\n",
       "      <td>394.63</td>\n",
       "      <td>2.94</td>\n",
       "    </tr>\n",
       "    <tr>\n",
       "      <th>4</th>\n",
       "      <td>0.06905</td>\n",
       "      <td>0.0</td>\n",
       "      <td>2.18</td>\n",
       "      <td>0.0</td>\n",
       "      <td>0.458</td>\n",
       "      <td>7.147</td>\n",
       "      <td>54.2</td>\n",
       "      <td>6.0622</td>\n",
       "      <td>3.0</td>\n",
       "      <td>222.0</td>\n",
       "      <td>18.7</td>\n",
       "      <td>396.90</td>\n",
       "      <td>5.33</td>\n",
       "    </tr>\n",
       "  </tbody>\n",
       "</table>\n",
       "</div>"
      ],
      "text/plain": [
       "      CRIM    ZN  INDUS  CHAS    NOX     RM   AGE     DIS  RAD    TAX  \\\n",
       "0  0.00632  18.0   2.31   0.0  0.538  6.575  65.2  4.0900  1.0  296.0   \n",
       "1  0.02731   0.0   7.07   0.0  0.469  6.421  78.9  4.9671  2.0  242.0   \n",
       "2  0.02729   0.0   7.07   0.0  0.469  7.185  61.1  4.9671  2.0  242.0   \n",
       "3  0.03237   0.0   2.18   0.0  0.458  6.998  45.8  6.0622  3.0  222.0   \n",
       "4  0.06905   0.0   2.18   0.0  0.458  7.147  54.2  6.0622  3.0  222.0   \n",
       "\n",
       "   PTRATIO       B  LSTAT  \n",
       "0     15.3  396.90   4.98  \n",
       "1     17.8  396.90   9.14  \n",
       "2     17.8  392.83   4.03  \n",
       "3     18.7  394.63   2.94  \n",
       "4     18.7  396.90   5.33  "
      ]
     },
     "execution_count": 24,
     "metadata": {},
     "output_type": "execute_result"
    }
   ],
   "source": [
    "from sklearn.datasets import load_boston\n",
    "from sklearn.model_selection import train_test_split\n",
    "from sklearn.linear_model import LinearRegression\n",
    "boston_data = pd.DataFrame(load_boston().data)\n",
    "boston_data.columns = load_boston().feature_names\n",
    "boston_data.head()"
   ]
  },
  {
   "cell_type": "code",
   "execution_count": 25,
   "metadata": {},
   "outputs": [
    {
     "data": {
      "text/html": [
       "<div>\n",
       "<style>\n",
       "    .dataframe thead tr:only-child th {\n",
       "        text-align: right;\n",
       "    }\n",
       "\n",
       "    .dataframe thead th {\n",
       "        text-align: left;\n",
       "    }\n",
       "\n",
       "    .dataframe tbody tr th {\n",
       "        vertical-align: top;\n",
       "    }\n",
       "</style>\n",
       "<table border=\"1\" class=\"dataframe\">\n",
       "  <thead>\n",
       "    <tr style=\"text-align: right;\">\n",
       "      <th></th>\n",
       "      <th>CRIM</th>\n",
       "      <th>ZN</th>\n",
       "      <th>INDUS</th>\n",
       "      <th>CHAS</th>\n",
       "      <th>NOX</th>\n",
       "      <th>RM</th>\n",
       "      <th>AGE</th>\n",
       "      <th>DIS</th>\n",
       "      <th>RAD</th>\n",
       "      <th>TAX</th>\n",
       "      <th>PTRATIO</th>\n",
       "      <th>B</th>\n",
       "      <th>LSTAT</th>\n",
       "      <th>PRICE</th>\n",
       "    </tr>\n",
       "  </thead>\n",
       "  <tbody>\n",
       "    <tr>\n",
       "      <th>0</th>\n",
       "      <td>0.00632</td>\n",
       "      <td>18.0</td>\n",
       "      <td>2.31</td>\n",
       "      <td>0.0</td>\n",
       "      <td>0.538</td>\n",
       "      <td>6.575</td>\n",
       "      <td>65.2</td>\n",
       "      <td>4.0900</td>\n",
       "      <td>1.0</td>\n",
       "      <td>296.0</td>\n",
       "      <td>15.3</td>\n",
       "      <td>396.90</td>\n",
       "      <td>4.98</td>\n",
       "      <td>24.0</td>\n",
       "    </tr>\n",
       "    <tr>\n",
       "      <th>1</th>\n",
       "      <td>0.02731</td>\n",
       "      <td>0.0</td>\n",
       "      <td>7.07</td>\n",
       "      <td>0.0</td>\n",
       "      <td>0.469</td>\n",
       "      <td>6.421</td>\n",
       "      <td>78.9</td>\n",
       "      <td>4.9671</td>\n",
       "      <td>2.0</td>\n",
       "      <td>242.0</td>\n",
       "      <td>17.8</td>\n",
       "      <td>396.90</td>\n",
       "      <td>9.14</td>\n",
       "      <td>21.6</td>\n",
       "    </tr>\n",
       "    <tr>\n",
       "      <th>2</th>\n",
       "      <td>0.02729</td>\n",
       "      <td>0.0</td>\n",
       "      <td>7.07</td>\n",
       "      <td>0.0</td>\n",
       "      <td>0.469</td>\n",
       "      <td>7.185</td>\n",
       "      <td>61.1</td>\n",
       "      <td>4.9671</td>\n",
       "      <td>2.0</td>\n",
       "      <td>242.0</td>\n",
       "      <td>17.8</td>\n",
       "      <td>392.83</td>\n",
       "      <td>4.03</td>\n",
       "      <td>34.7</td>\n",
       "    </tr>\n",
       "    <tr>\n",
       "      <th>3</th>\n",
       "      <td>0.03237</td>\n",
       "      <td>0.0</td>\n",
       "      <td>2.18</td>\n",
       "      <td>0.0</td>\n",
       "      <td>0.458</td>\n",
       "      <td>6.998</td>\n",
       "      <td>45.8</td>\n",
       "      <td>6.0622</td>\n",
       "      <td>3.0</td>\n",
       "      <td>222.0</td>\n",
       "      <td>18.7</td>\n",
       "      <td>394.63</td>\n",
       "      <td>2.94</td>\n",
       "      <td>33.4</td>\n",
       "    </tr>\n",
       "    <tr>\n",
       "      <th>4</th>\n",
       "      <td>0.06905</td>\n",
       "      <td>0.0</td>\n",
       "      <td>2.18</td>\n",
       "      <td>0.0</td>\n",
       "      <td>0.458</td>\n",
       "      <td>7.147</td>\n",
       "      <td>54.2</td>\n",
       "      <td>6.0622</td>\n",
       "      <td>3.0</td>\n",
       "      <td>222.0</td>\n",
       "      <td>18.7</td>\n",
       "      <td>396.90</td>\n",
       "      <td>5.33</td>\n",
       "      <td>36.2</td>\n",
       "    </tr>\n",
       "  </tbody>\n",
       "</table>\n",
       "</div>"
      ],
      "text/plain": [
       "      CRIM    ZN  INDUS  CHAS    NOX     RM   AGE     DIS  RAD    TAX  \\\n",
       "0  0.00632  18.0   2.31   0.0  0.538  6.575  65.2  4.0900  1.0  296.0   \n",
       "1  0.02731   0.0   7.07   0.0  0.469  6.421  78.9  4.9671  2.0  242.0   \n",
       "2  0.02729   0.0   7.07   0.0  0.469  7.185  61.1  4.9671  2.0  242.0   \n",
       "3  0.03237   0.0   2.18   0.0  0.458  6.998  45.8  6.0622  3.0  222.0   \n",
       "4  0.06905   0.0   2.18   0.0  0.458  7.147  54.2  6.0622  3.0  222.0   \n",
       "\n",
       "   PTRATIO       B  LSTAT  PRICE  \n",
       "0     15.3  396.90   4.98   24.0  \n",
       "1     17.8  396.90   9.14   21.6  \n",
       "2     17.8  392.83   4.03   34.7  \n",
       "3     18.7  394.63   2.94   33.4  \n",
       "4     18.7  396.90   5.33   36.2  "
      ]
     },
     "execution_count": 25,
     "metadata": {},
     "output_type": "execute_result"
    }
   ],
   "source": [
    "#target data needs to be added to our dataset\n",
    "boston_data['PRICE']=load_boston().target\n",
    "boston_data.head()"
   ]
  },
  {
   "cell_type": "markdown",
   "metadata": {},
   "source": [
    "we can create a simple linear regession model, of which we can use when we perform the automatic outlier detection methods"
   ]
  },
  {
   "cell_type": "code",
   "execution_count": 26,
   "metadata": {
    "collapsed": true
   },
   "outputs": [],
   "source": [
    "# the x data will be all columns in our dataset minus the last column- the price, which will be our price column.\n",
    "x, y = boston_data.iloc[:, :-1], boston_data.iloc[:, -1]"
   ]
  },
  {
   "cell_type": "code",
   "execution_count": 27,
   "metadata": {},
   "outputs": [
    {
     "name": "stdout",
     "output_type": "stream",
     "text": [
      "(404, 13)\n",
      "         CRIM    ZN  INDUS  CHAS    NOX     RM    AGE     DIS   RAD    TAX  \\\n",
      "33    1.15172   0.0   8.14   0.0  0.538  5.701   95.0  3.7872   4.0  307.0   \n",
      "283   0.01501  90.0   1.21   1.0  0.401  7.923   24.8  5.8850   1.0  198.0   \n",
      "418  73.53410   0.0  18.10   0.0  0.679  5.957  100.0  1.8026  24.0  666.0   \n",
      "502   0.04527   0.0  11.93   0.0  0.573  6.120   76.7  2.2875   1.0  273.0   \n",
      "402   9.59571   0.0  18.10   0.0  0.693  6.404  100.0  1.6390  24.0  666.0   \n",
      "\n",
      "     PTRATIO       B  LSTAT  \n",
      "33      21.0  358.77  18.35  \n",
      "283     13.6  395.52   3.16  \n",
      "418     20.2   16.45  20.62  \n",
      "502     21.0  396.90   9.08  \n",
      "402     20.2  376.11  20.31  \n",
      "(102, 13)\n",
      "(404,)\n",
      "(102,)\n",
      "226    37.6\n",
      "292    27.9\n",
      "90     22.6\n",
      "373    13.8\n",
      "273    35.2\n",
      "Name: PRICE, dtype: float64\n"
     ]
    }
   ],
   "source": [
    "# split our data into x and y training and testing datasets\n",
    "x_train, x_test, y_train, y_test = train_test_split(x, y, test_size = 0.2, random_state = 5)\n",
    "print(x_train.shape)\n",
    "print(x_train.head())\n",
    "print(x_test.shape)\n",
    "print(y_train.shape)\n",
    "print(y_test.shape)\n",
    "print(y_test.head())"
   ]
  },
  {
   "cell_type": "code",
   "execution_count": 28,
   "metadata": {},
   "outputs": [
    {
     "name": "stdout",
     "output_type": "stream",
     "text": [
      "20.9028436804\n",
      "MAE: 3.215\n",
      "R2 0.733020681871\n"
     ]
    }
   ],
   "source": [
    "lr=LinearRegression()\n",
    "lr.fit(x_train, y_train)\n",
    "y_pred = lr.predict(x_test)\n",
    "mse = sklearn.metrics.mean_squared_error(y_test, y_pred)\n",
    "print(mse)\n",
    "mae = sklearn.metrics.mean_absolute_error(y_test, y_pred)\n",
    "print('MAE: %.3f' % mae)\n",
    "r2=sklearn.metrics.r2_score(y_test, y_pred)\n",
    "print('R2', r2)"
   ]
  },
  {
   "cell_type": "code",
   "execution_count": 29,
   "metadata": {},
   "outputs": [
    {
     "data": {
      "text/plain": [
       "<matplotlib.text.Text at 0x1bad65a5400>"
      ]
     },
     "execution_count": 29,
     "metadata": {},
     "output_type": "execute_result"
    },
    {
     "data": {
      "image/png": "[encoded data removed]",
      "text/plain": [
       "<matplotlib.figure.Figure at 0x1bad6631320>"
      ]
     },
     "metadata": {},
     "output_type": "display_data"
    }
   ],
   "source": [
    "plt.scatter(y_test, y_pred)\n",
    "plt.xlabel('Price')\n",
    "plt.ylabel('Predictions')"
   ]
  },
  {
   "cell_type": "markdown",
   "metadata": {},
   "source": [
    "now that we have a baseline model, we can look at removing outliers and see how the model performs"
   ]
  },
  {
   "cell_type": "markdown",
   "metadata": {},
   "source": [
    "# isolation forest\n",
    "isolation forest is a tree based outlier detection algorthim.\n",
    "it returns -1 for outliers and 1 for inliers"
   ]
  },
  {
   "cell_type": "code",
   "execution_count": 30,
   "metadata": {},
   "outputs": [
    {
     "name": "stderr",
     "output_type": "stream",
     "text": [
      "C:\\Program Files (x86)\\Microsoft Visual Studio\\Shared\\Anaconda3_64\\lib\\site-packages\\ipykernel_launcher.py:5: SettingWithCopyWarning: \n",
      "A value is trying to be set on a copy of a slice from a DataFrame.\n",
      "Try using .loc[row_indexer,col_indexer] = value instead\n",
      "\n",
      "See the caveats in the documentation: http://pandas.pydata.org/pandas-docs/stable/indexing.html#indexing-view-versus-copy\n",
      "  \"\"\"\n"
     ]
    }
   ],
   "source": [
    "from sklearn.ensemble import IsolationForest\n",
    "iso = IsolationForest(contamination=0.1)\n",
    "iso.fit(x_train)\n",
    "outlier= iso.predict(x_train)\n",
    "x_train['outlier']=iso.predict(x_train)\n",
    "\n"
   ]
  },
  {
   "cell_type": "markdown",
   "metadata": {},
   "source": [
    "here we can print a -1 or 1 next to each row of data to see which is an outlier or not"
   ]
  },
  {
   "cell_type": "code",
   "execution_count": 31,
   "metadata": {},
   "outputs": [
    {
     "name": "stdout",
     "output_type": "stream",
     "text": [
      "         CRIM    ZN  INDUS  CHAS    NOX     RM    AGE     DIS   RAD    TAX  \\\n",
      "33    1.15172   0.0   8.14   0.0  0.538  5.701   95.0  3.7872   4.0  307.0   \n",
      "283   0.01501  90.0   1.21   1.0  0.401  7.923   24.8  5.8850   1.0  198.0   \n",
      "418  73.53410   0.0  18.10   0.0  0.679  5.957  100.0  1.8026  24.0  666.0   \n",
      "502   0.04527   0.0  11.93   0.0  0.573  6.120   76.7  2.2875   1.0  273.0   \n",
      "402   9.59571   0.0  18.10   0.0  0.693  6.404  100.0  1.6390  24.0  666.0   \n",
      "\n",
      "     PTRATIO       B  LSTAT  outlier  \n",
      "33      21.0  358.77  18.35        1  \n",
      "283     13.6  395.52   3.16       -1  \n",
      "418     20.2   16.45  20.62       -1  \n",
      "502     21.0  396.90   9.08        1  \n",
      "402     20.2  376.11  20.31        1  \n"
     ]
    }
   ],
   "source": [
    "print(x_train.head())"
   ]
  },
  {
   "cell_type": "markdown",
   "metadata": {},
   "source": [
    "we can then remove these outliers from our dataset"
   ]
  },
  {
   "cell_type": "code",
   "execution_count": 32,
   "metadata": {},
   "outputs": [
    {
     "name": "stdout",
     "output_type": "stream",
     "text": [
      "         CRIM    ZN  INDUS  CHAS    NOX     RM    AGE     DIS   RAD    TAX  \\\n",
      "283   0.01501  90.0   1.21   1.0  0.401  7.923   24.8  5.8850   1.0  198.0   \n",
      "418  73.53410   0.0  18.10   0.0  0.679  5.957  100.0  1.8026  24.0  666.0   \n",
      "197   0.04666  80.0   1.52   0.0  0.404  7.107   36.6  7.3090   2.0  329.0   \n",
      "145   2.37934   0.0  19.58   0.0  0.871  6.130  100.0  1.4191   5.0  403.0   \n",
      "162   1.83377   0.0  19.58   1.0  0.605  7.802   98.2  2.0407   5.0  403.0   \n",
      "\n",
      "     PTRATIO       B  LSTAT  outlier  \n",
      "283     13.6  395.52   3.16       -1  \n",
      "418     20.2   16.45  20.62       -1  \n",
      "197     12.6  354.31   8.61       -1  \n",
      "145     14.7  172.91  27.80       -1  \n",
      "162     14.7  389.61   1.92       -1  \n"
     ]
    }
   ],
   "source": [
    "anomaly=x_train.loc[x_train['outlier']==-1]\n",
    "print(anomaly.head())\n"
   ]
  },
  {
   "cell_type": "markdown",
   "metadata": {},
   "source": [
    "create an x training dataset where outliers are removed"
   ]
  },
  {
   "cell_type": "code",
   "execution_count": 33,
   "metadata": {},
   "outputs": [
    {
     "name": "stdout",
     "output_type": "stream",
     "text": [
      "        CRIM    ZN  INDUS  CHAS    NOX     RM    AGE     DIS   RAD    TAX  \\\n",
      "33   1.15172   0.0   8.14   0.0  0.538  5.701   95.0  3.7872   4.0  307.0   \n",
      "502  0.04527   0.0  11.93   0.0  0.573  6.120   76.7  2.2875   1.0  273.0   \n",
      "402  9.59571   0.0  18.10   0.0  0.693  6.404  100.0  1.6390  24.0  666.0   \n",
      "368  4.89822   0.0  18.10   0.0  0.631  4.970  100.0  1.3325  24.0  666.0   \n",
      "201  0.03445  82.5   2.03   0.0  0.415  6.162   38.4  6.2700   2.0  348.0   \n",
      "\n",
      "     PTRATIO       B  LSTAT  \n",
      "33      21.0  358.77  18.35  \n",
      "502     21.0  396.90   9.08  \n",
      "402     20.2  376.11  20.31  \n",
      "368     20.2  375.52   3.26  \n",
      "201     14.7  393.77   7.43  \n"
     ]
    }
   ],
   "source": [
    "\n",
    "clean_data_x=x_train.loc[x_train['outlier']==1]\n",
    "clean_data_x=clean_data_x.drop('outlier', axis=1)\n",
    "print(clean_data_x.head())"
   ]
  },
  {
   "cell_type": "markdown",
   "metadata": {},
   "source": [
    "we can do the same with the target variables, removing the outliers. "
   ]
  },
  {
   "cell_type": "code",
   "execution_count": 34,
   "metadata": {},
   "outputs": [
    {
     "name": "stdout",
     "output_type": "stream",
     "text": [
      "33     13.1\n",
      "502    20.6\n",
      "402    12.1\n",
      "368    50.0\n",
      "201    24.1\n",
      "Name: PRICE, dtype: float64\n"
     ]
    }
   ],
   "source": [
    "clean_data_y=y_train.loc[x_train['outlier']==1]\n",
    "print(clean_data_y.head())"
   ]
  },
  {
   "cell_type": "markdown",
   "metadata": {},
   "source": [
    "we can then rerun the model and see how it performs without the outliers"
   ]
  },
  {
   "cell_type": "code",
   "execution_count": 35,
   "metadata": {},
   "outputs": [
    {
     "name": "stdout",
     "output_type": "stream",
     "text": [
      "21.5766626619\n",
      "MAE: 3.270\n",
      "R2 0.724414401549\n"
     ]
    }
   ],
   "source": [
    "lr=LinearRegression()\n",
    "lr.fit(clean_data_x, clean_data_y)\n",
    "y_pred = lr.predict(x_test)\n",
    "mse = sklearn.metrics.mean_squared_error(y_test, y_pred)\n",
    "print(mse)\n",
    "mae = sklearn.metrics.mean_absolute_error(y_test, y_pred)\n",
    "print('MAE: %.3f' % mae)\n",
    "r2=sklearn.metrics.r2_score(y_test, y_pred)\n",
    "print('R2', r2)"
   ]
  },
  {
   "cell_type": "code",
   "execution_count": 36,
   "metadata": {},
   "outputs": [
    {
     "data": {
      "text/plain": [
       "<matplotlib.text.Text at 0x1bad6debd30>"
      ]
     },
     "execution_count": 36,
     "metadata": {},
     "output_type": "execute_result"
    },
    {
     "data": {
      "image/png": "[encoded data removed]",
      "text/plain": [
       "<matplotlib.figure.Figure at 0x1bad6dd0c50>"
      ]
     },
     "metadata": {},
     "output_type": "display_data"
    }
   ],
   "source": [
    "plt.scatter(y_test, y_pred)\n",
    "plt.xlabel('Price')\n",
    "plt.ylabel('Predictions')"
   ]
  },
  {
   "cell_type": "markdown",
   "metadata": {},
   "source": [
    "## Summary of descriptive stats on a dataset using scipy and pandas"
   ]
  },
  {
   "cell_type": "code",
   "execution_count": 37,
   "metadata": {},
   "outputs": [
    {
     "name": "stdout",
     "output_type": "stream",
     "text": [
      "number of observations in dataset:  506 \n",
      "minimum and maximum values in dataset 5.0 50.0 \n",
      "mean 22.5328063241 \n",
      "variance 84.5867235941 \n",
      "skewness 1.1080984082549072 \n",
      "kurtosis 1.4951969441658175\n"
     ]
    }
   ],
   "source": [
    "import scipy\n",
    "descriptive_stats = scipy.stats.describe(boston_data['PRICE'], bias=False)\n",
    "print('number of observations in dataset: ', descriptive_stats.nobs,\n",
    "     '\\nminimum and maximum values in dataset', descriptive_stats.minmax[0],descriptive_stats.minmax[1],\n",
    "     '\\nmean',descriptive_stats.mean,\n",
    "     '\\nvariance', descriptive_stats.variance,\n",
    "     '\\nskewness', descriptive_stats.skewness,\n",
    "     '\\nkurtosis', descriptive_stats.kurtosis)"
   ]
  },
  {
   "cell_type": "code",
   "execution_count": 38,
   "metadata": {},
   "outputs": [
    {
     "name": "stdout",
     "output_type": "stream",
     "text": [
      "count    506.000000\n",
      "mean      22.532806\n",
      "std        9.197104\n",
      "min        5.000000\n",
      "25%       17.025000\n",
      "50%       21.200000\n",
      "75%       25.000000\n",
      "max       50.000000\n",
      "Name: PRICE, dtype: float64\n"
     ]
    }
   ],
   "source": [
    "pandas_stats = boston_data['PRICE'].describe()\n",
    "print(pandas_stats)"
   ]
  }
 ],
 "metadata": {
  "kernelspec": {
   "display_name": "Python 3",
   "language": "python",
   "name": "python3"
  },
  "language_info": {
   "codemirror_mode": {
    "name": "ipython",
    "version": 3
   },
   "file_extension": ".py",
   "mimetype": "text/x-python",
   "name": "python",
   "nbconvert_exporter": "python",
   "pygments_lexer": "ipython3",
   "version": "3.6.2"
  }
 },
 "nbformat": 4,
 "nbformat_minor": 2
}
