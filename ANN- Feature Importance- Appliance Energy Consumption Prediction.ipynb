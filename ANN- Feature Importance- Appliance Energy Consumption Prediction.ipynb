{
 "cells": [
  {
   "cell_type": "markdown",
   "metadata": {},
   "source": [
    "# Feature Importance\n",
    "\n",
    "Feature importance is used to assign scores to variables based on their impact on the target variables. \n",
    "\n",
    "Feature importance can provide us with more insight into the data, and can also aid in dimensionality reduction which can improve the accuracy of the model and speed up training. \n",
    "\n",
    "Using variables which may not have a large effect on the outcome may also end up confusing the model during the training process, so feature importance can show us which variables are best removed from the dataset.\n"
   ]
  },
  {
   "cell_type": "code",
   "execution_count": 1,
   "metadata": {
    "collapsed": true
   },
   "outputs": [],
   "source": [
    "#%load imports.py\n",
    "import pandas as pd\n",
    "import numpy as np\n",
    "import sklearn\n",
    "import matplotlib.pyplot as plt\n",
    "import seaborn as sns\n",
    "import warnings\n",
    "warnings.simplefilter(action='ignore', category=FutureWarning)"
   ]
  },
  {
   "cell_type": "markdown",
   "metadata": {},
   "source": [
    "Our dataset displays the energy consumption of appliances and lights for a family home. \n",
    "We want to predict appliance consumption based upon the temperature and humidity in a number of rooms in the house, as well as external climatic conditions."
   ]
  },
  {
   "cell_type": "code",
   "execution_count": 2,
   "metadata": {},
   "outputs": [
    {
     "data": {
      "text/html": [
       "<div>\n",
       "<style scoped>\n",
       "    .dataframe tbody tr th:only-of-type {\n",
       "        vertical-align: middle;\n",
       "    }\n",
       "\n",
       "    .dataframe tbody tr th {\n",
       "        vertical-align: top;\n",
       "    }\n",
       "\n",
       "    .dataframe thead th {\n",
       "        text-align: right;\n",
       "    }\n",
       "</style>\n",
       "<table border=\"1\" class=\"dataframe\">\n",
       "  <thead>\n",
       "    <tr style=\"text-align: right;\">\n",
       "      <th></th>\n",
       "      <th>date</th>\n",
       "      <th>Appliances</th>\n",
       "      <th>lights</th>\n",
       "      <th>T1</th>\n",
       "      <th>RH_1</th>\n",
       "      <th>T2</th>\n",
       "      <th>RH_2</th>\n",
       "      <th>T3</th>\n",
       "      <th>RH_3</th>\n",
       "      <th>T4</th>\n",
       "      <th>...</th>\n",
       "      <th>T9</th>\n",
       "      <th>RH_9</th>\n",
       "      <th>T_out</th>\n",
       "      <th>Press_mm_hg</th>\n",
       "      <th>RH_out</th>\n",
       "      <th>Windspeed</th>\n",
       "      <th>Visibility</th>\n",
       "      <th>Tdewpoint</th>\n",
       "      <th>rv1</th>\n",
       "      <th>rv2</th>\n",
       "    </tr>\n",
       "  </thead>\n",
       "  <tbody>\n",
       "    <tr>\n",
       "      <th>0</th>\n",
       "      <td>2016-01-11 17:00:00</td>\n",
       "      <td>60</td>\n",
       "      <td>30</td>\n",
       "      <td>19.89</td>\n",
       "      <td>47.596667</td>\n",
       "      <td>19.2</td>\n",
       "      <td>44.790000</td>\n",
       "      <td>19.79</td>\n",
       "      <td>44.730000</td>\n",
       "      <td>19.000000</td>\n",
       "      <td>...</td>\n",
       "      <td>17.033333</td>\n",
       "      <td>45.53</td>\n",
       "      <td>6.600000</td>\n",
       "      <td>733.5</td>\n",
       "      <td>92.0</td>\n",
       "      <td>7.000000</td>\n",
       "      <td>63.000000</td>\n",
       "      <td>5.3</td>\n",
       "      <td>13.275433</td>\n",
       "      <td>13.275433</td>\n",
       "    </tr>\n",
       "    <tr>\n",
       "      <th>1</th>\n",
       "      <td>2016-01-11 17:10:00</td>\n",
       "      <td>60</td>\n",
       "      <td>30</td>\n",
       "      <td>19.89</td>\n",
       "      <td>46.693333</td>\n",
       "      <td>19.2</td>\n",
       "      <td>44.722500</td>\n",
       "      <td>19.79</td>\n",
       "      <td>44.790000</td>\n",
       "      <td>19.000000</td>\n",
       "      <td>...</td>\n",
       "      <td>17.066667</td>\n",
       "      <td>45.56</td>\n",
       "      <td>6.483333</td>\n",
       "      <td>733.6</td>\n",
       "      <td>92.0</td>\n",
       "      <td>6.666667</td>\n",
       "      <td>59.166667</td>\n",
       "      <td>5.2</td>\n",
       "      <td>18.606195</td>\n",
       "      <td>18.606195</td>\n",
       "    </tr>\n",
       "    <tr>\n",
       "      <th>2</th>\n",
       "      <td>2016-01-11 17:20:00</td>\n",
       "      <td>50</td>\n",
       "      <td>30</td>\n",
       "      <td>19.89</td>\n",
       "      <td>46.300000</td>\n",
       "      <td>19.2</td>\n",
       "      <td>44.626667</td>\n",
       "      <td>19.79</td>\n",
       "      <td>44.933333</td>\n",
       "      <td>18.926667</td>\n",
       "      <td>...</td>\n",
       "      <td>17.000000</td>\n",
       "      <td>45.50</td>\n",
       "      <td>6.366667</td>\n",
       "      <td>733.7</td>\n",
       "      <td>92.0</td>\n",
       "      <td>6.333333</td>\n",
       "      <td>55.333333</td>\n",
       "      <td>5.1</td>\n",
       "      <td>28.642668</td>\n",
       "      <td>28.642668</td>\n",
       "    </tr>\n",
       "    <tr>\n",
       "      <th>3</th>\n",
       "      <td>2016-01-11 17:30:00</td>\n",
       "      <td>50</td>\n",
       "      <td>40</td>\n",
       "      <td>19.89</td>\n",
       "      <td>46.066667</td>\n",
       "      <td>19.2</td>\n",
       "      <td>44.590000</td>\n",
       "      <td>19.79</td>\n",
       "      <td>45.000000</td>\n",
       "      <td>18.890000</td>\n",
       "      <td>...</td>\n",
       "      <td>17.000000</td>\n",
       "      <td>45.40</td>\n",
       "      <td>6.250000</td>\n",
       "      <td>733.8</td>\n",
       "      <td>92.0</td>\n",
       "      <td>6.000000</td>\n",
       "      <td>51.500000</td>\n",
       "      <td>5.0</td>\n",
       "      <td>45.410389</td>\n",
       "      <td>45.410389</td>\n",
       "    </tr>\n",
       "    <tr>\n",
       "      <th>4</th>\n",
       "      <td>2016-01-11 17:40:00</td>\n",
       "      <td>60</td>\n",
       "      <td>40</td>\n",
       "      <td>19.89</td>\n",
       "      <td>46.333333</td>\n",
       "      <td>19.2</td>\n",
       "      <td>44.530000</td>\n",
       "      <td>19.79</td>\n",
       "      <td>45.000000</td>\n",
       "      <td>18.890000</td>\n",
       "      <td>...</td>\n",
       "      <td>17.000000</td>\n",
       "      <td>45.40</td>\n",
       "      <td>6.133333</td>\n",
       "      <td>733.9</td>\n",
       "      <td>92.0</td>\n",
       "      <td>5.666667</td>\n",
       "      <td>47.666667</td>\n",
       "      <td>4.9</td>\n",
       "      <td>10.084097</td>\n",
       "      <td>10.084097</td>\n",
       "    </tr>\n",
       "  </tbody>\n",
       "</table>\n",
       "<p>5 rows × 29 columns</p>\n",
       "</div>"
      ],
      "text/plain": [
       "                  date  Appliances  lights     T1       RH_1    T2       RH_2  \\\n",
       "0  2016-01-11 17:00:00          60      30  19.89  47.596667  19.2  44.790000   \n",
       "1  2016-01-11 17:10:00          60      30  19.89  46.693333  19.2  44.722500   \n",
       "2  2016-01-11 17:20:00          50      30  19.89  46.300000  19.2  44.626667   \n",
       "3  2016-01-11 17:30:00          50      40  19.89  46.066667  19.2  44.590000   \n",
       "4  2016-01-11 17:40:00          60      40  19.89  46.333333  19.2  44.530000   \n",
       "\n",
       "      T3       RH_3         T4  ...         T9   RH_9     T_out  Press_mm_hg  \\\n",
       "0  19.79  44.730000  19.000000  ...  17.033333  45.53  6.600000        733.5   \n",
       "1  19.79  44.790000  19.000000  ...  17.066667  45.56  6.483333        733.6   \n",
       "2  19.79  44.933333  18.926667  ...  17.000000  45.50  6.366667        733.7   \n",
       "3  19.79  45.000000  18.890000  ...  17.000000  45.40  6.250000        733.8   \n",
       "4  19.79  45.000000  18.890000  ...  17.000000  45.40  6.133333        733.9   \n",
       "\n",
       "   RH_out  Windspeed  Visibility  Tdewpoint        rv1        rv2  \n",
       "0    92.0   7.000000   63.000000        5.3  13.275433  13.275433  \n",
       "1    92.0   6.666667   59.166667        5.2  18.606195  18.606195  \n",
       "2    92.0   6.333333   55.333333        5.1  28.642668  28.642668  \n",
       "3    92.0   6.000000   51.500000        5.0  45.410389  45.410389  \n",
       "4    92.0   5.666667   47.666667        4.9  10.084097  10.084097  \n",
       "\n",
       "[5 rows x 29 columns]"
      ]
     },
     "execution_count": 2,
     "metadata": {},
     "output_type": "execute_result"
    }
   ],
   "source": [
    "energy=pd.read_csv('KAG_energydata_complete.csv')\n",
    "energy.head()"
   ]
  },
  {
   "cell_type": "code",
   "execution_count": 3,
   "metadata": {},
   "outputs": [
    {
     "data": {
      "text/plain": [
       "date           0\n",
       "Appliances     0\n",
       "lights         0\n",
       "T1             0\n",
       "RH_1           0\n",
       "T2             0\n",
       "RH_2           0\n",
       "T3             0\n",
       "RH_3           0\n",
       "T4             0\n",
       "RH_4           0\n",
       "T5             0\n",
       "RH_5           0\n",
       "T6             0\n",
       "RH_6           0\n",
       "T7             0\n",
       "RH_7           0\n",
       "T8             0\n",
       "RH_8           0\n",
       "T9             0\n",
       "RH_9           0\n",
       "T_out          0\n",
       "Press_mm_hg    0\n",
       "RH_out         0\n",
       "Windspeed      0\n",
       "Visibility     0\n",
       "Tdewpoint      0\n",
       "rv1            0\n",
       "rv2            0\n",
       "dtype: int64"
      ]
     },
     "execution_count": 3,
     "metadata": {},
     "output_type": "execute_result"
    }
   ],
   "source": [
    "energy.isnull().sum()"
   ]
  },
  {
   "cell_type": "code",
   "execution_count": 4,
   "metadata": {},
   "outputs": [
    {
     "data": {
      "text/plain": [
       "(19735, 29)"
      ]
     },
     "execution_count": 4,
     "metadata": {},
     "output_type": "execute_result"
    }
   ],
   "source": [
    "energy.shape"
   ]
  },
  {
   "cell_type": "markdown",
   "metadata": {},
   "source": [
    "In order to make this data easier to understand, we can change the column names to something a little easier to read. \n",
    "\n",
    "In this dataset, 'Appliances' and 'Lights' is the energy consumption of appliances and lights within the home in Wh.\n",
    "\n",
    "rv1 and rv2 are random variables."
   ]
  },
  {
   "cell_type": "code",
   "execution_count": 5,
   "metadata": {},
   "outputs": [
    {
     "data": {
      "text/html": [
       "<div>\n",
       "<style scoped>\n",
       "    .dataframe tbody tr th:only-of-type {\n",
       "        vertical-align: middle;\n",
       "    }\n",
       "\n",
       "    .dataframe tbody tr th {\n",
       "        vertical-align: top;\n",
       "    }\n",
       "\n",
       "    .dataframe thead th {\n",
       "        text-align: right;\n",
       "    }\n",
       "</style>\n",
       "<table border=\"1\" class=\"dataframe\">\n",
       "  <thead>\n",
       "    <tr style=\"text-align: right;\">\n",
       "      <th></th>\n",
       "      <th>date</th>\n",
       "      <th>Appliances</th>\n",
       "      <th>lights</th>\n",
       "      <th>Temp_kitchen</th>\n",
       "      <th>RHumid_kitchen</th>\n",
       "      <th>Temp_living</th>\n",
       "      <th>RHumid_living</th>\n",
       "      <th>Temp_laundry</th>\n",
       "      <th>RHumid_laundry</th>\n",
       "      <th>Temp_office</th>\n",
       "      <th>...</th>\n",
       "      <th>Temp_parent</th>\n",
       "      <th>RHumid_parent</th>\n",
       "      <th>T_out</th>\n",
       "      <th>Press_mm_hg</th>\n",
       "      <th>RH_out</th>\n",
       "      <th>Windspeed</th>\n",
       "      <th>Visibility</th>\n",
       "      <th>Tdewpoint</th>\n",
       "      <th>rv1</th>\n",
       "      <th>rv2</th>\n",
       "    </tr>\n",
       "  </thead>\n",
       "  <tbody>\n",
       "    <tr>\n",
       "      <th>0</th>\n",
       "      <td>2016-01-11 17:00:00</td>\n",
       "      <td>60</td>\n",
       "      <td>30</td>\n",
       "      <td>19.89</td>\n",
       "      <td>47.596667</td>\n",
       "      <td>19.2</td>\n",
       "      <td>44.790000</td>\n",
       "      <td>19.79</td>\n",
       "      <td>44.730000</td>\n",
       "      <td>19.000000</td>\n",
       "      <td>...</td>\n",
       "      <td>17.033333</td>\n",
       "      <td>45.53</td>\n",
       "      <td>6.600000</td>\n",
       "      <td>733.5</td>\n",
       "      <td>92.0</td>\n",
       "      <td>7.000000</td>\n",
       "      <td>63.000000</td>\n",
       "      <td>5.3</td>\n",
       "      <td>13.275433</td>\n",
       "      <td>13.275433</td>\n",
       "    </tr>\n",
       "    <tr>\n",
       "      <th>1</th>\n",
       "      <td>2016-01-11 17:10:00</td>\n",
       "      <td>60</td>\n",
       "      <td>30</td>\n",
       "      <td>19.89</td>\n",
       "      <td>46.693333</td>\n",
       "      <td>19.2</td>\n",
       "      <td>44.722500</td>\n",
       "      <td>19.79</td>\n",
       "      <td>44.790000</td>\n",
       "      <td>19.000000</td>\n",
       "      <td>...</td>\n",
       "      <td>17.066667</td>\n",
       "      <td>45.56</td>\n",
       "      <td>6.483333</td>\n",
       "      <td>733.6</td>\n",
       "      <td>92.0</td>\n",
       "      <td>6.666667</td>\n",
       "      <td>59.166667</td>\n",
       "      <td>5.2</td>\n",
       "      <td>18.606195</td>\n",
       "      <td>18.606195</td>\n",
       "    </tr>\n",
       "    <tr>\n",
       "      <th>2</th>\n",
       "      <td>2016-01-11 17:20:00</td>\n",
       "      <td>50</td>\n",
       "      <td>30</td>\n",
       "      <td>19.89</td>\n",
       "      <td>46.300000</td>\n",
       "      <td>19.2</td>\n",
       "      <td>44.626667</td>\n",
       "      <td>19.79</td>\n",
       "      <td>44.933333</td>\n",
       "      <td>18.926667</td>\n",
       "      <td>...</td>\n",
       "      <td>17.000000</td>\n",
       "      <td>45.50</td>\n",
       "      <td>6.366667</td>\n",
       "      <td>733.7</td>\n",
       "      <td>92.0</td>\n",
       "      <td>6.333333</td>\n",
       "      <td>55.333333</td>\n",
       "      <td>5.1</td>\n",
       "      <td>28.642668</td>\n",
       "      <td>28.642668</td>\n",
       "    </tr>\n",
       "    <tr>\n",
       "      <th>3</th>\n",
       "      <td>2016-01-11 17:30:00</td>\n",
       "      <td>50</td>\n",
       "      <td>40</td>\n",
       "      <td>19.89</td>\n",
       "      <td>46.066667</td>\n",
       "      <td>19.2</td>\n",
       "      <td>44.590000</td>\n",
       "      <td>19.79</td>\n",
       "      <td>45.000000</td>\n",
       "      <td>18.890000</td>\n",
       "      <td>...</td>\n",
       "      <td>17.000000</td>\n",
       "      <td>45.40</td>\n",
       "      <td>6.250000</td>\n",
       "      <td>733.8</td>\n",
       "      <td>92.0</td>\n",
       "      <td>6.000000</td>\n",
       "      <td>51.500000</td>\n",
       "      <td>5.0</td>\n",
       "      <td>45.410389</td>\n",
       "      <td>45.410389</td>\n",
       "    </tr>\n",
       "    <tr>\n",
       "      <th>4</th>\n",
       "      <td>2016-01-11 17:40:00</td>\n",
       "      <td>60</td>\n",
       "      <td>40</td>\n",
       "      <td>19.89</td>\n",
       "      <td>46.333333</td>\n",
       "      <td>19.2</td>\n",
       "      <td>44.530000</td>\n",
       "      <td>19.79</td>\n",
       "      <td>45.000000</td>\n",
       "      <td>18.890000</td>\n",
       "      <td>...</td>\n",
       "      <td>17.000000</td>\n",
       "      <td>45.40</td>\n",
       "      <td>6.133333</td>\n",
       "      <td>733.9</td>\n",
       "      <td>92.0</td>\n",
       "      <td>5.666667</td>\n",
       "      <td>47.666667</td>\n",
       "      <td>4.9</td>\n",
       "      <td>10.084097</td>\n",
       "      <td>10.084097</td>\n",
       "    </tr>\n",
       "  </tbody>\n",
       "</table>\n",
       "<p>5 rows × 29 columns</p>\n",
       "</div>"
      ],
      "text/plain": [
       "                  date  Appliances  lights  Temp_kitchen  RHumid_kitchen  \\\n",
       "0  2016-01-11 17:00:00          60      30         19.89       47.596667   \n",
       "1  2016-01-11 17:10:00          60      30         19.89       46.693333   \n",
       "2  2016-01-11 17:20:00          50      30         19.89       46.300000   \n",
       "3  2016-01-11 17:30:00          50      40         19.89       46.066667   \n",
       "4  2016-01-11 17:40:00          60      40         19.89       46.333333   \n",
       "\n",
       "   Temp_living  RHumid_living  Temp_laundry  RHumid_laundry  Temp_office  ...  \\\n",
       "0         19.2      44.790000         19.79       44.730000    19.000000  ...   \n",
       "1         19.2      44.722500         19.79       44.790000    19.000000  ...   \n",
       "2         19.2      44.626667         19.79       44.933333    18.926667  ...   \n",
       "3         19.2      44.590000         19.79       45.000000    18.890000  ...   \n",
       "4         19.2      44.530000         19.79       45.000000    18.890000  ...   \n",
       "\n",
       "   Temp_parent  RHumid_parent     T_out  Press_mm_hg  RH_out  Windspeed  \\\n",
       "0    17.033333          45.53  6.600000        733.5    92.0   7.000000   \n",
       "1    17.066667          45.56  6.483333        733.6    92.0   6.666667   \n",
       "2    17.000000          45.50  6.366667        733.7    92.0   6.333333   \n",
       "3    17.000000          45.40  6.250000        733.8    92.0   6.000000   \n",
       "4    17.000000          45.40  6.133333        733.9    92.0   5.666667   \n",
       "\n",
       "   Visibility  Tdewpoint        rv1        rv2  \n",
       "0   63.000000        5.3  13.275433  13.275433  \n",
       "1   59.166667        5.2  18.606195  18.606195  \n",
       "2   55.333333        5.1  28.642668  28.642668  \n",
       "3   51.500000        5.0  45.410389  45.410389  \n",
       "4   47.666667        4.9  10.084097  10.084097  \n",
       "\n",
       "[5 rows x 29 columns]"
      ]
     },
     "execution_count": 5,
     "metadata": {},
     "output_type": "execute_result"
    }
   ],
   "source": [
    "energy=energy.rename(columns={'T1':'Temp_kitchen', 'RH_1':'RHumid_kitchen',\n",
    "                             'T2': 'Temp_living', 'RH_2': 'RHumid_living',\n",
    "                             'T3': 'Temp_laundry', 'RH_3': 'RHumid_laundry',\n",
    "                             'T4':'Temp_office', 'RH_4': 'RHumid_office',\n",
    "                             'T5': 'Temp_bath', 'RH_5': 'RHumid_bath',\n",
    "                              'T6':'Temp_outN', 'RH_6': 'RHumid_outN',\n",
    "                              'T7':'Temp_iron', 'RH_7': 'RHumid_iron',\n",
    "                              'T8': 'Temp_teen', 'RH_8': 'RHumid_teen',\n",
    "                              'T9': 'Temp_parent', 'RH_9': 'RHumid_parent', \n",
    "                             })\n",
    "energy.head()"
   ]
  },
  {
   "cell_type": "code",
   "execution_count": 6,
   "metadata": {},
   "outputs": [
    {
     "data": {
      "text/plain": [
       "date               object\n",
       "Appliances          int64\n",
       "lights              int64\n",
       "Temp_kitchen      float64\n",
       "RHumid_kitchen    float64\n",
       "Temp_living       float64\n",
       "RHumid_living     float64\n",
       "Temp_laundry      float64\n",
       "RHumid_laundry    float64\n",
       "Temp_office       float64\n",
       "RHumid_office     float64\n",
       "Temp_bath         float64\n",
       "RHumid_bath       float64\n",
       "Temp_outN         float64\n",
       "RHumid_outN       float64\n",
       "Temp_iron         float64\n",
       "RHumid_iron       float64\n",
       "Temp_teen         float64\n",
       "RHumid_teen       float64\n",
       "Temp_parent       float64\n",
       "RHumid_parent     float64\n",
       "T_out             float64\n",
       "Press_mm_hg       float64\n",
       "RH_out            float64\n",
       "Windspeed         float64\n",
       "Visibility        float64\n",
       "Tdewpoint         float64\n",
       "rv1               float64\n",
       "rv2               float64\n",
       "dtype: object"
      ]
     },
     "execution_count": 6,
     "metadata": {},
     "output_type": "execute_result"
    }
   ],
   "source": [
    "energy.dtypes"
   ]
  },
  {
   "cell_type": "code",
   "execution_count": 7,
   "metadata": {
    "collapsed": true
   },
   "outputs": [],
   "source": [
    "energy['date']=pd.to_datetime(energy['date'])"
   ]
  },
  {
   "cell_type": "markdown",
   "metadata": {},
   "source": [
    "We have a lot of features in our dataset. In order to determine which features have the biggest impact on predictions, we can use permutation importance. \n",
    "\n",
    "This works by shuffing a single feature in the data, and seeing how this impacts the final prediction performance. \n",
    "\n",
    "The higher the error obtained after this shuffle, the higher the feature importance. \n",
    "\n",
    "But first, we need to build the model."
   ]
  },
  {
   "cell_type": "markdown",
   "metadata": {},
   "source": [
    "## Building the model "
   ]
  },
  {
   "cell_type": "code",
   "execution_count": 8,
   "metadata": {},
   "outputs": [],
   "source": [
    "from sklearn.neural_network import MLPRegressor\n",
    "from sklearn.preprocessing import MinMaxScaler\n",
    "from sklearn.model_selection import train_test_split\n",
    "from sklearn.inspection import permutation_importance"
   ]
  },
  {
   "cell_type": "markdown",
   "metadata": {},
   "source": [
    "splitting our data into x and y, where y is the target variables (energy consumption of appliances and lights) and x are in the input parameters."
   ]
  },
  {
   "cell_type": "code",
   "execution_count": 9,
   "metadata": {},
   "outputs": [],
   "source": [
    "energy=energy.drop(['rv1', 'rv2', 'date'],axis=1)\n",
    "x=energy.drop(['Appliances','lights'], axis=1)\n",
    "y=energy[['Appliances','lights']]"
   ]
  },
  {
   "cell_type": "markdown",
   "metadata": {},
   "source": [
    "We need to determine how to scale our data. If the data distribution is small (eg STD near 1) we might not need data scaling. If in doubt, normalise input data. \n",
    "\n",
    "Scaling data can improve model training speed and avoid the model getting stuck during training.\n",
    "\n",
    "The scale of the output variable should match the scale of the activation function. "
   ]
  },
  {
   "cell_type": "markdown",
   "metadata": {},
   "source": [
    "## Data normalisation vs standardisation--\n",
    "\n",
    "- Normalisation- rescaling of the data from the original range so that all values are within the range of 0 and 1.\n",
    "    eg with MinMaxScaler()\n",
    "    \n",
    "    \n",
    "- Standardisation- rescaling the distribution of values so that the mean of observed values is 0 and the standard deviation is 1. Requires data to fit a Gaussian distribution.\n",
    "    eg with StandardScaler()"
   ]
  },
  {
   "cell_type": "code",
   "execution_count": 10,
   "metadata": {},
   "outputs": [
    {
     "name": "stdout",
     "output_type": "stream",
     "text": [
      "p=0.000\n",
      "Sample does not look Gaussian (reject H0)\n"
     ]
    }
   ],
   "source": [
    "from scipy import stats\n",
    "stat, p = stats.shapiro((pd.concat([x,y], axis=1)))\n",
    "print('p=%.3f' %p)\n",
    "alpha = 0.05\n",
    "if p > alpha:\n",
    "\tprint('Sample looks Gaussian (fail to reject H0)')\n",
    "else:\n",
    "\tprint('Sample does not look Gaussian (reject H0)')"
   ]
  },
  {
   "cell_type": "markdown",
   "metadata": {},
   "source": [
    "The sample is not gaussian, therefore we should not perform any standardisation techniques."
   ]
  },
  {
   "cell_type": "markdown",
   "metadata": {},
   "source": [
    "## splitting data into test and training datasets"
   ]
  },
  {
   "cell_type": "code",
   "execution_count": 11,
   "metadata": {
    "collapsed": true
   },
   "outputs": [],
   "source": [
    "i=15\n",
    "np.random.seed(i)\n",
    "\n",
    "x_train, x_test, y_train, y_test=train_test_split(x,y,test_size=0.2, random_state=i)\n",
    "scaler=MinMaxScaler()\n",
    "\n",
    "x_train_scaled=scaler.fit_transform(x_train)\n",
    "x_test_scaled=scaler.transform(x_test)"
   ]
  },
  {
   "cell_type": "markdown",
   "metadata": {},
   "source": [
    "## Building the mlp model"
   ]
  },
  {
   "cell_type": "markdown",
   "metadata": {},
   "source": [
    "Here we are simply building a baseline model. After we have determined the most important features, then we can go back and optimise the model."
   ]
  },
  {
   "cell_type": "code",
   "execution_count": 12,
   "metadata": {
    "scrolled": true
   },
   "outputs": [
    {
     "data": {
      "text/plain": [
       "MLPRegressor(max_iter=1000, random_state=15)"
      ]
     },
     "execution_count": 12,
     "metadata": {},
     "output_type": "execute_result"
    }
   ],
   "source": [
    "mlp=MLPRegressor(max_iter=1000, learning_rate_init=0.001, random_state=i,  solver='adam')\n",
    "\n",
    "mlp.fit(x_train_scaled,y_train)\n"
   ]
  },
  {
   "cell_type": "code",
   "execution_count": 13,
   "metadata": {
    "collapsed": true
   },
   "outputs": [],
   "source": [
    "predictions=mlp.predict(x_test_scaled)"
   ]
  },
  {
   "cell_type": "code",
   "execution_count": 14,
   "metadata": {},
   "outputs": [
    {
     "name": "stdout",
     "output_type": "stream",
     "text": [
      "R2 0.2099642879410436\n",
      "MAE 27.90655951880183\n"
     ]
    }
   ],
   "source": [
    "RTWO2=sklearn.metrics.r2_score(y_test,predictions)\n",
    "print('R2',RTWO2)\n",
    "print('MAE',sklearn.metrics.mean_absolute_error(y_test,predictions))"
   ]
  },
  {
   "cell_type": "markdown",
   "metadata": {},
   "source": [
    "## Permutation Importance with Sklearn"
   ]
  },
  {
   "cell_type": "markdown",
   "metadata": {},
   "source": [
    "Sklearn allows us to list out the list of all features, stating their importance with the permutation_importance function. "
   ]
  },
  {
   "cell_type": "code",
   "execution_count": 15,
   "metadata": {
    "scrolled": true
   },
   "outputs": [],
   "source": [
    "results = permutation_importance(mlp, x, y, scoring='neg_mean_squared_error')"
   ]
  },
  {
   "cell_type": "code",
   "execution_count": 19,
   "metadata": {
    "scrolled": true
   },
   "outputs": [
    {
     "name": "stdout",
     "output_type": "stream",
     "text": [
      "[14  4 11 12  8  6  7 21 22  0 19 13 23  5  2  9 17 16 18 15  1 10  3 20]\n"
     ]
    }
   ],
   "source": [
    "sorted_results_idx=results.importances_mean.argsort()\n",
    "# in order of least to most important\n",
    "\n",
    "print(sorted_results_idx)"
   ]
  },
  {
   "cell_type": "code",
   "execution_count": 20,
   "metadata": {},
   "outputs": [
    {
     "name": "stdout",
     "output_type": "stream",
     "text": [
      "Feature: 0, Score: 15163.96437\n",
      "Feature: 1, Score: 979241.48319\n",
      "Feature: 2, Score: 88478.50434\n",
      "Feature: 3, Score: 1816799.02017\n",
      "Feature: 4, Score: -47402.75872\n",
      "Feature: 5, Score: 33332.67159\n",
      "Feature: 6, Score: -12042.45418\n",
      "Feature: 7, Score: -7142.97966\n",
      "Feature: 8, Score: -21782.25606\n",
      "Feature: 9, Score: 99011.35705\n",
      "Feature: 10, Score: 1539377.19052\n",
      "Feature: 11, Score: -24493.27695\n",
      "Feature: 12, Score: -21843.19434\n",
      "Feature: 13, Score: 20916.11995\n",
      "Feature: 14, Score: -54698.25431\n",
      "Feature: 15, Score: 862799.48407\n",
      "Feature: 16, Score: 198433.84140\n",
      "Feature: 17, Score: 111994.24721\n",
      "Feature: 18, Score: 203570.96765\n",
      "Feature: 19, Score: 18994.04568\n",
      "Feature: 20, Score: 2418876.44154\n",
      "Feature: 21, Score: 3675.80897\n",
      "Feature: 22, Score: 8209.83811\n",
      "Feature: 23, Score: 32479.78161\n"
     ]
    }
   ],
   "source": [
    "importance = results.importances_mean\n",
    "for i,v in enumerate(importance):\n",
    "\tprint('Feature: %0d, Score: %.5f' % (i,v))"
   ]
  },
  {
   "cell_type": "code",
   "execution_count": 21,
   "metadata": {},
   "outputs": [
    {
     "name": "stdout",
     "output_type": "stream",
     "text": [
      "['Temp_teen', 'Temp_laundry', 'RHumid_outN', 'Temp_iron', 'Temp_bath', 'Temp_office', 'RHumid_office', 'Windspeed', 'Visibility', 'Temp_kitchen', 'Press_mm_hg', 'RHumid_iron', 'Tdewpoint', 'RHumid_laundry', 'Temp_living', 'RHumid_bath', 'RHumid_parent', 'Temp_parent', 'T_out', 'RHumid_teen', 'RHumid_kitchen', 'Temp_outN', 'RHumid_living', 'RH_out']\n"
     ]
    },
    {
     "data": {
      "image/png": "[encoded data removed]",
      "text/plain": [
       "<matplotlib.figure.Figure at 0x1e7598bda90>"
      ]
     },
     "metadata": {},
     "output_type": "display_data"
    }
   ],
   "source": [
    "labels=list( x.columns[sorted_results_idx])\n",
    "y_pos = np.arange(len(labels))\n",
    "\n",
    "print(labels)\n",
    "\n",
    "#fig, ax = plt.subplots()\n",
    "plt.barh(y_pos, results.importances_mean[sorted_results_idx], align='center')\n",
    "plt.yticks(y_pos, labels)\n",
    "plt.show()"
   ]
  },
  {
   "cell_type": "markdown",
   "metadata": {},
   "source": [
    "Here we can see the most important features are features 1, 3, 16 and 20.\n",
    "This corresponds to 'Temp_parent', 'RHumid_kitchen', 'RHumid_living', 'RH_out'."
   ]
  },
  {
   "cell_type": "markdown",
   "metadata": {},
   "source": [
    "we can also look at feature effect on predictions, which means that we hold all values constant and only vary the feature we want to study and understand."
   ]
  },
  {
   "cell_type": "markdown",
   "metadata": {},
   "source": [
    "For example if we want to look at the effect of outdoor humidity (RH_out), first we remove the target variable appliances and lights.\n",
    "\n",
    "we can then find the median of all the other variables. \n",
    "\n"
   ]
  },
  {
   "cell_type": "code",
   "execution_count": 22,
   "metadata": {},
   "outputs": [
    {
     "name": "stdout",
     "output_type": "stream",
     "text": [
      "Temp_kitchen       21.600000\n",
      "RHumid_kitchen     39.656667\n",
      "Temp_living        20.000000\n",
      "RHumid_living      40.500000\n",
      "Temp_laundry       22.100000\n",
      "RHumid_laundry     38.530000\n",
      "Temp_office        20.666667\n",
      "RHumid_office      38.400000\n",
      "Temp_bath          19.390000\n",
      "RHumid_bath        49.090000\n",
      "Temp_outN           7.300000\n",
      "RHumid_outN        55.290000\n",
      "Temp_iron          20.033333\n",
      "RHumid_iron        34.863333\n",
      "Temp_teen          22.100000\n",
      "RHumid_teen        42.375000\n",
      "Temp_parent        19.390000\n",
      "RHumid_parent      40.900000\n",
      "T_out               6.916667\n",
      "Press_mm_hg       756.100000\n",
      "RH_out             83.666667\n",
      "Windspeed           3.666667\n",
      "Visibility         40.000000\n",
      "Tdewpoint           3.433333\n",
      "dtype: float64\n"
     ]
    }
   ],
   "source": [
    "energy_features=energy.drop(['Appliances','lights'], axis=1).median()\n",
    "print(energy_features)"
   ]
  },
  {
   "cell_type": "markdown",
   "metadata": {},
   "source": [
    "we then determine the variation in RH_out."
   ]
  },
  {
   "cell_type": "code",
   "execution_count": 23,
   "metadata": {},
   "outputs": [],
   "source": [
    "minimumT, maximumT = energy['RH_out'].min(), energy['RH_out'].max()"
   ]
  },
  {
   "cell_type": "code",
   "execution_count": 24,
   "metadata": {},
   "outputs": [],
   "source": [
    "# create array of 100 values between min and max\n",
    "arr = np.arange(minimumT, maximumT, (maximumT - minimumT)/100)"
   ]
  },
  {
   "cell_type": "markdown",
   "metadata": {},
   "source": [
    "The input to the model will now be each variation plus median values for the other features held constant."
   ]
  },
  {
   "cell_type": "code",
   "execution_count": 25,
   "metadata": {},
   "outputs": [],
   "source": [
    "all_vals=list(energy.drop(['Appliances','lights'], axis=1).median().values)\n"
   ]
  },
  {
   "cell_type": "code",
   "execution_count": 26,
   "metadata": {},
   "outputs": [
    {
     "name": "stdout",
     "output_type": "stream",
     "text": [
      "      0          1     2     3     4      5          6     7      8      9   \\\n",
      "0   21.6  39.656667  20.0  40.5  22.1  38.53  20.666667  38.4  19.39  49.09   \n",
      "1   21.6  39.656667  20.0  40.5  22.1  38.53  20.666667  38.4  19.39  49.09   \n",
      "2   21.6  39.656667  20.0  40.5  22.1  38.53  20.666667  38.4  19.39  49.09   \n",
      "3   21.6  39.656667  20.0  40.5  22.1  38.53  20.666667  38.4  19.39  49.09   \n",
      "4   21.6  39.656667  20.0  40.5  22.1  38.53  20.666667  38.4  19.39  49.09   \n",
      "..   ...        ...   ...   ...   ...    ...        ...   ...    ...    ...   \n",
      "95  21.6  39.656667  20.0  40.5  22.1  38.53  20.666667  38.4  19.39  49.09   \n",
      "96  21.6  39.656667  20.0  40.5  22.1  38.53  20.666667  38.4  19.39  49.09   \n",
      "97  21.6  39.656667  20.0  40.5  22.1  38.53  20.666667  38.4  19.39  49.09   \n",
      "98  21.6  39.656667  20.0  40.5  22.1  38.53  20.666667  38.4  19.39  49.09   \n",
      "99  21.6  39.656667  20.0  40.5  22.1  38.53  20.666667  38.4  19.39  49.09   \n",
      "\n",
      "    ...    14      15     16    17        18     19     20        21    22  \\\n",
      "0   ...  22.1  42.375  19.39  40.9  6.916667  756.1  24.00  3.666667  40.0   \n",
      "1   ...  22.1  42.375  19.39  40.9  6.916667  756.1  24.76  3.666667  40.0   \n",
      "2   ...  22.1  42.375  19.39  40.9  6.916667  756.1  25.52  3.666667  40.0   \n",
      "3   ...  22.1  42.375  19.39  40.9  6.916667  756.1  26.28  3.666667  40.0   \n",
      "4   ...  22.1  42.375  19.39  40.9  6.916667  756.1  27.04  3.666667  40.0   \n",
      "..  ...   ...     ...    ...   ...       ...    ...    ...       ...   ...   \n",
      "95  ...  22.1  42.375  19.39  40.9  6.916667  756.1  96.20  3.666667  40.0   \n",
      "96  ...  22.1  42.375  19.39  40.9  6.916667  756.1  96.96  3.666667  40.0   \n",
      "97  ...  22.1  42.375  19.39  40.9  6.916667  756.1  97.72  3.666667  40.0   \n",
      "98  ...  22.1  42.375  19.39  40.9  6.916667  756.1  98.48  3.666667  40.0   \n",
      "99  ...  22.1  42.375  19.39  40.9  6.916667  756.1  99.24  3.666667  40.0   \n",
      "\n",
      "          23  \n",
      "0   3.433333  \n",
      "1   3.433333  \n",
      "2   3.433333  \n",
      "3   3.433333  \n",
      "4   3.433333  \n",
      "..       ...  \n",
      "95  3.433333  \n",
      "96  3.433333  \n",
      "97  3.433333  \n",
      "98  3.433333  \n",
      "99  3.433333  \n",
      "\n",
      "[100 rows x 24 columns]\n"
     ]
    }
   ],
   "source": [
    "input_list=[]\n",
    "for variation in arr:\n",
    "    all_vals=list(energy.drop(['Appliances','lights'], axis=1).median().values)\n",
    "    all_vals[20]=variation\n",
    "    input_list.append(all_vals)\n",
    "input_list=np.array(input_list)\n",
    "print(pd.DataFrame(input_list))"
   ]
  },
  {
   "cell_type": "markdown",
   "metadata": {},
   "source": [
    "This input list of every variation of RH out along with the constant of all other variables can be used to train the model."
   ]
  },
  {
   "cell_type": "code",
   "execution_count": 27,
   "metadata": {},
   "outputs": [],
   "source": [
    "new_model=scaler.transform(input_list)\n"
   ]
  },
  {
   "cell_type": "code",
   "execution_count": 28,
   "metadata": {
    "scrolled": true
   },
   "outputs": [],
   "source": [
    "predictions_new_model=mlp.predict(new_model)"
   ]
  },
  {
   "cell_type": "code",
   "execution_count": 29,
   "metadata": {},
   "outputs": [],
   "source": [
    "\n",
    "predictions_new_model=pd.DataFrame(predictions_new_model)\n"
   ]
  },
  {
   "cell_type": "code",
   "execution_count": 30,
   "metadata": {},
   "outputs": [
    {
     "data": {
      "image/png": "[encoded data removed]",
      "text/plain": [
       "<matplotlib.figure.Figure at 0x1e7599b9c88>"
      ]
     },
     "metadata": {},
     "output_type": "display_data"
    }
   ],
   "source": [
    "input_list_df=pd.DataFrame(input_list)\n",
    "plt.figure(figsize=(12, 6))\n",
    "sns.lineplot(input_list_df.iloc[:,20], predictions_new_model.iloc[:, 0], color='r')\n",
    "plt.xlabel(\"RH out\")\n",
    "plt.ylabel(\"Appliance Energy\")\n",
    "\n",
    "\n",
    "plt.twinx()\n",
    "sns.distplot(energy['RH_out'], kde=False, bins=10)\n",
    "plt.ylabel(\"Distribution of RH\", labelpad=7)\n",
    "plt.show()"
   ]
  },
  {
   "cell_type": "markdown",
   "metadata": {},
   "source": [
    "This plot shows us the variation of RH_out (the blue histogram) which shows that higher outdoor humidity is more common. \n",
    "The red line shows the energy consumption of appliances alongside the relative humidity. \n",
    "We can clearly see that with an increase in relative humdity, there is an increase in appliance energy. \n",
    "\n",
    "Therefore, this variable has a strong influence on our data and we should therefore keep this variable in the dataset.\n",
    "\n",
    "This process can be repeated for all variables. "
   ]
  },
  {
   "cell_type": "markdown",
   "metadata": {},
   "source": [
    "We can then try recreating the model, using only the most important variables (eg 'Temp_parent', 'RHumid_kitchen', 'RHumid_living', 'RH_out'.) and determining the performance of the model.\n"
   ]
  }
 ],
 "metadata": {
  "kernelspec": {
   "display_name": "Python 3",
   "language": "python",
   "name": "python3"
  },
  "language_info": {
   "codemirror_mode": {
    "name": "ipython",
    "version": 3
   },
   "file_extension": ".py",
   "mimetype": "text/x-python",
   "name": "python",
   "nbconvert_exporter": "python",
   "pygments_lexer": "ipython3",
   "version": "3.6.2"
  }
 },
 "nbformat": 4,
 "nbformat_minor": 2
}
