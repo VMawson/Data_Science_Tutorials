{
 "cells": [
  {
   "cell_type": "markdown",
   "metadata": {},
   "source": [
    "# Predicting Future Population Trends of the UK\n",
    "Based on data from 1950-2020, we build a regression model to predict the population from 2020-2030.\n",
    "\n",
    "\n",
    "Both Linear regression and polynomial regression techniques are trialled.\n",
    "\n"
   ]
  },
  {
   "cell_type": "code",
   "execution_count": 1,
   "metadata": {},
   "outputs": [],
   "source": [
    "#%load import.py\n",
    "import pandas as pd\n",
    "import numpy as np\n",
    "import sklearn\n",
    "import matplotlib.pyplot as plt\n",
    "import seaborn as sns"
   ]
  },
  {
   "cell_type": "code",
   "execution_count": 2,
   "metadata": {},
   "outputs": [
    {
     "data": {
      "text/html": [
       "<div>\n",
       "<style scoped>\n",
       "    .dataframe tbody tr th:only-of-type {\n",
       "        vertical-align: middle;\n",
       "    }\n",
       "\n",
       "    .dataframe tbody tr th {\n",
       "        vertical-align: top;\n",
       "    }\n",
       "\n",
       "    .dataframe thead th {\n",
       "        text-align: right;\n",
       "    }\n",
       "</style>\n",
       "<table border=\"1\" class=\"dataframe\">\n",
       "  <thead>\n",
       "    <tr style=\"text-align: right;\">\n",
       "      <th></th>\n",
       "      <th>Location</th>\n",
       "      <th>Time</th>\n",
       "      <th>PopMale</th>\n",
       "      <th>PopFemale</th>\n",
       "      <th>PopTotal</th>\n",
       "      <th>PopDensity</th>\n",
       "    </tr>\n",
       "  </thead>\n",
       "  <tbody>\n",
       "    <tr>\n",
       "      <th>0</th>\n",
       "      <td>United Kingdom</td>\n",
       "      <td>1950</td>\n",
       "      <td>24337.403</td>\n",
       "      <td>26278.616</td>\n",
       "      <td>50616.019</td>\n",
       "      <td>209.218</td>\n",
       "    </tr>\n",
       "    <tr>\n",
       "      <th>1</th>\n",
       "      <td>United Kingdom</td>\n",
       "      <td>1951</td>\n",
       "      <td>24318.326</td>\n",
       "      <td>26283.600</td>\n",
       "      <td>50601.926</td>\n",
       "      <td>209.159</td>\n",
       "    </tr>\n",
       "    <tr>\n",
       "      <th>2</th>\n",
       "      <td>United Kingdom</td>\n",
       "      <td>1952</td>\n",
       "      <td>24340.296</td>\n",
       "      <td>26310.977</td>\n",
       "      <td>50651.273</td>\n",
       "      <td>209.363</td>\n",
       "    </tr>\n",
       "    <tr>\n",
       "      <th>3</th>\n",
       "      <td>United Kingdom</td>\n",
       "      <td>1953</td>\n",
       "      <td>24393.893</td>\n",
       "      <td>26357.087</td>\n",
       "      <td>50750.980</td>\n",
       "      <td>209.775</td>\n",
       "    </tr>\n",
       "    <tr>\n",
       "      <th>4</th>\n",
       "      <td>United Kingdom</td>\n",
       "      <td>1954</td>\n",
       "      <td>24471.764</td>\n",
       "      <td>26419.147</td>\n",
       "      <td>50890.911</td>\n",
       "      <td>210.354</td>\n",
       "    </tr>\n",
       "  </tbody>\n",
       "</table>\n",
       "</div>"
      ],
      "text/plain": [
       "         Location  Time    PopMale  PopFemale   PopTotal  PopDensity\n",
       "0  United Kingdom  1950  24337.403  26278.616  50616.019     209.218\n",
       "1  United Kingdom  1951  24318.326  26283.600  50601.926     209.159\n",
       "2  United Kingdom  1952  24340.296  26310.977  50651.273     209.363\n",
       "3  United Kingdom  1953  24393.893  26357.087  50750.980     209.775\n",
       "4  United Kingdom  1954  24471.764  26419.147  50890.911     210.354"
      ]
     },
     "execution_count": 2,
     "metadata": {},
     "output_type": "execute_result"
    }
   ],
   "source": [
    "data=pd.read_csv('UK_Population_Data.csv')\n",
    "data.head()"
   ]
  },
  {
   "cell_type": "markdown",
   "metadata": {},
   "source": [
    "Taking a look at the dataset...."
   ]
  },
  {
   "cell_type": "code",
   "execution_count": 3,
   "metadata": {},
   "outputs": [],
   "source": [
    "%matplotlib inline \n",
    "#sns.scatterplot(x='Time', y='PopTotal', data=data)"
   ]
  },
  {
   "cell_type": "code",
   "execution_count": 4,
   "metadata": {},
   "outputs": [],
   "source": [
    "#sns.lineplot(x='Time', y='PopMale', data=data, label='Male Population')\n",
    "#sns.lineplot(x='Time', y='PopFemale', data=data, label='Female Population')\n",
    "#plt.xlabel(\"time\", fontsize = 10)\n",
    "#plt.legend(fontsize=10)"
   ]
  },
  {
   "cell_type": "markdown",
   "metadata": {},
   "source": [
    "## Predicting future population total, using Linear Regression"
   ]
  },
  {
   "cell_type": "code",
   "execution_count": 5,
   "metadata": {},
   "outputs": [
    {
     "name": "stdout",
     "output_type": "stream",
     "text": [
      "MSE: 1518905.587\n",
      "R^2: 0.886\n"
     ]
    }
   ],
   "source": [
    "\n",
    "from sklearn.model_selection import train_test_split \n",
    "from sklearn.linear_model import LinearRegression\n",
    "from sklearn import metrics\n",
    "\n",
    "x=data['Time']\n",
    "y=data['PopTotal']\n",
    "\n",
    "x=x[:, np.newaxis]\n",
    "y=y[:, np.newaxis]\n",
    "\n",
    "x_train, x_test, y_train, y_test = train_test_split(\n",
    "    x, y, test_size=0.2, random_state=0)\n",
    "\n",
    "regr= LinearRegression()\n",
    "regr.fit(x_train, y_train)\n",
    "\n",
    "predictions= regr.predict(x_test)\n",
    "\n",
    "#Metrics\n",
    "print('MSE: %.3f' % metrics.mean_squared_error(y_test, predictions))\n",
    "print('R^2: %.3f' % metrics.r2_score(y_test, predictions))"
   ]
  },
  {
   "cell_type": "markdown",
   "metadata": {},
   "source": [
    "This model obtains an R squared value of 0.886, which is relatively good, but lets see how it performs on new predicitions...."
   ]
  },
  {
   "cell_type": "markdown",
   "metadata": {},
   "source": [
    "Firstly plotting the data alongside the regression line, along with the 95% confidence interval..."
   ]
  },
  {
   "cell_type": "code",
   "execution_count": 6,
   "metadata": {
    "scrolled": true
   },
   "outputs": [
    {
     "data": {
      "text/plain": [
       "<matplotlib.axes._subplots.AxesSubplot at 0x14b317865f8>"
      ]
     },
     "execution_count": 6,
     "metadata": {},
     "output_type": "execute_result"
    },
    {
     "data": {
      "image/png": "[encoded data removed]",
      "text/plain": [
       "<matplotlib.figure.Figure at 0x14b3177be80>"
      ]
     },
     "metadata": {},
     "output_type": "display_data"
    }
   ],
   "source": [
    "sns.set()\n",
    "sns.regplot(x='Time', y='PopTotal', fit_reg=True,data=data, \n",
    "            scatter_kws = {\"color\": \"b\", \"alpha\": 0.3},\n",
    "            line_kws={\"color\":\"r\",\"alpha\":0.7,\"lw\":2})"
   ]
  },
  {
   "cell_type": "markdown",
   "metadata": {},
   "source": [
    "Providing the model with new data, which is the years 2021-2030."
   ]
  },
  {
   "cell_type": "code",
   "execution_count": 7,
   "metadata": {},
   "outputs": [
    {
     "data": {
      "text/plain": [
       "<matplotlib.collections.PathCollection at 0x14b31e4de48>"
      ]
     },
     "execution_count": 7,
     "metadata": {},
     "output_type": "execute_result"
    },
    {
     "data": {
      "image/png": "[encoded data removed]",
      "text/plain": [
       "<matplotlib.figure.Figure at 0x14b31da3a20>"
      ]
     },
     "metadata": {},
     "output_type": "display_data"
    }
   ],
   "source": [
    "new_x=np.array([2021,2022,2023,2025,2026,2027,2028,2029,2030])\n",
    "new_x=new_x[:, np.newaxis]\n",
    "\n",
    "new_predictions=regr.predict(new_x)\n",
    "\n",
    "plt.scatter(data['Time'], data['PopTotal'])\n",
    "plt.scatter(new_x, new_predictions)\n",
    "#sns.lineplot(x=new_x, y=new_predictions)"
   ]
  },
  {
   "cell_type": "markdown",
   "metadata": {},
   "source": [
    "The model doesnt seem to perform well on these new predictions! if the predictions are following the regression line, this leads to underestimation.\n",
    "\n",
    "Next we can look at using a polynomial regression model...."
   ]
  },
  {
   "cell_type": "markdown",
   "metadata": {},
   "source": [
    "## Polynomial Regression"
   ]
  },
  {
   "cell_type": "code",
   "execution_count": 8,
   "metadata": {},
   "outputs": [
    {
     "name": "stdout",
     "output_type": "stream",
     "text": [
      "R^2: 0.922\n"
     ]
    }
   ],
   "source": [
    "from sklearn.preprocessing import PolynomialFeatures\n",
    "polynomial_features= PolynomialFeatures(degree=2)\n",
    "\n",
    "x=data['Time']\n",
    "y=data['PopTotal']\n",
    "\n",
    "x=x[:, np.newaxis]\n",
    "y=y[:, np.newaxis]\n",
    "\n",
    "x_train, x_test, y_train, y_test = train_test_split(\n",
    "    x, y, test_size=0.2, random_state=0)\n",
    "\n",
    "x_poly_train = polynomial_features.fit_transform(x_train)\n",
    "x_poly_test = polynomial_features.fit_transform(x_test)\n",
    "\n",
    "regrP= LinearRegression()\n",
    "regrP.fit(x_poly_train, y_train)\n",
    "predictionsP=regrP.predict(x_poly_test)\n",
    "\n",
    "print('R^2: %.3f' % metrics.r2_score(y_test, predictionsP))"
   ]
  },
  {
   "cell_type": "markdown",
   "metadata": {},
   "source": [
    "The R squared value for this model is 0.922, so a lot better than our linear regression model. Lets see how it performs with new data...."
   ]
  },
  {
   "cell_type": "code",
   "execution_count": 9,
   "metadata": {},
   "outputs": [
    {
     "data": {
      "image/png": "[encoded data removed]",
      "text/plain": [
       "<matplotlib.figure.Figure at 0x14b31e17eb8>"
      ]
     },
     "metadata": {},
     "output_type": "display_data"
    }
   ],
   "source": [
    "%matplotlib inline\n",
    "\n",
    "plt.scatter(x_test, y_test, color='red', label='expected')\n",
    "plt.scatter(x_test, predictionsP, color='blue', label='regression line')\n",
    "plt.legend()\n",
    "plt.show()"
   ]
  },
  {
   "cell_type": "code",
   "execution_count": 10,
   "metadata": {},
   "outputs": [
    {
     "data": {
      "text/plain": [
       "<matplotlib.collections.PathCollection at 0x14b31ee0128>"
      ]
     },
     "execution_count": 10,
     "metadata": {},
     "output_type": "execute_result"
    },
    {
     "data": {
      "image/png": "[encoded data removed]",
      "text/plain": [
       "<matplotlib.figure.Figure at 0x14b31ec3f60>"
      ]
     },
     "metadata": {},
     "output_type": "display_data"
    }
   ],
   "source": [
    "new_x=np.array([2021,2022,2023,2025,2026,2027,2028,2029,2030])\n",
    "new_x=new_x[:, np.newaxis]\n",
    "\n",
    "x_poly_new = polynomial_features.fit_transform(new_x)\n",
    "\n",
    "new_predictionsP=regrP.predict(x_poly_new)\n",
    "#print(new_predictionsP)\n",
    "plt.scatter(data['Time'], data['PopTotal'])\n",
    "plt.scatter(new_x, new_predictionsP)"
   ]
  },
  {
   "cell_type": "markdown",
   "metadata": {},
   "source": [
    "Much better! The model is no longer underestimating the population values to such a great extent"
   ]
  }
 ],
 "metadata": {
  "kernelspec": {
   "display_name": "Python 3",
   "language": "python",
   "name": "python3"
  },
  "language_info": {
   "codemirror_mode": {
    "name": "ipython",
    "version": 3
   },
   "file_extension": ".py",
   "mimetype": "text/x-python",
   "name": "python",
   "nbconvert_exporter": "python",
   "pygments_lexer": "ipython3",
   "version": "3.6.4"
  }
 },
 "nbformat": 4,
 "nbformat_minor": 2
}
