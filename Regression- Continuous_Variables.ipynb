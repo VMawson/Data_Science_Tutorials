{
 "cells": [
  {
   "cell_type": "code",
   "execution_count": 1,
   "metadata": {
    "collapsed": true
   },
   "outputs": [],
   "source": [
    "# %load imports.py\n",
    "import pandas as pd\n",
    "import numpy as np\n",
    "import sklearn\n",
    "import matplotlib.pyplot as plt\n",
    "import seaborn as sns\n",
    "from scipy import stats"
   ]
  },
  {
   "cell_type": "markdown",
   "metadata": {},
   "source": [
    "# Regression\n",
    "Regression is used to describe the relationship between a number of independant and dependant variables, and present the releationship in the form of an equation.\n",
    "The regression equation produced can be used to make future predictions. "
   ]
  },
  {
   "cell_type": "markdown",
   "metadata": {},
   "source": [
    "Regression analysis estimates the effect of one independant variables whilst holding the other independant variables constant, in order to isolate each variable.\n",
    "\n",
    "## -- Linear Regression (ordinary least squares (OLS)/ Linear least squares)\n",
    "\n",
    "A regression with one independant variable is a linear regression model, with an equation of the form:\n",
    "\n",
    "y= mx +b + error.\n",
    "\n",
    "where b is the intercept and m the gradient of the slope.\n",
    "\n",
    "## -- Multiple Linear Regression\n",
    "\n",
    "When more than 2 independant variables are involved, it is a multiple linear regression model, with an equation of the form:\n",
    "\n",
    "y= b0 + m1x1 + m2x2 + ... mnxn + error\n",
    "\n",
    "## -- Polynomial Regression\n",
    "A form of linear regression where the relationship between variables is modelled with an nth degree polynomial. Represents a nonlinear relationship. \n",
    "eg:\n",
    "y= b0 + m1x + m2x^2 +.. mnx ^n\n",
    "\n",
    "\n",
    "\n",
    "## -- Ridge Regression\n",
    "Used for multiple regression data which is suject to multicollinearity ( when 2 or more vairables are highly linearly related). Such a correlation is undesirable in linear regression models as independant variables should be independant (and will be isolated from one another in regression analysis). This makes it difficult to determine the relationship between a variable with the dependant, as a change to one related independant variable will cause the other independant variable to change. \n",
    "\n",
    "It uses l2 regularisation, which adds a penalty to coefficents, equal to the square of the coefficients. All coefficient are shrunk by the same amount, but none are eliminated unlike lasso regression.\n",
    "\n",
    "\n",
    "\n",
    "## -- Lasso Regression\n",
    "Used for models with high multicollinearity or when you want to automate vairable selection during model creation. Lasso regression shrinks data points towards a central point- eg the mean, and produces a simpler model.\n",
    "\n",
    "It uses L1 regularisation, which adds a penalty to coefficients. Some coeffients can therefore become very small or be eliminated from the model, making the model easier to interpt than ridge regression. \n",
    "\n",
    "\n",
    "\n",
    "## -- Partial Least Squares Regression\n",
    "Used when you have a small set of dependant variables or when independant variables are highly correlated. It performs similar to principle component analysis, in that it reduces the independant variables down to a set of uncorrelated variables.\n",
    "\n",
    "\n",
    " "
   ]
  },
  {
   "cell_type": "markdown",
   "metadata": {},
   "source": [
    "## Omitted Variable Bias\n",
    "\n",
    "It is important to include all relevant variables in the model (a confounding variable- variables which impact the outcome of a model), as ommitting them can result in bias, and either suggest a false correlation, under or overestimate a correlation, or hide correlations.\n",
    "\n",
    "If the model is incorrectly built, either because confounding variables are unknown or data is not avaliable, it can result in omitted variable bias and larger residuals and we cannot trust the results of the model.\n",
    "\n",
    "For omitted variable bias to occur, the omitted variable must correlate with the dependant variable AND at least one independant variable. If the correlation is weak, the bias will also be weak.\n",
    "\n",
    "To detect variable bias, the coeffients of the model will change with the inclusion of different variable combinations. A solution is NOT to include more and more variables in the model, as in order to avoid overfitting, more and more samples need to be obtained.\n",
    "\n",
    "To ensure a model is reliable, track confidence intervals alongside bias.\n",
    "Confidence intervals give an indication of the model precision.\n",
    "\n",
    "If a confounding variable is not avaliable, replace it with a proxy variable."
   ]
  },
  {
   "cell_type": "markdown",
   "metadata": {},
   "source": [
    "## NOTE: Correlation is not causation."
   ]
  },
  {
   "cell_type": "markdown",
   "metadata": {},
   "source": [
    "# Examples"
   ]
  },
  {
   "cell_type": "markdown",
   "metadata": {},
   "source": [
    "## OLS Regression\n",
    "\n",
    "The aim is to reduce the sum of the squared residuals. Residuals are equal to the difference between the estimated and actual response of the output.\n",
    "\n",
    "R2 can be used to determine the fit of the model."
   ]
  },
  {
   "cell_type": "code",
   "execution_count": 2,
   "metadata": {},
   "outputs": [],
   "source": [
    "from sklearn.model_selection import train_test_split \n",
    "from sklearn.linear_model import LinearRegression\n",
    "from sklearn import metrics\n",
    "from sklearn.datasets import load_diabetes\n"
   ]
  },
  {
   "cell_type": "code",
   "execution_count": 3,
   "metadata": {
    "scrolled": false
   },
   "outputs": [
    {
     "data": {
      "text/plain": [
       "['age', 'sex', 'bmi', 'bp', 's1', 's2', 's3', 's4', 's5', 's6']"
      ]
     },
     "execution_count": 3,
     "metadata": {},
     "output_type": "execute_result"
    }
   ],
   "source": [
    "# using sklearn diabetes dataset\n",
    "# features in the dataset\n",
    "load_diabetes().feature_names"
   ]
  },
  {
   "cell_type": "code",
   "execution_count": 4,
   "metadata": {},
   "outputs": [
    {
     "name": "stdout",
     "output_type": "stream",
     "text": [
      "x shape: (442, 10) y shape: (442,)\n"
     ]
    }
   ],
   "source": [
    "data_x, data_y = load_diabetes(return_X_y=True)\n",
    "print('x shape:',data_x.shape , 'y shape:', data_y.shape)\n"
   ]
  },
  {
   "cell_type": "code",
   "execution_count": 5,
   "metadata": {},
   "outputs": [
    {
     "data": {
      "text/plain": [
       "(442, 1)"
      ]
     },
     "execution_count": 5,
     "metadata": {},
     "output_type": "execute_result"
    }
   ],
   "source": [
    "# using just the bp feature in this model. Needs to be a 2D array. \n",
    "# np.newaxis used to increase the dimension\n",
    "data_x_feature= data_x[:,np.newaxis, 3]\n",
    "data_x_feature.shape\n"
   ]
  },
  {
   "cell_type": "code",
   "execution_count": 6,
   "metadata": {},
   "outputs": [
    {
     "data": {
      "text/plain": [
       "(354, 1)"
      ]
     },
     "execution_count": 6,
     "metadata": {},
     "output_type": "execute_result"
    }
   ],
   "source": [
    "# first 354 variables used for training (80% of the datasample)\n",
    "data_x_train=data_x_feature[:354]\n",
    "data_x_train.shape"
   ]
  },
  {
   "cell_type": "code",
   "execution_count": 7,
   "metadata": {},
   "outputs": [
    {
     "data": {
      "text/plain": [
       "(88, 1)"
      ]
     },
     "execution_count": 7,
     "metadata": {},
     "output_type": "execute_result"
    }
   ],
   "source": [
    "#last 88 variables used for training (reminder of the dataset)\n",
    "data_x_test=data_x_feature[354:]\n",
    "data_x_test.shape"
   ]
  },
  {
   "cell_type": "code",
   "execution_count": 8,
   "metadata": {},
   "outputs": [],
   "source": [
    "data_y_train=data_y[:354]\n",
    "data_y_test=data_y[354:]"
   ]
  },
  {
   "cell_type": "code",
   "execution_count": 9,
   "metadata": {},
   "outputs": [
    {
     "name": "stdout",
     "output_type": "stream",
     "text": [
      "regression coefficient: [ 677.53659046]\n",
      "regression intercept: 151.238337806\n"
     ]
    }
   ],
   "source": [
    "# Linear Regression Model\n",
    "regr= LinearRegression()\n",
    "regr.fit(data_x_train, data_y_train)\n",
    "predictions= regr.predict(data_x_test)\n",
    "print('regression coefficient:', regr.coef_)\n",
    "print('regression intercept:', regr.intercept_)\n"
   ]
  },
  {
   "cell_type": "code",
   "execution_count": 10,
   "metadata": {},
   "outputs": [
    {
     "name": "stdout",
     "output_type": "stream",
     "text": [
      "MSE: 4852.456\n",
      "R^2: 0.250\n"
     ]
    }
   ],
   "source": [
    "#Metrics\n",
    "print('MSE: %.3f' % metrics.mean_squared_error(data_y_test, predictions))\n",
    "print('R^2: %.3f' % metrics.r2_score(data_y_test, predictions))"
   ]
  },
  {
   "cell_type": "code",
   "execution_count": 11,
   "metadata": {},
   "outputs": [
    {
     "data": {
      "image/png": "[encoded data removed]",
      "text/plain": [
       "<matplotlib.figure.Figure at 0x1977bc0eb00>"
      ]
     },
     "metadata": {},
     "output_type": "display_data"
    }
   ],
   "source": [
    "# plot results\n",
    "plt.scatter(data_x_test, data_y_test, color='red', label='expected')\n",
    "plt.plot(data_x_test, predictions, color='blue', label='regression line')\n",
    "plt.legend()\n",
    "plt.show()"
   ]
  },
  {
   "cell_type": "markdown",
   "metadata": {},
   "source": [
    "## Multiple Linear Regression"
   ]
  },
  {
   "cell_type": "code",
   "execution_count": 12,
   "metadata": {},
   "outputs": [
    {
     "name": "stdout",
     "output_type": "stream",
     "text": [
      "x shape: (442, 10) y shape: (442,)\n"
     ]
    },
    {
     "data": {
      "text/html": [
       "<div>\n",
       "<style>\n",
       "    .dataframe thead tr:only-child th {\n",
       "        text-align: right;\n",
       "    }\n",
       "\n",
       "    .dataframe thead th {\n",
       "        text-align: left;\n",
       "    }\n",
       "\n",
       "    .dataframe tbody tr th {\n",
       "        vertical-align: top;\n",
       "    }\n",
       "</style>\n",
       "<table border=\"1\" class=\"dataframe\">\n",
       "  <thead>\n",
       "    <tr style=\"text-align: right;\">\n",
       "      <th></th>\n",
       "      <th>age</th>\n",
       "      <th>sex</th>\n",
       "      <th>bmi</th>\n",
       "      <th>bp</th>\n",
       "      <th>s1</th>\n",
       "      <th>s2</th>\n",
       "      <th>s3</th>\n",
       "      <th>s4</th>\n",
       "      <th>s5</th>\n",
       "      <th>s6</th>\n",
       "    </tr>\n",
       "  </thead>\n",
       "  <tbody>\n",
       "    <tr>\n",
       "      <th>0</th>\n",
       "      <td>0.038076</td>\n",
       "      <td>0.050680</td>\n",
       "      <td>0.061696</td>\n",
       "      <td>0.021872</td>\n",
       "      <td>-0.044223</td>\n",
       "      <td>-0.034821</td>\n",
       "      <td>-0.043401</td>\n",
       "      <td>-0.002592</td>\n",
       "      <td>0.019908</td>\n",
       "      <td>-0.017646</td>\n",
       "    </tr>\n",
       "    <tr>\n",
       "      <th>1</th>\n",
       "      <td>-0.001882</td>\n",
       "      <td>-0.044642</td>\n",
       "      <td>-0.051474</td>\n",
       "      <td>-0.026328</td>\n",
       "      <td>-0.008449</td>\n",
       "      <td>-0.019163</td>\n",
       "      <td>0.074412</td>\n",
       "      <td>-0.039493</td>\n",
       "      <td>-0.068330</td>\n",
       "      <td>-0.092204</td>\n",
       "    </tr>\n",
       "    <tr>\n",
       "      <th>2</th>\n",
       "      <td>0.085299</td>\n",
       "      <td>0.050680</td>\n",
       "      <td>0.044451</td>\n",
       "      <td>-0.005671</td>\n",
       "      <td>-0.045599</td>\n",
       "      <td>-0.034194</td>\n",
       "      <td>-0.032356</td>\n",
       "      <td>-0.002592</td>\n",
       "      <td>0.002864</td>\n",
       "      <td>-0.025930</td>\n",
       "    </tr>\n",
       "    <tr>\n",
       "      <th>3</th>\n",
       "      <td>-0.089063</td>\n",
       "      <td>-0.044642</td>\n",
       "      <td>-0.011595</td>\n",
       "      <td>-0.036656</td>\n",
       "      <td>0.012191</td>\n",
       "      <td>0.024991</td>\n",
       "      <td>-0.036038</td>\n",
       "      <td>0.034309</td>\n",
       "      <td>0.022692</td>\n",
       "      <td>-0.009362</td>\n",
       "    </tr>\n",
       "    <tr>\n",
       "      <th>4</th>\n",
       "      <td>0.005383</td>\n",
       "      <td>-0.044642</td>\n",
       "      <td>-0.036385</td>\n",
       "      <td>0.021872</td>\n",
       "      <td>0.003935</td>\n",
       "      <td>0.015596</td>\n",
       "      <td>0.008142</td>\n",
       "      <td>-0.002592</td>\n",
       "      <td>-0.031991</td>\n",
       "      <td>-0.046641</td>\n",
       "    </tr>\n",
       "  </tbody>\n",
       "</table>\n",
       "</div>"
      ],
      "text/plain": [
       "        age       sex       bmi        bp        s1        s2        s3  \\\n",
       "0  0.038076  0.050680  0.061696  0.021872 -0.044223 -0.034821 -0.043401   \n",
       "1 -0.001882 -0.044642 -0.051474 -0.026328 -0.008449 -0.019163  0.074412   \n",
       "2  0.085299  0.050680  0.044451 -0.005671 -0.045599 -0.034194 -0.032356   \n",
       "3 -0.089063 -0.044642 -0.011595 -0.036656  0.012191  0.024991 -0.036038   \n",
       "4  0.005383 -0.044642 -0.036385  0.021872  0.003935  0.015596  0.008142   \n",
       "\n",
       "         s4        s5        s6  \n",
       "0 -0.002592  0.019908 -0.017646  \n",
       "1 -0.039493 -0.068330 -0.092204  \n",
       "2 -0.002592  0.002864 -0.025930  \n",
       "3  0.034309  0.022692 -0.009362  \n",
       "4 -0.002592 -0.031991 -0.046641  "
      ]
     },
     "execution_count": 12,
     "metadata": {},
     "output_type": "execute_result"
    }
   ],
   "source": [
    "# using bp and age in the diabetes regression problem\n",
    "data_x, data_y = load_diabetes(return_X_y=True)\n",
    "print('x shape:',data_x.shape , 'y shape:', data_y.shape)\n",
    "dataframe=pd.DataFrame(load_diabetes().data)\n",
    "dataframe.columns = load_diabetes().feature_names\n",
    "dataframe.head()"
   ]
  },
  {
   "cell_type": "code",
   "execution_count": 13,
   "metadata": {},
   "outputs": [
    {
     "data": {
      "text/plain": [
       "(442, 1)"
      ]
     },
     "execution_count": 13,
     "metadata": {},
     "output_type": "execute_result"
    }
   ],
   "source": [
    "# using the bp and age feature in this model. Needs to be a 2D array. \n",
    "# np.newaxis used to increase the dimension\n",
    "data_x_features= data_x[:, [0,3]]\n",
    "data_x_feature.shape"
   ]
  },
  {
   "cell_type": "code",
   "execution_count": 14,
   "metadata": {},
   "outputs": [],
   "source": [
    "# first 354 variables used for training (80% of the datasample)\n",
    "data_x_train=data_x_features[:354]\n",
    "#last 88 variables used for training (reminder of the dataset)\n",
    "data_x_test=data_x_features[354:]"
   ]
  },
  {
   "cell_type": "code",
   "execution_count": 15,
   "metadata": {
    "collapsed": true
   },
   "outputs": [],
   "source": [
    "data_y_train=data_y[:354]\n",
    "data_y_test=data_y[354:]"
   ]
  },
  {
   "cell_type": "code",
   "execution_count": 16,
   "metadata": {},
   "outputs": [
    {
     "name": "stdout",
     "output_type": "stream",
     "text": [
      "regression coefficient: [  73.47524193  653.78475709]\n",
      "regression intercept: 151.188581205\n"
     ]
    }
   ],
   "source": [
    "# Multiple Linear Regression Model\n",
    "regr= LinearRegression()\n",
    "regr.fit(data_x_train, data_y_train)\n",
    "predictions= regr.predict(data_x_test)\n",
    "print('regression coefficient:', regr.coef_)\n",
    "print('regression intercept:', regr.intercept_)"
   ]
  },
  {
   "cell_type": "code",
   "execution_count": 17,
   "metadata": {},
   "outputs": [
    {
     "name": "stdout",
     "output_type": "stream",
     "text": [
      "MSE: 4844.878\n",
      "R^2: 0.251\n"
     ]
    }
   ],
   "source": [
    "#Metrics\n",
    "print('MSE: %.3f' % metrics.mean_squared_error(data_y_test, predictions))\n",
    "print('R^2: %.3f' % metrics.r2_score(data_y_test, predictions))"
   ]
  },
  {
   "cell_type": "code",
   "execution_count": 18,
   "metadata": {},
   "outputs": [],
   "source": [
    "df = pd.DataFrame({'Actual': data_y_test, 'Predicted': predictions})\n",
    "df=df.head(20)"
   ]
  },
  {
   "cell_type": "code",
   "execution_count": 19,
   "metadata": {},
   "outputs": [
    {
     "data": {
      "image/png": "[encoded data removed]",
      "text/plain": [
       "<matplotlib.figure.Figure at 0x1977bc0e6d8>"
      ]
     },
     "metadata": {},
     "output_type": "display_data"
    }
   ],
   "source": [
    "df.plot(kind='bar')\n",
    "plt.show()"
   ]
  },
  {
   "cell_type": "markdown",
   "metadata": {},
   "source": [
    "## Polynomial Regression"
   ]
  },
  {
   "cell_type": "code",
   "execution_count": 20,
   "metadata": {},
   "outputs": [],
   "source": [
    "from sklearn.model_selection import train_test_split\n",
    "from sklearn.preprocessing import PolynomialFeatures\n",
    "import operator\n",
    "\n",
    "x = np.random.normal(0, 1, 40)\n",
    "y = x**2 - 2 * (x ** 3) "
   ]
  },
  {
   "cell_type": "code",
   "execution_count": 21,
   "metadata": {},
   "outputs": [
    {
     "data": {
      "image/png": "[encoded data removed]",
      "text/plain": [
       "<matplotlib.figure.Figure at 0x1977c2d0780>"
      ]
     },
     "metadata": {},
     "output_type": "display_data"
    }
   ],
   "source": [
    "plt.scatter(x,y, s=10)\n",
    "plt.show()"
   ]
  },
  {
   "cell_type": "code",
   "execution_count": 22,
   "metadata": {},
   "outputs": [],
   "source": [
    "x=x[:, np.newaxis]\n",
    "y=y[:, np.newaxis]\n",
    "\n",
    "x_train, x_test, y_train, y_test = train_test_split(\n",
    "    x, y, test_size=0.2, random_state=0)"
   ]
  },
  {
   "cell_type": "markdown",
   "metadata": {},
   "source": [
    "Polynomial features are features created by raising existing features to an exponent.\n",
    "ie e.g. the creation of new input features based on the existing features.\n",
    "\n",
    "the polynomial features function is used to create a feature matrix consisting of all polynomial combinations.\n",
    "\n",
    "The degree specifies the number of features added, e.g. a degree of 3 will add two new variables for each input. Default is 2 degrees. \n",
    "\n",
    "Degrees above 3 or 4 are avoided.\n"
   ]
  },
  {
   "cell_type": "code",
   "execution_count": 23,
   "metadata": {
    "collapsed": true
   },
   "outputs": [],
   "source": [
    "polynomial_features= PolynomialFeatures(degree=2)\n",
    "x_poly_train = polynomial_features.fit_transform(x_train)\n",
    "x_poly_test = polynomial_features.fit_transform(x_test)"
   ]
  },
  {
   "cell_type": "code",
   "execution_count": 24,
   "metadata": {},
   "outputs": [],
   "source": [
    "regr= LinearRegression()\n",
    "regr.fit(x_poly_train, y_train)\n",
    "predictions=regr.predict(x_poly_test)"
   ]
  },
  {
   "cell_type": "code",
   "execution_count": 25,
   "metadata": {},
   "outputs": [
    {
     "name": "stdout",
     "output_type": "stream",
     "text": [
      "regression coefficient: [[ 0.         -2.90977549  1.25757399]]\n",
      "regression intercept: [-0.269537]\n",
      "MSE: 1.012\n",
      "R^2: 0.854\n"
     ]
    }
   ],
   "source": [
    "print('regression coefficient:', regr.coef_)\n",
    "print('regression intercept:', regr.intercept_)\n",
    "print('MSE: %.3f' % metrics.mean_squared_error(y_test, predictions))\n",
    "print('R^2: %.3f' % metrics.r2_score(y_test, predictions))"
   ]
  },
  {
   "cell_type": "markdown",
   "metadata": {},
   "source": [
    "## Ridge Regression\n",
    "aims to reduce the function: \n",
    "\n",
    "(residual sum of squares) + Alpha*(sum of square of coefficients)\n",
    "\n",
    "if alpha is equal to zero, the model will be a linear regression model. This model of alpha should be optimised."
   ]
  },
  {
   "cell_type": "code",
   "execution_count": 26,
   "metadata": {},
   "outputs": [
    {
     "data": {
      "text/html": [
       "<div>\n",
       "<style>\n",
       "    .dataframe thead tr:only-child th {\n",
       "        text-align: right;\n",
       "    }\n",
       "\n",
       "    .dataframe thead th {\n",
       "        text-align: left;\n",
       "    }\n",
       "\n",
       "    .dataframe tbody tr th {\n",
       "        vertical-align: top;\n",
       "    }\n",
       "</style>\n",
       "<table border=\"1\" class=\"dataframe\">\n",
       "  <thead>\n",
       "    <tr style=\"text-align: right;\">\n",
       "      <th></th>\n",
       "      <th>CRIM</th>\n",
       "      <th>ZN</th>\n",
       "      <th>INDUS</th>\n",
       "      <th>CHAS</th>\n",
       "      <th>NOX</th>\n",
       "      <th>RM</th>\n",
       "      <th>AGE</th>\n",
       "      <th>DIS</th>\n",
       "      <th>RAD</th>\n",
       "      <th>TAX</th>\n",
       "      <th>PTRATIO</th>\n",
       "      <th>B</th>\n",
       "      <th>LSTAT</th>\n",
       "    </tr>\n",
       "  </thead>\n",
       "  <tbody>\n",
       "    <tr>\n",
       "      <th>0</th>\n",
       "      <td>0.00632</td>\n",
       "      <td>18.0</td>\n",
       "      <td>2.31</td>\n",
       "      <td>0.0</td>\n",
       "      <td>0.538</td>\n",
       "      <td>6.575</td>\n",
       "      <td>65.2</td>\n",
       "      <td>4.0900</td>\n",
       "      <td>1.0</td>\n",
       "      <td>296.0</td>\n",
       "      <td>15.3</td>\n",
       "      <td>396.90</td>\n",
       "      <td>4.98</td>\n",
       "    </tr>\n",
       "    <tr>\n",
       "      <th>1</th>\n",
       "      <td>0.02731</td>\n",
       "      <td>0.0</td>\n",
       "      <td>7.07</td>\n",
       "      <td>0.0</td>\n",
       "      <td>0.469</td>\n",
       "      <td>6.421</td>\n",
       "      <td>78.9</td>\n",
       "      <td>4.9671</td>\n",
       "      <td>2.0</td>\n",
       "      <td>242.0</td>\n",
       "      <td>17.8</td>\n",
       "      <td>396.90</td>\n",
       "      <td>9.14</td>\n",
       "    </tr>\n",
       "    <tr>\n",
       "      <th>2</th>\n",
       "      <td>0.02729</td>\n",
       "      <td>0.0</td>\n",
       "      <td>7.07</td>\n",
       "      <td>0.0</td>\n",
       "      <td>0.469</td>\n",
       "      <td>7.185</td>\n",
       "      <td>61.1</td>\n",
       "      <td>4.9671</td>\n",
       "      <td>2.0</td>\n",
       "      <td>242.0</td>\n",
       "      <td>17.8</td>\n",
       "      <td>392.83</td>\n",
       "      <td>4.03</td>\n",
       "    </tr>\n",
       "    <tr>\n",
       "      <th>3</th>\n",
       "      <td>0.03237</td>\n",
       "      <td>0.0</td>\n",
       "      <td>2.18</td>\n",
       "      <td>0.0</td>\n",
       "      <td>0.458</td>\n",
       "      <td>6.998</td>\n",
       "      <td>45.8</td>\n",
       "      <td>6.0622</td>\n",
       "      <td>3.0</td>\n",
       "      <td>222.0</td>\n",
       "      <td>18.7</td>\n",
       "      <td>394.63</td>\n",
       "      <td>2.94</td>\n",
       "    </tr>\n",
       "    <tr>\n",
       "      <th>4</th>\n",
       "      <td>0.06905</td>\n",
       "      <td>0.0</td>\n",
       "      <td>2.18</td>\n",
       "      <td>0.0</td>\n",
       "      <td>0.458</td>\n",
       "      <td>7.147</td>\n",
       "      <td>54.2</td>\n",
       "      <td>6.0622</td>\n",
       "      <td>3.0</td>\n",
       "      <td>222.0</td>\n",
       "      <td>18.7</td>\n",
       "      <td>396.90</td>\n",
       "      <td>5.33</td>\n",
       "    </tr>\n",
       "  </tbody>\n",
       "</table>\n",
       "</div>"
      ],
      "text/plain": [
       "      CRIM    ZN  INDUS  CHAS    NOX     RM   AGE     DIS  RAD    TAX  \\\n",
       "0  0.00632  18.0   2.31   0.0  0.538  6.575  65.2  4.0900  1.0  296.0   \n",
       "1  0.02731   0.0   7.07   0.0  0.469  6.421  78.9  4.9671  2.0  242.0   \n",
       "2  0.02729   0.0   7.07   0.0  0.469  7.185  61.1  4.9671  2.0  242.0   \n",
       "3  0.03237   0.0   2.18   0.0  0.458  6.998  45.8  6.0622  3.0  222.0   \n",
       "4  0.06905   0.0   2.18   0.0  0.458  7.147  54.2  6.0622  3.0  222.0   \n",
       "\n",
       "   PTRATIO       B  LSTAT  \n",
       "0     15.3  396.90   4.98  \n",
       "1     17.8  396.90   9.14  \n",
       "2     17.8  392.83   4.03  \n",
       "3     18.7  394.63   2.94  \n",
       "4     18.7  396.90   5.33  "
      ]
     },
     "execution_count": 26,
     "metadata": {},
     "output_type": "execute_result"
    }
   ],
   "source": [
    "# looking at boston housing data\n",
    "from sklearn.datasets import load_boston\n",
    "from sklearn.model_selection import GridSearchCV\n",
    "from sklearn.linear_model import Ridge\n",
    "boston_data = pd.DataFrame(load_boston().data)\n",
    "boston_data.columns = load_boston().feature_names\n",
    "boston_data.head()"
   ]
  },
  {
   "cell_type": "code",
   "execution_count": 27,
   "metadata": {},
   "outputs": [],
   "source": [
    "# the target here is house price\n",
    "boston_target=load_boston().target"
   ]
  },
  {
   "cell_type": "code",
   "execution_count": 28,
   "metadata": {},
   "outputs": [],
   "source": [
    "x_data=boston_data[['RM','CRIM']]"
   ]
  },
  {
   "cell_type": "code",
   "execution_count": 29,
   "metadata": {},
   "outputs": [
    {
     "data": {
      "image/png": "[encoded data removed]",
      "text/plain": [
       "<matplotlib.figure.Figure at 0x1977c465518>"
      ]
     },
     "metadata": {},
     "output_type": "display_data"
    }
   ],
   "source": [
    "plt.scatter(boston_data['RM'], boston_target)\n",
    "plt.xlabel('number of rooms per house')\n",
    "plt.ylabel('house price')\n",
    "plt.show()"
   ]
  },
  {
   "cell_type": "code",
   "execution_count": 30,
   "metadata": {},
   "outputs": [
    {
     "data": {
      "image/png": "[encoded data removed]",
      "text/plain": [
       "<matplotlib.figure.Figure at 0x1977c4a0d30>"
      ]
     },
     "metadata": {},
     "output_type": "display_data"
    }
   ],
   "source": [
    "plt.scatter(boston_data['CRIM'], boston_target)\n",
    "plt.xlabel('crime rate')\n",
    "plt.ylabel('house price')\n",
    "plt.show()"
   ]
  },
  {
   "cell_type": "code",
   "execution_count": 31,
   "metadata": {
    "collapsed": true
   },
   "outputs": [],
   "source": [
    "x_train, x_test, y_train, y_test = train_test_split(x_data, boston_target, test_size = 0.2, random_state = 5)"
   ]
  },
  {
   "cell_type": "code",
   "execution_count": 32,
   "metadata": {},
   "outputs": [],
   "source": [
    "ridge=Ridge()"
   ]
  },
  {
   "cell_type": "code",
   "execution_count": 33,
   "metadata": {},
   "outputs": [
    {
     "name": "stdout",
     "output_type": "stream",
     "text": [
      "best params:  {'alpha': 5}\n",
      "best score (MSE):  -43.2980371109\n"
     ]
    }
   ],
   "source": [
    "# find the value of alpha to use\n",
    "params= {'alpha': [1e-15, 1e-13, 1e-11, 1e-9, 1e-7, 1e-5, 1e-3, 1e-1, 1, 5, 10, 20]}\n",
    "ridge_CV= GridSearchCV(ridge, params, cv=3, scoring='neg_mean_squared_error')\n",
    "ridge_CV.fit(x_train, y_train)\n",
    "print('best params: ', ridge_CV.best_params_)\n",
    "print('best score (MSE): ', ridge_CV.best_score_)\n"
   ]
  },
  {
   "cell_type": "code",
   "execution_count": 34,
   "metadata": {},
   "outputs": [
    {
     "name": "stdout",
     "output_type": "stream",
     "text": [
      "regression coefficient: [[ 0.         -2.90977549  1.25757399]]\n",
      "regression intercept: [-0.269537]\n",
      "MSE: 25.449\n",
      "R^2: 0.675\n"
     ]
    }
   ],
   "source": [
    "# develop model\n",
    "ridge=Ridge(alpha=5)\n",
    "ridge.fit(x_train, y_train)\n",
    "predictions=ridge.predict(x_test)\n",
    "print('regression coefficient:', regr.coef_)\n",
    "print('regression intercept:', regr.intercept_)\n",
    "print('MSE: %.3f' % metrics.mean_squared_error(y_test, predictions))\n",
    "print('R^2: %.3f' % metrics.r2_score(y_test, predictions))"
   ]
  },
  {
   "cell_type": "code",
   "execution_count": 35,
   "metadata": {},
   "outputs": [
    {
     "data": {
      "image/png": "[encoded data removed]",
      "text/plain": [
       "<matplotlib.figure.Figure at 0x1977c51c5f8>"
      ]
     },
     "metadata": {},
     "output_type": "display_data"
    }
   ],
   "source": [
    "df = pd.DataFrame({'Actual': y_test, 'Predicted': predictions})\n",
    "df=df.head(20)\n",
    "df.plot(kind='bar')\n",
    "plt.show()"
   ]
  },
  {
   "cell_type": "markdown",
   "metadata": {},
   "source": [
    "## Lasso\n",
    "The lasso model is similar to ridge, utilising the Lasso() function from sklearn"
   ]
  },
  {
   "cell_type": "code",
   "execution_count": 36,
   "metadata": {
    "collapsed": true
   },
   "outputs": [],
   "source": [
    "from sklearn.linear_model import Lasso\n",
    "lasso=Lasso()"
   ]
  },
  {
   "cell_type": "code",
   "execution_count": 37,
   "metadata": {},
   "outputs": [
    {
     "name": "stdout",
     "output_type": "stream",
     "text": [
      "best params:  {'alpha': 0.1}\n",
      "best score (MSE):  -43.2936279425\n"
     ]
    }
   ],
   "source": [
    "params= {'alpha': [1e-13, 1e-11, 1e-9, 1e-7, 1e-5, 1e-3, 1e-1, 1, 5, 10, 20]}\n",
    "lasso_CV= GridSearchCV(lasso, params, cv=3, scoring='neg_mean_squared_error')\n",
    "lasso_CV.fit(x_train, y_train)\n",
    "print('best params: ', lasso_CV.best_params_)\n",
    "print('best score (MSE): ', lasso_CV.best_score_)"
   ]
  },
  {
   "cell_type": "code",
   "execution_count": 38,
   "metadata": {},
   "outputs": [
    {
     "name": "stdout",
     "output_type": "stream",
     "text": [
      "regression coefficient: [ 7.9397298 -0.2957159]\n",
      "regression intercept: -26.2391430924\n",
      "MSE: 25.425\n",
      "R^2: 0.675\n"
     ]
    }
   ],
   "source": [
    "lasso=Lasso(alpha=0.1)\n",
    "lasso.fit(x_train, y_train)\n",
    "predictions=lasso.predict(x_test)\n",
    "print('regression coefficient:', lasso.coef_)\n",
    "print('regression intercept:', lasso.intercept_)\n",
    "print('MSE: %.3f' % metrics.mean_squared_error(y_test, predictions))\n",
    "print('R^2: %.3f' % metrics.r2_score(y_test, predictions))"
   ]
  },
  {
   "cell_type": "code",
   "execution_count": 39,
   "metadata": {},
   "outputs": [
    {
     "data": {
      "image/png": "[encoded data removed]",
      "text/plain": [
       "<matplotlib.figure.Figure at 0x1977c6e90f0>"
      ]
     },
     "metadata": {},
     "output_type": "display_data"
    }
   ],
   "source": [
    "df = pd.DataFrame({'Actual': y_test, 'Predicted': predictions})\n",
    "df=df.head(20)\n",
    "df.plot(kind='bar')\n",
    "plt.show()"
   ]
  }
 ],
 "metadata": {
  "kernelspec": {
   "display_name": "Python 3",
   "language": "python",
   "name": "python3"
  },
  "language_info": {
   "codemirror_mode": {
    "name": "ipython",
    "version": 3
   },
   "file_extension": ".py",
   "mimetype": "text/x-python",
   "name": "python",
   "nbconvert_exporter": "python",
   "pygments_lexer": "ipython3",
   "version": "3.6.2"
  }
 },
 "nbformat": 4,
 "nbformat_minor": 2
}
